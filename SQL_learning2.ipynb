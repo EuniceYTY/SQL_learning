{
  "nbformat": 4,
  "nbformat_minor": 0,
  "metadata": {
    "colab": {
      "name": "Lab18_Databases2.ipynb",
      "provenance": [],
      "collapsed_sections": []
    },
    "kernelspec": {
      "display_name": "Python 3",
      "language": "python",
      "name": "python3"
    }
  },
  "cells": [
    {
      "cell_type": "markdown",
      "metadata": {
        "id": "4_Sno6yG57eb"
      },
      "source": [
        "# Databases 2\n",
        "\n",
        "In order to look at multi-table join queries, we are going to again create a simple, toy SQLite database."
      ]
    },
    {
      "cell_type": "code",
      "metadata": {
        "id": "aI4V3Xjw6ZiQ",
        "outputId": "ec457f1d-fb12-48f7-c51a-5efbb9e22d7a",
        "colab": {
          "base_uri": "https://localhost:8080/",
          "height": 173
        }
      },
      "source": [
        "!pip install mechanize"
      ],
      "execution_count": null,
      "outputs": [
        {
          "output_type": "stream",
          "text": [
            "Collecting mechanize\n",
            "\u001b[?25l  Downloading https://files.pythonhosted.org/packages/13/08/77368b47ba2f9e0c03f33902ed2c8e0fa83d15d81dcf7fe102b40778d810/mechanize-0.4.5-py2.py3-none-any.whl (109kB)\n",
            "\r\u001b[K     |███                             | 10kB 18.1MB/s eta 0:00:01\r\u001b[K     |██████                          | 20kB 1.6MB/s eta 0:00:01\r\u001b[K     |█████████                       | 30kB 2.1MB/s eta 0:00:01\r\u001b[K     |████████████                    | 40kB 1.6MB/s eta 0:00:01\r\u001b[K     |███████████████                 | 51kB 1.8MB/s eta 0:00:01\r\u001b[K     |██████████████████              | 61kB 2.2MB/s eta 0:00:01\r\u001b[K     |█████████████████████           | 71kB 2.4MB/s eta 0:00:01\r\u001b[K     |████████████████████████        | 81kB 2.5MB/s eta 0:00:01\r\u001b[K     |███████████████████████████     | 92kB 2.8MB/s eta 0:00:01\r\u001b[K     |██████████████████████████████  | 102kB 2.8MB/s eta 0:00:01\r\u001b[K     |████████████████████████████████| 112kB 2.8MB/s \n",
            "\u001b[?25hRequirement already satisfied: html5lib>=0.999999999 in /usr/local/lib/python3.6/dist-packages (from mechanize) (1.0.1)\n",
            "Requirement already satisfied: webencodings in /usr/local/lib/python3.6/dist-packages (from html5lib>=0.999999999->mechanize) (0.5.1)\n",
            "Requirement already satisfied: six>=1.9 in /usr/local/lib/python3.6/dist-packages (from html5lib>=0.999999999->mechanize) (1.12.0)\n",
            "Installing collected packages: mechanize\n",
            "Successfully installed mechanize-0.4.5\n"
          ],
          "name": "stdout"
        }
      ]
    },
    {
      "cell_type": "code",
      "metadata": {
        "id": "zkTwpnJ857ed"
      },
      "source": [
        "import sqlalchemy"
      ],
      "execution_count": null,
      "outputs": []
    },
    {
      "cell_type": "markdown",
      "metadata": {
        "id": "R5jz72Cm57eh"
      },
      "source": [
        "The database will be stored in the file `boat_rental.db` in the local directory."
      ]
    },
    {
      "cell_type": "code",
      "metadata": {
        "id": "-avl34nn57ei"
      },
      "source": [
        "# Delete the database if it already exists.\n",
        "from pathlib import Path\n",
        "dbfile = Path(\"boat_rental.db\")\n",
        "if dbfile.exists():\n",
        "    dbfile.unlink()\n",
        "\n",
        "sqlite_uri = \"sqlite:///boat_rental.db\"\n",
        "sqlite_engine = sqlalchemy.create_engine(sqlite_uri)"
      ],
      "execution_count": null,
      "outputs": []
    },
    {
      "cell_type": "markdown",
      "metadata": {
        "id": "KqzyTIua57ek"
      },
      "source": [
        "Our boat rental buisness needs to store data in 3 tables, one holds information about the renters (sailors), a seconds holds information about the boats and the third gives details of rental transactions."
      ]
    },
    {
      "cell_type": "code",
      "metadata": {
        "id": "boLswF8d57em"
      },
      "source": [
        "sql_expr = \"\"\"\n",
        "CREATE TABLE sailors(\n",
        "    sid INTEGER PRIMARY KEY, -- Sailor ID Number\n",
        "    sname TEXT, -- Sailor Name\n",
        "    rating INTEGER, -- Sailor skill rating\n",
        "    age INTEGER); \n",
        "\n",
        "\"\"\"\n",
        "result = sqlite_engine.execute(sql_expr)"
      ],
      "execution_count": null,
      "outputs": []
    },
    {
      "cell_type": "code",
      "metadata": {
        "id": "qv4Pqk6j57eo"
      },
      "source": [
        "sql_expr = \"\"\"\n",
        "CREATE TABLE boats(\n",
        "    bid INTEGER PRIMARY KEY, -- Boat ID Number\n",
        "    bname TEXT, -- Boat Name\n",
        "    bcolor TEXT);\n",
        "\"\"\"\n",
        "result = sqlite_engine.execute(sql_expr)"
      ],
      "execution_count": null,
      "outputs": []
    },
    {
      "cell_type": "code",
      "metadata": {
        "id": "YKUlgQGu57er"
      },
      "source": [
        "sql_expr = \"\"\"\n",
        "CREATE TABLE reserves(\n",
        "    sid INTEGER,\n",
        "    bid INTEGER,\n",
        "    day DATE,\n",
        "    PRIMARY KEY(sid, bid, day),\n",
        "    FOREIGN KEY (sid) REFERENCES sailors,\n",
        "    FOREIGN KEY (bid) REFERENCES boats);\n",
        "\"\"\"\n",
        "result = sqlite_engine.execute(sql_expr)"
      ],
      "execution_count": null,
      "outputs": []
    },
    {
      "cell_type": "markdown",
      "metadata": {
        "id": "T-7xk8E757eu"
      },
      "source": [
        "Let's double-check the schema of our tables to make sure they are correct."
      ]
    },
    {
      "cell_type": "code",
      "metadata": {
        "id": "IptPeMYx57ev",
        "outputId": "b38cc5d1-c981-453d-e8e8-11eb6566ec6a",
        "colab": {
          "base_uri": "https://localhost:8080/",
          "height": 34
        }
      },
      "source": [
        "inspector = sqlalchemy.inspect(sqlite_engine)\n",
        "inspector.get_table_names()"
      ],
      "execution_count": null,
      "outputs": [
        {
          "output_type": "execute_result",
          "data": {
            "text/plain": [
              "['boats', 'reserves', 'sailors']"
            ]
          },
          "metadata": {
            "tags": []
          },
          "execution_count": 7
        }
      ]
    },
    {
      "cell_type": "code",
      "metadata": {
        "id": "FTiSS3F457e0",
        "outputId": "4e6390cb-899a-4186-ca8e-acb33646794c",
        "colab": {
          "base_uri": "https://localhost:8080/",
          "height": 238
        }
      },
      "source": [
        "# Get column information\n",
        "print('sailors = ')\n",
        "for col in inspector.get_columns(\"sailors\"):\n",
        "    print(col)\n",
        "\n",
        "print('boats = ')\n",
        "for col in inspector.get_columns(\"boats\"):\n",
        "    print(col)\n",
        "    \n",
        "print('reserves = ')\n",
        "for col in inspector.get_columns(\"reserves\"):\n",
        "    print(col)"
      ],
      "execution_count": null,
      "outputs": [
        {
          "output_type": "stream",
          "text": [
            "sailors = \n",
            "{'name': 'sid', 'type': INTEGER(), 'nullable': True, 'default': None, 'autoincrement': 'auto', 'primary_key': 1}\n",
            "{'name': 'sname', 'type': TEXT(), 'nullable': True, 'default': None, 'autoincrement': 'auto', 'primary_key': 0}\n",
            "{'name': 'rating', 'type': INTEGER(), 'nullable': True, 'default': None, 'autoincrement': 'auto', 'primary_key': 0}\n",
            "{'name': 'age', 'type': INTEGER(), 'nullable': True, 'default': None, 'autoincrement': 'auto', 'primary_key': 0}\n",
            "boats = \n",
            "{'name': 'bid', 'type': INTEGER(), 'nullable': True, 'default': None, 'autoincrement': 'auto', 'primary_key': 1}\n",
            "{'name': 'bname', 'type': TEXT(), 'nullable': True, 'default': None, 'autoincrement': 'auto', 'primary_key': 0}\n",
            "{'name': 'bcolor', 'type': TEXT(), 'nullable': True, 'default': None, 'autoincrement': 'auto', 'primary_key': 0}\n",
            "reserves = \n",
            "{'name': 'sid', 'type': INTEGER(), 'nullable': True, 'default': None, 'autoincrement': 'auto', 'primary_key': 1}\n",
            "{'name': 'bid', 'type': INTEGER(), 'nullable': True, 'default': None, 'autoincrement': 'auto', 'primary_key': 2}\n",
            "{'name': 'day', 'type': DATE(), 'nullable': True, 'default': None, 'autoincrement': 'auto', 'primary_key': 3}\n"
          ],
          "name": "stdout"
        }
      ]
    },
    {
      "cell_type": "markdown",
      "metadata": {
        "id": "7VqLM5lx57e4"
      },
      "source": [
        "Now let's populate our tables with data."
      ]
    },
    {
      "cell_type": "code",
      "metadata": {
        "id": "NMvRl9dL57e5"
      },
      "source": [
        "sql_expr = \"\"\"\n",
        "INSERT INTO sailors VALUES \n",
        "  (1, 'Susan', 7, 24),\n",
        "  (2, 'Jim', 2, 35),\n",
        "  (3, 'Nancy', 8, 41),\n",
        "  (4, 'Dustin', 7, 35),\n",
        "  (5, 'Lubber', 8, 50),\n",
        "  (6, 'Rusty', 10, 69);\n",
        "  \n",
        "\"\"\"\n",
        "result = sqlite_engine.execute(sql_expr)"
      ],
      "execution_count": null,
      "outputs": []
    },
    {
      "cell_type": "code",
      "metadata": {
        "id": "ZRxNupnQ57e8"
      },
      "source": [
        "sql_expr = \"\"\"\n",
        "INSERT INTO boats VALUES\n",
        "  (101, 'Nina', 'red'),\n",
        "  (102, 'Pinta', 'blue'),\n",
        "  (103, 'Santa Maria', 'red');\n",
        "\"\"\"\n",
        "result = sqlite_engine.execute(sql_expr)"
      ],
      "execution_count": null,
      "outputs": []
    },
    {
      "cell_type": "code",
      "metadata": {
        "id": "G0bz0iJa57e-"
      },
      "source": [
        "sql_expr = \"\"\"\n",
        "INSERT INTO reserves VALUES\n",
        "  (5, 102, '7/1/18'),\n",
        "  (1, 103, '7/1/18'),\n",
        "  (6, 101, '7/4/18'),\n",
        "  (3, 102, '7/5/18');\n",
        "\"\"\"\n",
        "result = sqlite_engine.execute(sql_expr)"
      ],
      "execution_count": null,
      "outputs": []
    },
    {
      "cell_type": "markdown",
      "metadata": {
        "id": "xgY0wZNs57fA"
      },
      "source": [
        "And display the information in our tables."
      ]
    },
    {
      "cell_type": "code",
      "metadata": {
        "id": "9oW9sTVF57fB",
        "outputId": "302c2bc8-56a3-4671-d02e-3d2953308792",
        "colab": {
          "base_uri": "https://localhost:8080/",
          "height": 235
        }
      },
      "source": [
        "import pandas as pd\n",
        "\n",
        "sql_expr = \"\"\"\n",
        "SELECT * FROM sailors;\n",
        "\"\"\"\n",
        "pd.read_sql(sql_expr, sqlite_engine)"
      ],
      "execution_count": null,
      "outputs": [
        {
          "output_type": "execute_result",
          "data": {
            "text/html": [
              "<div>\n",
              "<style scoped>\n",
              "    .dataframe tbody tr th:only-of-type {\n",
              "        vertical-align: middle;\n",
              "    }\n",
              "\n",
              "    .dataframe tbody tr th {\n",
              "        vertical-align: top;\n",
              "    }\n",
              "\n",
              "    .dataframe thead th {\n",
              "        text-align: right;\n",
              "    }\n",
              "</style>\n",
              "<table border=\"1\" class=\"dataframe\">\n",
              "  <thead>\n",
              "    <tr style=\"text-align: right;\">\n",
              "      <th></th>\n",
              "      <th>sid</th>\n",
              "      <th>sname</th>\n",
              "      <th>rating</th>\n",
              "      <th>age</th>\n",
              "    </tr>\n",
              "  </thead>\n",
              "  <tbody>\n",
              "    <tr>\n",
              "      <th>0</th>\n",
              "      <td>1</td>\n",
              "      <td>Susan</td>\n",
              "      <td>7</td>\n",
              "      <td>24</td>\n",
              "    </tr>\n",
              "    <tr>\n",
              "      <th>1</th>\n",
              "      <td>2</td>\n",
              "      <td>Jim</td>\n",
              "      <td>2</td>\n",
              "      <td>35</td>\n",
              "    </tr>\n",
              "    <tr>\n",
              "      <th>2</th>\n",
              "      <td>3</td>\n",
              "      <td>Nancy</td>\n",
              "      <td>8</td>\n",
              "      <td>41</td>\n",
              "    </tr>\n",
              "    <tr>\n",
              "      <th>3</th>\n",
              "      <td>4</td>\n",
              "      <td>Dustin</td>\n",
              "      <td>7</td>\n",
              "      <td>35</td>\n",
              "    </tr>\n",
              "    <tr>\n",
              "      <th>4</th>\n",
              "      <td>5</td>\n",
              "      <td>Lubber</td>\n",
              "      <td>8</td>\n",
              "      <td>50</td>\n",
              "    </tr>\n",
              "    <tr>\n",
              "      <th>5</th>\n",
              "      <td>6</td>\n",
              "      <td>Rusty</td>\n",
              "      <td>10</td>\n",
              "      <td>69</td>\n",
              "    </tr>\n",
              "  </tbody>\n",
              "</table>\n",
              "</div>"
            ],
            "text/plain": [
              "   sid   sname  rating  age\n",
              "0    1   Susan       7   24\n",
              "1    2     Jim       2   35\n",
              "2    3   Nancy       8   41\n",
              "3    4  Dustin       7   35\n",
              "4    5  Lubber       8   50\n",
              "5    6   Rusty      10   69"
            ]
          },
          "metadata": {
            "tags": []
          },
          "execution_count": 12
        }
      ]
    },
    {
      "cell_type": "code",
      "metadata": {
        "id": "Z0PNhdlL57fF",
        "outputId": "99941426-c3cc-42a8-c8a3-c3440943fccd",
        "colab": {
          "base_uri": "https://localhost:8080/",
          "height": 142
        }
      },
      "source": [
        "sql_expr = \"\"\"\n",
        "SELECT * FROM boats;\n",
        "\"\"\"\n",
        "pd.read_sql(sql_expr, sqlite_engine)"
      ],
      "execution_count": null,
      "outputs": [
        {
          "output_type": "execute_result",
          "data": {
            "text/html": [
              "<div>\n",
              "<style scoped>\n",
              "    .dataframe tbody tr th:only-of-type {\n",
              "        vertical-align: middle;\n",
              "    }\n",
              "\n",
              "    .dataframe tbody tr th {\n",
              "        vertical-align: top;\n",
              "    }\n",
              "\n",
              "    .dataframe thead th {\n",
              "        text-align: right;\n",
              "    }\n",
              "</style>\n",
              "<table border=\"1\" class=\"dataframe\">\n",
              "  <thead>\n",
              "    <tr style=\"text-align: right;\">\n",
              "      <th></th>\n",
              "      <th>bid</th>\n",
              "      <th>bname</th>\n",
              "      <th>bcolor</th>\n",
              "    </tr>\n",
              "  </thead>\n",
              "  <tbody>\n",
              "    <tr>\n",
              "      <th>0</th>\n",
              "      <td>101</td>\n",
              "      <td>Nina</td>\n",
              "      <td>red</td>\n",
              "    </tr>\n",
              "    <tr>\n",
              "      <th>1</th>\n",
              "      <td>102</td>\n",
              "      <td>Pinta</td>\n",
              "      <td>blue</td>\n",
              "    </tr>\n",
              "    <tr>\n",
              "      <th>2</th>\n",
              "      <td>103</td>\n",
              "      <td>Santa Maria</td>\n",
              "      <td>red</td>\n",
              "    </tr>\n",
              "  </tbody>\n",
              "</table>\n",
              "</div>"
            ],
            "text/plain": [
              "   bid        bname bcolor\n",
              "0  101         Nina    red\n",
              "1  102        Pinta   blue\n",
              "2  103  Santa Maria    red"
            ]
          },
          "metadata": {
            "tags": []
          },
          "execution_count": 13
        }
      ]
    },
    {
      "cell_type": "code",
      "metadata": {
        "id": "GBx7XVy357fJ",
        "outputId": "7abb7818-c35d-43b3-87fe-876f3bf3663e",
        "colab": {
          "base_uri": "https://localhost:8080/",
          "height": 173
        }
      },
      "source": [
        "sql_expr = \"\"\"\n",
        "SELECT * FROM reserves;\n",
        "\"\"\"\n",
        "pd.read_sql(sql_expr, sqlite_engine)"
      ],
      "execution_count": null,
      "outputs": [
        {
          "output_type": "execute_result",
          "data": {
            "text/html": [
              "<div>\n",
              "<style scoped>\n",
              "    .dataframe tbody tr th:only-of-type {\n",
              "        vertical-align: middle;\n",
              "    }\n",
              "\n",
              "    .dataframe tbody tr th {\n",
              "        vertical-align: top;\n",
              "    }\n",
              "\n",
              "    .dataframe thead th {\n",
              "        text-align: right;\n",
              "    }\n",
              "</style>\n",
              "<table border=\"1\" class=\"dataframe\">\n",
              "  <thead>\n",
              "    <tr style=\"text-align: right;\">\n",
              "      <th></th>\n",
              "      <th>sid</th>\n",
              "      <th>bid</th>\n",
              "      <th>day</th>\n",
              "    </tr>\n",
              "  </thead>\n",
              "  <tbody>\n",
              "    <tr>\n",
              "      <th>0</th>\n",
              "      <td>5</td>\n",
              "      <td>102</td>\n",
              "      <td>7/1/18</td>\n",
              "    </tr>\n",
              "    <tr>\n",
              "      <th>1</th>\n",
              "      <td>1</td>\n",
              "      <td>103</td>\n",
              "      <td>7/1/18</td>\n",
              "    </tr>\n",
              "    <tr>\n",
              "      <th>2</th>\n",
              "      <td>6</td>\n",
              "      <td>101</td>\n",
              "      <td>7/4/18</td>\n",
              "    </tr>\n",
              "    <tr>\n",
              "      <th>3</th>\n",
              "      <td>3</td>\n",
              "      <td>102</td>\n",
              "      <td>7/5/18</td>\n",
              "    </tr>\n",
              "  </tbody>\n",
              "</table>\n",
              "</div>"
            ],
            "text/plain": [
              "   sid  bid     day\n",
              "0    5  102  7/1/18\n",
              "1    1  103  7/1/18\n",
              "2    6  101  7/4/18\n",
              "3    3  102  7/5/18"
            ]
          },
          "metadata": {
            "tags": []
          },
          "execution_count": 14
        }
      ]
    },
    {
      "cell_type": "markdown",
      "metadata": {
        "id": "A5ThVgNe57fN"
      },
      "source": [
        "### Make a simple, single table query\n",
        "It may be helpful to look back at the previous Lab Notebook."
      ]
    },
    {
      "cell_type": "code",
      "metadata": {
        "id": "eXelN9rQ57fO",
        "outputId": "bba09311-2893-4266-ca1a-b063525ea1cd",
        "colab": {
          "base_uri": "https://localhost:8080/",
          "height": 111
        }
      },
      "source": [
        "# TASK 1: Perform a query of the sailors table to \n",
        "# display the names of the sailors who are of age 50\n",
        "# or older and are, therefore, eligible for your company's \n",
        "# senior discount.\n",
        "sql_expr = \"\"\"\n",
        "SELECT sname\n",
        "FROM sailors\n",
        "WHERE age >= 50;\n",
        "\"\"\"\n",
        "pd.read_sql(sql_expr, sqlite_engine)"
      ],
      "execution_count": null,
      "outputs": [
        {
          "output_type": "execute_result",
          "data": {
            "text/html": [
              "<div>\n",
              "<style scoped>\n",
              "    .dataframe tbody tr th:only-of-type {\n",
              "        vertical-align: middle;\n",
              "    }\n",
              "\n",
              "    .dataframe tbody tr th {\n",
              "        vertical-align: top;\n",
              "    }\n",
              "\n",
              "    .dataframe thead th {\n",
              "        text-align: right;\n",
              "    }\n",
              "</style>\n",
              "<table border=\"1\" class=\"dataframe\">\n",
              "  <thead>\n",
              "    <tr style=\"text-align: right;\">\n",
              "      <th></th>\n",
              "      <th>sname</th>\n",
              "    </tr>\n",
              "  </thead>\n",
              "  <tbody>\n",
              "    <tr>\n",
              "      <th>0</th>\n",
              "      <td>Lubber</td>\n",
              "    </tr>\n",
              "    <tr>\n",
              "      <th>1</th>\n",
              "      <td>Rusty</td>\n",
              "    </tr>\n",
              "  </tbody>\n",
              "</table>\n",
              "</div>"
            ],
            "text/plain": [
              "    sname\n",
              "0  Lubber\n",
              "1   Rusty"
            ]
          },
          "metadata": {
            "tags": []
          },
          "execution_count": 15
        }
      ]
    },
    {
      "cell_type": "markdown",
      "metadata": {
        "id": "RchRHS5W57fT"
      },
      "source": [
        "## Joins\n",
        "If we want to look at information across tables, it is necessary to join them.\n",
        "\n",
        "First let's look at the the result of performing the join."
      ]
    },
    {
      "cell_type": "code",
      "metadata": {
        "id": "oPGsFqh_57fU",
        "outputId": "2980e484-94f4-4724-9d55-dd33c0c252a1",
        "colab": {
          "base_uri": "https://localhost:8080/",
          "height": 793
        }
      },
      "source": [
        "sql_expr = \"\"\"\n",
        "SELECT * -- all columns\n",
        "FROM reserves, sailors;\n",
        "\"\"\"\n",
        "pd.read_sql(sql_expr, sqlite_engine)"
      ],
      "execution_count": null,
      "outputs": [
        {
          "output_type": "execute_result",
          "data": {
            "text/html": [
              "<div>\n",
              "<style scoped>\n",
              "    .dataframe tbody tr th:only-of-type {\n",
              "        vertical-align: middle;\n",
              "    }\n",
              "\n",
              "    .dataframe tbody tr th {\n",
              "        vertical-align: top;\n",
              "    }\n",
              "\n",
              "    .dataframe thead th {\n",
              "        text-align: right;\n",
              "    }\n",
              "</style>\n",
              "<table border=\"1\" class=\"dataframe\">\n",
              "  <thead>\n",
              "    <tr style=\"text-align: right;\">\n",
              "      <th></th>\n",
              "      <th>sid</th>\n",
              "      <th>bid</th>\n",
              "      <th>day</th>\n",
              "      <th>sid</th>\n",
              "      <th>sname</th>\n",
              "      <th>rating</th>\n",
              "      <th>age</th>\n",
              "    </tr>\n",
              "  </thead>\n",
              "  <tbody>\n",
              "    <tr>\n",
              "      <th>0</th>\n",
              "      <td>5</td>\n",
              "      <td>102</td>\n",
              "      <td>7/1/18</td>\n",
              "      <td>1</td>\n",
              "      <td>Susan</td>\n",
              "      <td>7</td>\n",
              "      <td>24</td>\n",
              "    </tr>\n",
              "    <tr>\n",
              "      <th>1</th>\n",
              "      <td>5</td>\n",
              "      <td>102</td>\n",
              "      <td>7/1/18</td>\n",
              "      <td>2</td>\n",
              "      <td>Jim</td>\n",
              "      <td>2</td>\n",
              "      <td>35</td>\n",
              "    </tr>\n",
              "    <tr>\n",
              "      <th>2</th>\n",
              "      <td>5</td>\n",
              "      <td>102</td>\n",
              "      <td>7/1/18</td>\n",
              "      <td>3</td>\n",
              "      <td>Nancy</td>\n",
              "      <td>8</td>\n",
              "      <td>41</td>\n",
              "    </tr>\n",
              "    <tr>\n",
              "      <th>3</th>\n",
              "      <td>5</td>\n",
              "      <td>102</td>\n",
              "      <td>7/1/18</td>\n",
              "      <td>4</td>\n",
              "      <td>Dustin</td>\n",
              "      <td>7</td>\n",
              "      <td>35</td>\n",
              "    </tr>\n",
              "    <tr>\n",
              "      <th>4</th>\n",
              "      <td>5</td>\n",
              "      <td>102</td>\n",
              "      <td>7/1/18</td>\n",
              "      <td>5</td>\n",
              "      <td>Lubber</td>\n",
              "      <td>8</td>\n",
              "      <td>50</td>\n",
              "    </tr>\n",
              "    <tr>\n",
              "      <th>5</th>\n",
              "      <td>5</td>\n",
              "      <td>102</td>\n",
              "      <td>7/1/18</td>\n",
              "      <td>6</td>\n",
              "      <td>Rusty</td>\n",
              "      <td>10</td>\n",
              "      <td>69</td>\n",
              "    </tr>\n",
              "    <tr>\n",
              "      <th>6</th>\n",
              "      <td>1</td>\n",
              "      <td>103</td>\n",
              "      <td>7/1/18</td>\n",
              "      <td>1</td>\n",
              "      <td>Susan</td>\n",
              "      <td>7</td>\n",
              "      <td>24</td>\n",
              "    </tr>\n",
              "    <tr>\n",
              "      <th>7</th>\n",
              "      <td>1</td>\n",
              "      <td>103</td>\n",
              "      <td>7/1/18</td>\n",
              "      <td>2</td>\n",
              "      <td>Jim</td>\n",
              "      <td>2</td>\n",
              "      <td>35</td>\n",
              "    </tr>\n",
              "    <tr>\n",
              "      <th>8</th>\n",
              "      <td>1</td>\n",
              "      <td>103</td>\n",
              "      <td>7/1/18</td>\n",
              "      <td>3</td>\n",
              "      <td>Nancy</td>\n",
              "      <td>8</td>\n",
              "      <td>41</td>\n",
              "    </tr>\n",
              "    <tr>\n",
              "      <th>9</th>\n",
              "      <td>1</td>\n",
              "      <td>103</td>\n",
              "      <td>7/1/18</td>\n",
              "      <td>4</td>\n",
              "      <td>Dustin</td>\n",
              "      <td>7</td>\n",
              "      <td>35</td>\n",
              "    </tr>\n",
              "    <tr>\n",
              "      <th>10</th>\n",
              "      <td>1</td>\n",
              "      <td>103</td>\n",
              "      <td>7/1/18</td>\n",
              "      <td>5</td>\n",
              "      <td>Lubber</td>\n",
              "      <td>8</td>\n",
              "      <td>50</td>\n",
              "    </tr>\n",
              "    <tr>\n",
              "      <th>11</th>\n",
              "      <td>1</td>\n",
              "      <td>103</td>\n",
              "      <td>7/1/18</td>\n",
              "      <td>6</td>\n",
              "      <td>Rusty</td>\n",
              "      <td>10</td>\n",
              "      <td>69</td>\n",
              "    </tr>\n",
              "    <tr>\n",
              "      <th>12</th>\n",
              "      <td>6</td>\n",
              "      <td>101</td>\n",
              "      <td>7/4/18</td>\n",
              "      <td>1</td>\n",
              "      <td>Susan</td>\n",
              "      <td>7</td>\n",
              "      <td>24</td>\n",
              "    </tr>\n",
              "    <tr>\n",
              "      <th>13</th>\n",
              "      <td>6</td>\n",
              "      <td>101</td>\n",
              "      <td>7/4/18</td>\n",
              "      <td>2</td>\n",
              "      <td>Jim</td>\n",
              "      <td>2</td>\n",
              "      <td>35</td>\n",
              "    </tr>\n",
              "    <tr>\n",
              "      <th>14</th>\n",
              "      <td>6</td>\n",
              "      <td>101</td>\n",
              "      <td>7/4/18</td>\n",
              "      <td>3</td>\n",
              "      <td>Nancy</td>\n",
              "      <td>8</td>\n",
              "      <td>41</td>\n",
              "    </tr>\n",
              "    <tr>\n",
              "      <th>15</th>\n",
              "      <td>6</td>\n",
              "      <td>101</td>\n",
              "      <td>7/4/18</td>\n",
              "      <td>4</td>\n",
              "      <td>Dustin</td>\n",
              "      <td>7</td>\n",
              "      <td>35</td>\n",
              "    </tr>\n",
              "    <tr>\n",
              "      <th>16</th>\n",
              "      <td>6</td>\n",
              "      <td>101</td>\n",
              "      <td>7/4/18</td>\n",
              "      <td>5</td>\n",
              "      <td>Lubber</td>\n",
              "      <td>8</td>\n",
              "      <td>50</td>\n",
              "    </tr>\n",
              "    <tr>\n",
              "      <th>17</th>\n",
              "      <td>6</td>\n",
              "      <td>101</td>\n",
              "      <td>7/4/18</td>\n",
              "      <td>6</td>\n",
              "      <td>Rusty</td>\n",
              "      <td>10</td>\n",
              "      <td>69</td>\n",
              "    </tr>\n",
              "    <tr>\n",
              "      <th>18</th>\n",
              "      <td>3</td>\n",
              "      <td>102</td>\n",
              "      <td>7/5/18</td>\n",
              "      <td>1</td>\n",
              "      <td>Susan</td>\n",
              "      <td>7</td>\n",
              "      <td>24</td>\n",
              "    </tr>\n",
              "    <tr>\n",
              "      <th>19</th>\n",
              "      <td>3</td>\n",
              "      <td>102</td>\n",
              "      <td>7/5/18</td>\n",
              "      <td>2</td>\n",
              "      <td>Jim</td>\n",
              "      <td>2</td>\n",
              "      <td>35</td>\n",
              "    </tr>\n",
              "    <tr>\n",
              "      <th>20</th>\n",
              "      <td>3</td>\n",
              "      <td>102</td>\n",
              "      <td>7/5/18</td>\n",
              "      <td>3</td>\n",
              "      <td>Nancy</td>\n",
              "      <td>8</td>\n",
              "      <td>41</td>\n",
              "    </tr>\n",
              "    <tr>\n",
              "      <th>21</th>\n",
              "      <td>3</td>\n",
              "      <td>102</td>\n",
              "      <td>7/5/18</td>\n",
              "      <td>4</td>\n",
              "      <td>Dustin</td>\n",
              "      <td>7</td>\n",
              "      <td>35</td>\n",
              "    </tr>\n",
              "    <tr>\n",
              "      <th>22</th>\n",
              "      <td>3</td>\n",
              "      <td>102</td>\n",
              "      <td>7/5/18</td>\n",
              "      <td>5</td>\n",
              "      <td>Lubber</td>\n",
              "      <td>8</td>\n",
              "      <td>50</td>\n",
              "    </tr>\n",
              "    <tr>\n",
              "      <th>23</th>\n",
              "      <td>3</td>\n",
              "      <td>102</td>\n",
              "      <td>7/5/18</td>\n",
              "      <td>6</td>\n",
              "      <td>Rusty</td>\n",
              "      <td>10</td>\n",
              "      <td>69</td>\n",
              "    </tr>\n",
              "  </tbody>\n",
              "</table>\n",
              "</div>"
            ],
            "text/plain": [
              "    sid  bid     day  sid   sname  rating  age\n",
              "0     5  102  7/1/18    1   Susan       7   24\n",
              "1     5  102  7/1/18    2     Jim       2   35\n",
              "2     5  102  7/1/18    3   Nancy       8   41\n",
              "3     5  102  7/1/18    4  Dustin       7   35\n",
              "4     5  102  7/1/18    5  Lubber       8   50\n",
              "5     5  102  7/1/18    6   Rusty      10   69\n",
              "6     1  103  7/1/18    1   Susan       7   24\n",
              "7     1  103  7/1/18    2     Jim       2   35\n",
              "8     1  103  7/1/18    3   Nancy       8   41\n",
              "9     1  103  7/1/18    4  Dustin       7   35\n",
              "10    1  103  7/1/18    5  Lubber       8   50\n",
              "11    1  103  7/1/18    6   Rusty      10   69\n",
              "12    6  101  7/4/18    1   Susan       7   24\n",
              "13    6  101  7/4/18    2     Jim       2   35\n",
              "14    6  101  7/4/18    3   Nancy       8   41\n",
              "15    6  101  7/4/18    4  Dustin       7   35\n",
              "16    6  101  7/4/18    5  Lubber       8   50\n",
              "17    6  101  7/4/18    6   Rusty      10   69\n",
              "18    3  102  7/5/18    1   Susan       7   24\n",
              "19    3  102  7/5/18    2     Jim       2   35\n",
              "20    3  102  7/5/18    3   Nancy       8   41\n",
              "21    3  102  7/5/18    4  Dustin       7   35\n",
              "22    3  102  7/5/18    5  Lubber       8   50\n",
              "23    3  102  7/5/18    6   Rusty      10   69"
            ]
          },
          "metadata": {
            "tags": []
          },
          "execution_count": 16
        }
      ]
    },
    {
      "cell_type": "markdown",
      "metadata": {
        "id": "gSHBChY357fZ"
      },
      "source": [
        "The rows of the join are made up of all possible combinations of the rows of reserves and sailors.  We can get the same results by explicitly using the `JOIN` argument."
      ]
    },
    {
      "cell_type": "code",
      "metadata": {
        "id": "S49tEfba57fa",
        "outputId": "4be59363-6a1e-4a31-8b32-fc97c71a632c",
        "colab": {
          "base_uri": "https://localhost:8080/",
          "height": 793
        }
      },
      "source": [
        "sql_expr = \"\"\"\n",
        "SELECT * -- all columns\n",
        "FROM reserves JOIN sailors;\n",
        "\"\"\"\n",
        "pd.read_sql(sql_expr, sqlite_engine)"
      ],
      "execution_count": null,
      "outputs": [
        {
          "output_type": "execute_result",
          "data": {
            "text/html": [
              "<div>\n",
              "<style scoped>\n",
              "    .dataframe tbody tr th:only-of-type {\n",
              "        vertical-align: middle;\n",
              "    }\n",
              "\n",
              "    .dataframe tbody tr th {\n",
              "        vertical-align: top;\n",
              "    }\n",
              "\n",
              "    .dataframe thead th {\n",
              "        text-align: right;\n",
              "    }\n",
              "</style>\n",
              "<table border=\"1\" class=\"dataframe\">\n",
              "  <thead>\n",
              "    <tr style=\"text-align: right;\">\n",
              "      <th></th>\n",
              "      <th>sid</th>\n",
              "      <th>bid</th>\n",
              "      <th>day</th>\n",
              "      <th>sid</th>\n",
              "      <th>sname</th>\n",
              "      <th>rating</th>\n",
              "      <th>age</th>\n",
              "    </tr>\n",
              "  </thead>\n",
              "  <tbody>\n",
              "    <tr>\n",
              "      <th>0</th>\n",
              "      <td>5</td>\n",
              "      <td>102</td>\n",
              "      <td>7/1/18</td>\n",
              "      <td>1</td>\n",
              "      <td>Susan</td>\n",
              "      <td>7</td>\n",
              "      <td>24</td>\n",
              "    </tr>\n",
              "    <tr>\n",
              "      <th>1</th>\n",
              "      <td>5</td>\n",
              "      <td>102</td>\n",
              "      <td>7/1/18</td>\n",
              "      <td>2</td>\n",
              "      <td>Jim</td>\n",
              "      <td>2</td>\n",
              "      <td>35</td>\n",
              "    </tr>\n",
              "    <tr>\n",
              "      <th>2</th>\n",
              "      <td>5</td>\n",
              "      <td>102</td>\n",
              "      <td>7/1/18</td>\n",
              "      <td>3</td>\n",
              "      <td>Nancy</td>\n",
              "      <td>8</td>\n",
              "      <td>41</td>\n",
              "    </tr>\n",
              "    <tr>\n",
              "      <th>3</th>\n",
              "      <td>5</td>\n",
              "      <td>102</td>\n",
              "      <td>7/1/18</td>\n",
              "      <td>4</td>\n",
              "      <td>Dustin</td>\n",
              "      <td>7</td>\n",
              "      <td>35</td>\n",
              "    </tr>\n",
              "    <tr>\n",
              "      <th>4</th>\n",
              "      <td>5</td>\n",
              "      <td>102</td>\n",
              "      <td>7/1/18</td>\n",
              "      <td>5</td>\n",
              "      <td>Lubber</td>\n",
              "      <td>8</td>\n",
              "      <td>50</td>\n",
              "    </tr>\n",
              "    <tr>\n",
              "      <th>5</th>\n",
              "      <td>5</td>\n",
              "      <td>102</td>\n",
              "      <td>7/1/18</td>\n",
              "      <td>6</td>\n",
              "      <td>Rusty</td>\n",
              "      <td>10</td>\n",
              "      <td>69</td>\n",
              "    </tr>\n",
              "    <tr>\n",
              "      <th>6</th>\n",
              "      <td>1</td>\n",
              "      <td>103</td>\n",
              "      <td>7/1/18</td>\n",
              "      <td>1</td>\n",
              "      <td>Susan</td>\n",
              "      <td>7</td>\n",
              "      <td>24</td>\n",
              "    </tr>\n",
              "    <tr>\n",
              "      <th>7</th>\n",
              "      <td>1</td>\n",
              "      <td>103</td>\n",
              "      <td>7/1/18</td>\n",
              "      <td>2</td>\n",
              "      <td>Jim</td>\n",
              "      <td>2</td>\n",
              "      <td>35</td>\n",
              "    </tr>\n",
              "    <tr>\n",
              "      <th>8</th>\n",
              "      <td>1</td>\n",
              "      <td>103</td>\n",
              "      <td>7/1/18</td>\n",
              "      <td>3</td>\n",
              "      <td>Nancy</td>\n",
              "      <td>8</td>\n",
              "      <td>41</td>\n",
              "    </tr>\n",
              "    <tr>\n",
              "      <th>9</th>\n",
              "      <td>1</td>\n",
              "      <td>103</td>\n",
              "      <td>7/1/18</td>\n",
              "      <td>4</td>\n",
              "      <td>Dustin</td>\n",
              "      <td>7</td>\n",
              "      <td>35</td>\n",
              "    </tr>\n",
              "    <tr>\n",
              "      <th>10</th>\n",
              "      <td>1</td>\n",
              "      <td>103</td>\n",
              "      <td>7/1/18</td>\n",
              "      <td>5</td>\n",
              "      <td>Lubber</td>\n",
              "      <td>8</td>\n",
              "      <td>50</td>\n",
              "    </tr>\n",
              "    <tr>\n",
              "      <th>11</th>\n",
              "      <td>1</td>\n",
              "      <td>103</td>\n",
              "      <td>7/1/18</td>\n",
              "      <td>6</td>\n",
              "      <td>Rusty</td>\n",
              "      <td>10</td>\n",
              "      <td>69</td>\n",
              "    </tr>\n",
              "    <tr>\n",
              "      <th>12</th>\n",
              "      <td>6</td>\n",
              "      <td>101</td>\n",
              "      <td>7/4/18</td>\n",
              "      <td>1</td>\n",
              "      <td>Susan</td>\n",
              "      <td>7</td>\n",
              "      <td>24</td>\n",
              "    </tr>\n",
              "    <tr>\n",
              "      <th>13</th>\n",
              "      <td>6</td>\n",
              "      <td>101</td>\n",
              "      <td>7/4/18</td>\n",
              "      <td>2</td>\n",
              "      <td>Jim</td>\n",
              "      <td>2</td>\n",
              "      <td>35</td>\n",
              "    </tr>\n",
              "    <tr>\n",
              "      <th>14</th>\n",
              "      <td>6</td>\n",
              "      <td>101</td>\n",
              "      <td>7/4/18</td>\n",
              "      <td>3</td>\n",
              "      <td>Nancy</td>\n",
              "      <td>8</td>\n",
              "      <td>41</td>\n",
              "    </tr>\n",
              "    <tr>\n",
              "      <th>15</th>\n",
              "      <td>6</td>\n",
              "      <td>101</td>\n",
              "      <td>7/4/18</td>\n",
              "      <td>4</td>\n",
              "      <td>Dustin</td>\n",
              "      <td>7</td>\n",
              "      <td>35</td>\n",
              "    </tr>\n",
              "    <tr>\n",
              "      <th>16</th>\n",
              "      <td>6</td>\n",
              "      <td>101</td>\n",
              "      <td>7/4/18</td>\n",
              "      <td>5</td>\n",
              "      <td>Lubber</td>\n",
              "      <td>8</td>\n",
              "      <td>50</td>\n",
              "    </tr>\n",
              "    <tr>\n",
              "      <th>17</th>\n",
              "      <td>6</td>\n",
              "      <td>101</td>\n",
              "      <td>7/4/18</td>\n",
              "      <td>6</td>\n",
              "      <td>Rusty</td>\n",
              "      <td>10</td>\n",
              "      <td>69</td>\n",
              "    </tr>\n",
              "    <tr>\n",
              "      <th>18</th>\n",
              "      <td>3</td>\n",
              "      <td>102</td>\n",
              "      <td>7/5/18</td>\n",
              "      <td>1</td>\n",
              "      <td>Susan</td>\n",
              "      <td>7</td>\n",
              "      <td>24</td>\n",
              "    </tr>\n",
              "    <tr>\n",
              "      <th>19</th>\n",
              "      <td>3</td>\n",
              "      <td>102</td>\n",
              "      <td>7/5/18</td>\n",
              "      <td>2</td>\n",
              "      <td>Jim</td>\n",
              "      <td>2</td>\n",
              "      <td>35</td>\n",
              "    </tr>\n",
              "    <tr>\n",
              "      <th>20</th>\n",
              "      <td>3</td>\n",
              "      <td>102</td>\n",
              "      <td>7/5/18</td>\n",
              "      <td>3</td>\n",
              "      <td>Nancy</td>\n",
              "      <td>8</td>\n",
              "      <td>41</td>\n",
              "    </tr>\n",
              "    <tr>\n",
              "      <th>21</th>\n",
              "      <td>3</td>\n",
              "      <td>102</td>\n",
              "      <td>7/5/18</td>\n",
              "      <td>4</td>\n",
              "      <td>Dustin</td>\n",
              "      <td>7</td>\n",
              "      <td>35</td>\n",
              "    </tr>\n",
              "    <tr>\n",
              "      <th>22</th>\n",
              "      <td>3</td>\n",
              "      <td>102</td>\n",
              "      <td>7/5/18</td>\n",
              "      <td>5</td>\n",
              "      <td>Lubber</td>\n",
              "      <td>8</td>\n",
              "      <td>50</td>\n",
              "    </tr>\n",
              "    <tr>\n",
              "      <th>23</th>\n",
              "      <td>3</td>\n",
              "      <td>102</td>\n",
              "      <td>7/5/18</td>\n",
              "      <td>6</td>\n",
              "      <td>Rusty</td>\n",
              "      <td>10</td>\n",
              "      <td>69</td>\n",
              "    </tr>\n",
              "  </tbody>\n",
              "</table>\n",
              "</div>"
            ],
            "text/plain": [
              "    sid  bid     day  sid   sname  rating  age\n",
              "0     5  102  7/1/18    1   Susan       7   24\n",
              "1     5  102  7/1/18    2     Jim       2   35\n",
              "2     5  102  7/1/18    3   Nancy       8   41\n",
              "3     5  102  7/1/18    4  Dustin       7   35\n",
              "4     5  102  7/1/18    5  Lubber       8   50\n",
              "5     5  102  7/1/18    6   Rusty      10   69\n",
              "6     1  103  7/1/18    1   Susan       7   24\n",
              "7     1  103  7/1/18    2     Jim       2   35\n",
              "8     1  103  7/1/18    3   Nancy       8   41\n",
              "9     1  103  7/1/18    4  Dustin       7   35\n",
              "10    1  103  7/1/18    5  Lubber       8   50\n",
              "11    1  103  7/1/18    6   Rusty      10   69\n",
              "12    6  101  7/4/18    1   Susan       7   24\n",
              "13    6  101  7/4/18    2     Jim       2   35\n",
              "14    6  101  7/4/18    3   Nancy       8   41\n",
              "15    6  101  7/4/18    4  Dustin       7   35\n",
              "16    6  101  7/4/18    5  Lubber       8   50\n",
              "17    6  101  7/4/18    6   Rusty      10   69\n",
              "18    3  102  7/5/18    1   Susan       7   24\n",
              "19    3  102  7/5/18    2     Jim       2   35\n",
              "20    3  102  7/5/18    3   Nancy       8   41\n",
              "21    3  102  7/5/18    4  Dustin       7   35\n",
              "22    3  102  7/5/18    5  Lubber       8   50\n",
              "23    3  102  7/5/18    6   Rusty      10   69"
            ]
          },
          "metadata": {
            "tags": []
          },
          "execution_count": 17
        }
      ]
    },
    {
      "cell_type": "markdown",
      "metadata": {
        "id": "OHak9V7157fd"
      },
      "source": [
        "### Natural/Inner Join\n",
        "We will often want to join tables on an attribute that is shared accross tables.  For example, it makes sense to perform a join on sid for the reserves and sailors tables so that we are seeing reservation information for each sailor.  A natural or inner join only displays join rows where the join key (sid) is shared.  The following queries are all equivalent."
      ]
    },
    {
      "cell_type": "markdown",
      "metadata": {
        "id": "T_leMez2VXHz"
      },
      "source": [
        ""
      ]
    },
    {
      "cell_type": "code",
      "metadata": {
        "id": "IUl6yGGn57fe",
        "outputId": "e44cddef-db09-4488-834f-cc223e4886da",
        "colab": {
          "base_uri": "https://localhost:8080/",
          "height": 173
        }
      },
      "source": [
        "sql_expr = \"\"\"\n",
        "SELECT *\n",
        "FROM reserves AS r, sailors AS s\n",
        "WHERE r.sid = s.sid\n",
        "\"\"\"\n",
        "pd.read_sql(sql_expr, sqlite_engine)"
      ],
      "execution_count": null,
      "outputs": [
        {
          "output_type": "execute_result",
          "data": {
            "text/html": [
              "<div>\n",
              "<style scoped>\n",
              "    .dataframe tbody tr th:only-of-type {\n",
              "        vertical-align: middle;\n",
              "    }\n",
              "\n",
              "    .dataframe tbody tr th {\n",
              "        vertical-align: top;\n",
              "    }\n",
              "\n",
              "    .dataframe thead th {\n",
              "        text-align: right;\n",
              "    }\n",
              "</style>\n",
              "<table border=\"1\" class=\"dataframe\">\n",
              "  <thead>\n",
              "    <tr style=\"text-align: right;\">\n",
              "      <th></th>\n",
              "      <th>sid</th>\n",
              "      <th>bid</th>\n",
              "      <th>day</th>\n",
              "      <th>sid</th>\n",
              "      <th>sname</th>\n",
              "      <th>rating</th>\n",
              "      <th>age</th>\n",
              "    </tr>\n",
              "  </thead>\n",
              "  <tbody>\n",
              "    <tr>\n",
              "      <th>0</th>\n",
              "      <td>5</td>\n",
              "      <td>102</td>\n",
              "      <td>7/1/18</td>\n",
              "      <td>5</td>\n",
              "      <td>Lubber</td>\n",
              "      <td>8</td>\n",
              "      <td>50</td>\n",
              "    </tr>\n",
              "    <tr>\n",
              "      <th>1</th>\n",
              "      <td>1</td>\n",
              "      <td>103</td>\n",
              "      <td>7/1/18</td>\n",
              "      <td>1</td>\n",
              "      <td>Susan</td>\n",
              "      <td>7</td>\n",
              "      <td>24</td>\n",
              "    </tr>\n",
              "    <tr>\n",
              "      <th>2</th>\n",
              "      <td>6</td>\n",
              "      <td>101</td>\n",
              "      <td>7/4/18</td>\n",
              "      <td>6</td>\n",
              "      <td>Rusty</td>\n",
              "      <td>10</td>\n",
              "      <td>69</td>\n",
              "    </tr>\n",
              "    <tr>\n",
              "      <th>3</th>\n",
              "      <td>3</td>\n",
              "      <td>102</td>\n",
              "      <td>7/5/18</td>\n",
              "      <td>3</td>\n",
              "      <td>Nancy</td>\n",
              "      <td>8</td>\n",
              "      <td>41</td>\n",
              "    </tr>\n",
              "  </tbody>\n",
              "</table>\n",
              "</div>"
            ],
            "text/plain": [
              "   sid  bid     day  sid   sname  rating  age\n",
              "0    5  102  7/1/18    5  Lubber       8   50\n",
              "1    1  103  7/1/18    1   Susan       7   24\n",
              "2    6  101  7/4/18    6   Rusty      10   69\n",
              "3    3  102  7/5/18    3   Nancy       8   41"
            ]
          },
          "metadata": {
            "tags": []
          },
          "execution_count": 18
        }
      ]
    },
    {
      "cell_type": "code",
      "metadata": {
        "id": "AbRN_fzY57fh",
        "outputId": "67095e76-5230-4275-a721-4a38a0343c6a",
        "colab": {
          "base_uri": "https://localhost:8080/",
          "height": 173
        }
      },
      "source": [
        "sql_expr = \"\"\"\n",
        "SELECT *\n",
        "FROM reserves AS r JOIN sailors AS s\n",
        "ON r.sid = s.sid\n",
        "\"\"\"\n",
        "pd.read_sql(sql_expr, sqlite_engine)"
      ],
      "execution_count": null,
      "outputs": [
        {
          "output_type": "execute_result",
          "data": {
            "text/html": [
              "<div>\n",
              "<style scoped>\n",
              "    .dataframe tbody tr th:only-of-type {\n",
              "        vertical-align: middle;\n",
              "    }\n",
              "\n",
              "    .dataframe tbody tr th {\n",
              "        vertical-align: top;\n",
              "    }\n",
              "\n",
              "    .dataframe thead th {\n",
              "        text-align: right;\n",
              "    }\n",
              "</style>\n",
              "<table border=\"1\" class=\"dataframe\">\n",
              "  <thead>\n",
              "    <tr style=\"text-align: right;\">\n",
              "      <th></th>\n",
              "      <th>sid</th>\n",
              "      <th>bid</th>\n",
              "      <th>day</th>\n",
              "      <th>sid</th>\n",
              "      <th>sname</th>\n",
              "      <th>rating</th>\n",
              "      <th>age</th>\n",
              "    </tr>\n",
              "  </thead>\n",
              "  <tbody>\n",
              "    <tr>\n",
              "      <th>0</th>\n",
              "      <td>5</td>\n",
              "      <td>102</td>\n",
              "      <td>7/1/18</td>\n",
              "      <td>5</td>\n",
              "      <td>Lubber</td>\n",
              "      <td>8</td>\n",
              "      <td>50</td>\n",
              "    </tr>\n",
              "    <tr>\n",
              "      <th>1</th>\n",
              "      <td>1</td>\n",
              "      <td>103</td>\n",
              "      <td>7/1/18</td>\n",
              "      <td>1</td>\n",
              "      <td>Susan</td>\n",
              "      <td>7</td>\n",
              "      <td>24</td>\n",
              "    </tr>\n",
              "    <tr>\n",
              "      <th>2</th>\n",
              "      <td>6</td>\n",
              "      <td>101</td>\n",
              "      <td>7/4/18</td>\n",
              "      <td>6</td>\n",
              "      <td>Rusty</td>\n",
              "      <td>10</td>\n",
              "      <td>69</td>\n",
              "    </tr>\n",
              "    <tr>\n",
              "      <th>3</th>\n",
              "      <td>3</td>\n",
              "      <td>102</td>\n",
              "      <td>7/5/18</td>\n",
              "      <td>3</td>\n",
              "      <td>Nancy</td>\n",
              "      <td>8</td>\n",
              "      <td>41</td>\n",
              "    </tr>\n",
              "  </tbody>\n",
              "</table>\n",
              "</div>"
            ],
            "text/plain": [
              "   sid  bid     day  sid   sname  rating  age\n",
              "0    5  102  7/1/18    5  Lubber       8   50\n",
              "1    1  103  7/1/18    1   Susan       7   24\n",
              "2    6  101  7/4/18    6   Rusty      10   69\n",
              "3    3  102  7/5/18    3   Nancy       8   41"
            ]
          },
          "metadata": {
            "tags": []
          },
          "execution_count": 19
        }
      ]
    },
    {
      "cell_type": "code",
      "metadata": {
        "id": "EzbdXKcX57fl",
        "outputId": "9d5c8228-6fa9-4427-a924-f47ec91a6291",
        "colab": {
          "base_uri": "https://localhost:8080/",
          "height": 173
        }
      },
      "source": [
        "sql_expr = \"\"\"\n",
        "SELECT *\n",
        "FROM reserves r INNER JOIN sailors s -- The AS arguments are always optional\n",
        "ON r.sid = s.sid\n",
        "\"\"\"\n",
        "pd.read_sql(sql_expr, sqlite_engine)"
      ],
      "execution_count": null,
      "outputs": [
        {
          "output_type": "execute_result",
          "data": {
            "text/html": [
              "<div>\n",
              "<style scoped>\n",
              "    .dataframe tbody tr th:only-of-type {\n",
              "        vertical-align: middle;\n",
              "    }\n",
              "\n",
              "    .dataframe tbody tr th {\n",
              "        vertical-align: top;\n",
              "    }\n",
              "\n",
              "    .dataframe thead th {\n",
              "        text-align: right;\n",
              "    }\n",
              "</style>\n",
              "<table border=\"1\" class=\"dataframe\">\n",
              "  <thead>\n",
              "    <tr style=\"text-align: right;\">\n",
              "      <th></th>\n",
              "      <th>sid</th>\n",
              "      <th>bid</th>\n",
              "      <th>day</th>\n",
              "      <th>sid</th>\n",
              "      <th>sname</th>\n",
              "      <th>rating</th>\n",
              "      <th>age</th>\n",
              "    </tr>\n",
              "  </thead>\n",
              "  <tbody>\n",
              "    <tr>\n",
              "      <th>0</th>\n",
              "      <td>5</td>\n",
              "      <td>102</td>\n",
              "      <td>7/1/18</td>\n",
              "      <td>5</td>\n",
              "      <td>Lubber</td>\n",
              "      <td>8</td>\n",
              "      <td>50</td>\n",
              "    </tr>\n",
              "    <tr>\n",
              "      <th>1</th>\n",
              "      <td>1</td>\n",
              "      <td>103</td>\n",
              "      <td>7/1/18</td>\n",
              "      <td>1</td>\n",
              "      <td>Susan</td>\n",
              "      <td>7</td>\n",
              "      <td>24</td>\n",
              "    </tr>\n",
              "    <tr>\n",
              "      <th>2</th>\n",
              "      <td>6</td>\n",
              "      <td>101</td>\n",
              "      <td>7/4/18</td>\n",
              "      <td>6</td>\n",
              "      <td>Rusty</td>\n",
              "      <td>10</td>\n",
              "      <td>69</td>\n",
              "    </tr>\n",
              "    <tr>\n",
              "      <th>3</th>\n",
              "      <td>3</td>\n",
              "      <td>102</td>\n",
              "      <td>7/5/18</td>\n",
              "      <td>3</td>\n",
              "      <td>Nancy</td>\n",
              "      <td>8</td>\n",
              "      <td>41</td>\n",
              "    </tr>\n",
              "  </tbody>\n",
              "</table>\n",
              "</div>"
            ],
            "text/plain": [
              "   sid  bid     day  sid   sname  rating  age\n",
              "0    5  102  7/1/18    5  Lubber       8   50\n",
              "1    1  103  7/1/18    1   Susan       7   24\n",
              "2    6  101  7/4/18    6   Rusty      10   69\n",
              "3    3  102  7/5/18    3   Nancy       8   41"
            ]
          },
          "metadata": {
            "tags": []
          },
          "execution_count": 20
        }
      ]
    },
    {
      "cell_type": "code",
      "metadata": {
        "id": "HFIf32X157fn",
        "outputId": "aa3533cb-4946-4fe3-87f1-b3a2079d1a79",
        "colab": {
          "base_uri": "https://localhost:8080/",
          "height": 173
        }
      },
      "source": [
        "# NATURAL JOIN, unlike the others, will automatically\n",
        "# find column names both tables have in common\n",
        "sql_expr = \"\"\"\n",
        "SELECT *\n",
        "FROM reserves r NATURAL JOIN sailors s \n",
        "\"\"\"\n",
        "pd.read_sql(sql_expr, sqlite_engine)"
      ],
      "execution_count": null,
      "outputs": [
        {
          "output_type": "execute_result",
          "data": {
            "text/html": [
              "<div>\n",
              "<style scoped>\n",
              "    .dataframe tbody tr th:only-of-type {\n",
              "        vertical-align: middle;\n",
              "    }\n",
              "\n",
              "    .dataframe tbody tr th {\n",
              "        vertical-align: top;\n",
              "    }\n",
              "\n",
              "    .dataframe thead th {\n",
              "        text-align: right;\n",
              "    }\n",
              "</style>\n",
              "<table border=\"1\" class=\"dataframe\">\n",
              "  <thead>\n",
              "    <tr style=\"text-align: right;\">\n",
              "      <th></th>\n",
              "      <th>sid</th>\n",
              "      <th>bid</th>\n",
              "      <th>day</th>\n",
              "      <th>sname</th>\n",
              "      <th>rating</th>\n",
              "      <th>age</th>\n",
              "    </tr>\n",
              "  </thead>\n",
              "  <tbody>\n",
              "    <tr>\n",
              "      <th>0</th>\n",
              "      <td>5</td>\n",
              "      <td>102</td>\n",
              "      <td>7/1/18</td>\n",
              "      <td>Lubber</td>\n",
              "      <td>8</td>\n",
              "      <td>50</td>\n",
              "    </tr>\n",
              "    <tr>\n",
              "      <th>1</th>\n",
              "      <td>1</td>\n",
              "      <td>103</td>\n",
              "      <td>7/1/18</td>\n",
              "      <td>Susan</td>\n",
              "      <td>7</td>\n",
              "      <td>24</td>\n",
              "    </tr>\n",
              "    <tr>\n",
              "      <th>2</th>\n",
              "      <td>6</td>\n",
              "      <td>101</td>\n",
              "      <td>7/4/18</td>\n",
              "      <td>Rusty</td>\n",
              "      <td>10</td>\n",
              "      <td>69</td>\n",
              "    </tr>\n",
              "    <tr>\n",
              "      <th>3</th>\n",
              "      <td>3</td>\n",
              "      <td>102</td>\n",
              "      <td>7/5/18</td>\n",
              "      <td>Nancy</td>\n",
              "      <td>8</td>\n",
              "      <td>41</td>\n",
              "    </tr>\n",
              "  </tbody>\n",
              "</table>\n",
              "</div>"
            ],
            "text/plain": [
              "   sid  bid     day   sname  rating  age\n",
              "0    5  102  7/1/18  Lubber       8   50\n",
              "1    1  103  7/1/18   Susan       7   24\n",
              "2    6  101  7/4/18   Rusty      10   69\n",
              "3    3  102  7/5/18   Nancy       8   41"
            ]
          },
          "metadata": {
            "tags": []
          },
          "execution_count": 21
        }
      ]
    },
    {
      "cell_type": "markdown",
      "metadata": {
        "id": "HfXgpuJH57fq"
      },
      "source": [
        "We can use natural joins to pull out information on the history of specific sailors with our company."
      ]
    },
    {
      "cell_type": "code",
      "metadata": {
        "id": "RpCAtzP457fr",
        "outputId": "255c3c49-56ba-4d81-94da-9d66614d3949",
        "colab": {
          "base_uri": "https://localhost:8080/",
          "height": 142
        }
      },
      "source": [
        "sql_expr = \"\"\"\n",
        "SELECT s.sid, s.sname, r.bid, r.day\n",
        "FROM reserves r, sailors s\n",
        "WHERE r.sid = s.sid\n",
        "AND s.age >= 30\n",
        "ORDER BY s.sname\n",
        "\"\"\"\n",
        "pd.read_sql(sql_expr, sqlite_engine)"
      ],
      "execution_count": null,
      "outputs": [
        {
          "output_type": "execute_result",
          "data": {
            "text/html": [
              "<div>\n",
              "<style scoped>\n",
              "    .dataframe tbody tr th:only-of-type {\n",
              "        vertical-align: middle;\n",
              "    }\n",
              "\n",
              "    .dataframe tbody tr th {\n",
              "        vertical-align: top;\n",
              "    }\n",
              "\n",
              "    .dataframe thead th {\n",
              "        text-align: right;\n",
              "    }\n",
              "</style>\n",
              "<table border=\"1\" class=\"dataframe\">\n",
              "  <thead>\n",
              "    <tr style=\"text-align: right;\">\n",
              "      <th></th>\n",
              "      <th>sid</th>\n",
              "      <th>sname</th>\n",
              "      <th>bid</th>\n",
              "      <th>day</th>\n",
              "    </tr>\n",
              "  </thead>\n",
              "  <tbody>\n",
              "    <tr>\n",
              "      <th>0</th>\n",
              "      <td>5</td>\n",
              "      <td>Lubber</td>\n",
              "      <td>102</td>\n",
              "      <td>7/1/18</td>\n",
              "    </tr>\n",
              "    <tr>\n",
              "      <th>1</th>\n",
              "      <td>3</td>\n",
              "      <td>Nancy</td>\n",
              "      <td>102</td>\n",
              "      <td>7/5/18</td>\n",
              "    </tr>\n",
              "    <tr>\n",
              "      <th>2</th>\n",
              "      <td>6</td>\n",
              "      <td>Rusty</td>\n",
              "      <td>101</td>\n",
              "      <td>7/4/18</td>\n",
              "    </tr>\n",
              "  </tbody>\n",
              "</table>\n",
              "</div>"
            ],
            "text/plain": [
              "   sid   sname  bid     day\n",
              "0    5  Lubber  102  7/1/18\n",
              "1    3   Nancy  102  7/5/18\n",
              "2    6   Rusty  101  7/4/18"
            ]
          },
          "metadata": {
            "tags": []
          },
          "execution_count": 22
        }
      ]
    },
    {
      "cell_type": "markdown",
      "metadata": {
        "id": "SoTHXNYY57ft"
      },
      "source": [
        "A report on Rusty's buisness."
      ]
    },
    {
      "cell_type": "code",
      "metadata": {
        "id": "OxX12aok57fu",
        "outputId": "32dc88c9-82d7-48ba-d63f-0f4d11984b7b",
        "colab": {
          "base_uri": "https://localhost:8080/",
          "height": 80
        }
      },
      "source": [
        "sql_expr = \"\"\"\n",
        "SELECT s.sid, s.rating, r.bid, r.day\n",
        "FROM reserves r JOIN sailors s\n",
        "ON r.sid = s.sid\n",
        "WHERE s.sname = 'Rusty'\n",
        "\"\"\"\n",
        "pd.read_sql(sql_expr, sqlite_engine)"
      ],
      "execution_count": null,
      "outputs": [
        {
          "output_type": "execute_result",
          "data": {
            "text/html": [
              "<div>\n",
              "<style scoped>\n",
              "    .dataframe tbody tr th:only-of-type {\n",
              "        vertical-align: middle;\n",
              "    }\n",
              "\n",
              "    .dataframe tbody tr th {\n",
              "        vertical-align: top;\n",
              "    }\n",
              "\n",
              "    .dataframe thead th {\n",
              "        text-align: right;\n",
              "    }\n",
              "</style>\n",
              "<table border=\"1\" class=\"dataframe\">\n",
              "  <thead>\n",
              "    <tr style=\"text-align: right;\">\n",
              "      <th></th>\n",
              "      <th>sid</th>\n",
              "      <th>rating</th>\n",
              "      <th>bid</th>\n",
              "      <th>day</th>\n",
              "    </tr>\n",
              "  </thead>\n",
              "  <tbody>\n",
              "    <tr>\n",
              "      <th>0</th>\n",
              "      <td>6</td>\n",
              "      <td>10</td>\n",
              "      <td>101</td>\n",
              "      <td>7/4/18</td>\n",
              "    </tr>\n",
              "  </tbody>\n",
              "</table>\n",
              "</div>"
            ],
            "text/plain": [
              "   sid  rating  bid     day\n",
              "0    6      10  101  7/4/18"
            ]
          },
          "metadata": {
            "tags": []
          },
          "execution_count": 23
        }
      ]
    },
    {
      "cell_type": "markdown",
      "metadata": {
        "id": "E2lFn4Gw57fx"
      },
      "source": [
        "We can also form inner joins on all 3 tables since both sailors and boats each share a column with reserves."
      ]
    },
    {
      "cell_type": "code",
      "metadata": {
        "id": "DCkJ_bD057fy",
        "outputId": "dfced2ce-e85a-4d4f-a3ca-4e323fd53a40",
        "colab": {
          "base_uri": "https://localhost:8080/",
          "height": 173
        }
      },
      "source": [
        "sql_expr = \"\"\"\n",
        "SELECT *\n",
        "FROM reserves r JOIN sailors s\n",
        "ON r.sid = s.sid\n",
        "JOIN boats b\n",
        "ON r.bid = b.bid\n",
        "\"\"\"\n",
        "pd.read_sql(sql_expr, sqlite_engine)"
      ],
      "execution_count": null,
      "outputs": [
        {
          "output_type": "execute_result",
          "data": {
            "text/html": [
              "<div>\n",
              "<style scoped>\n",
              "    .dataframe tbody tr th:only-of-type {\n",
              "        vertical-align: middle;\n",
              "    }\n",
              "\n",
              "    .dataframe tbody tr th {\n",
              "        vertical-align: top;\n",
              "    }\n",
              "\n",
              "    .dataframe thead th {\n",
              "        text-align: right;\n",
              "    }\n",
              "</style>\n",
              "<table border=\"1\" class=\"dataframe\">\n",
              "  <thead>\n",
              "    <tr style=\"text-align: right;\">\n",
              "      <th></th>\n",
              "      <th>sid</th>\n",
              "      <th>bid</th>\n",
              "      <th>day</th>\n",
              "      <th>sid</th>\n",
              "      <th>sname</th>\n",
              "      <th>rating</th>\n",
              "      <th>age</th>\n",
              "      <th>bid</th>\n",
              "      <th>bname</th>\n",
              "      <th>bcolor</th>\n",
              "    </tr>\n",
              "  </thead>\n",
              "  <tbody>\n",
              "    <tr>\n",
              "      <th>0</th>\n",
              "      <td>5</td>\n",
              "      <td>102</td>\n",
              "      <td>7/1/18</td>\n",
              "      <td>5</td>\n",
              "      <td>Lubber</td>\n",
              "      <td>8</td>\n",
              "      <td>50</td>\n",
              "      <td>102</td>\n",
              "      <td>Pinta</td>\n",
              "      <td>blue</td>\n",
              "    </tr>\n",
              "    <tr>\n",
              "      <th>1</th>\n",
              "      <td>1</td>\n",
              "      <td>103</td>\n",
              "      <td>7/1/18</td>\n",
              "      <td>1</td>\n",
              "      <td>Susan</td>\n",
              "      <td>7</td>\n",
              "      <td>24</td>\n",
              "      <td>103</td>\n",
              "      <td>Santa Maria</td>\n",
              "      <td>red</td>\n",
              "    </tr>\n",
              "    <tr>\n",
              "      <th>2</th>\n",
              "      <td>6</td>\n",
              "      <td>101</td>\n",
              "      <td>7/4/18</td>\n",
              "      <td>6</td>\n",
              "      <td>Rusty</td>\n",
              "      <td>10</td>\n",
              "      <td>69</td>\n",
              "      <td>101</td>\n",
              "      <td>Nina</td>\n",
              "      <td>red</td>\n",
              "    </tr>\n",
              "    <tr>\n",
              "      <th>3</th>\n",
              "      <td>3</td>\n",
              "      <td>102</td>\n",
              "      <td>7/5/18</td>\n",
              "      <td>3</td>\n",
              "      <td>Nancy</td>\n",
              "      <td>8</td>\n",
              "      <td>41</td>\n",
              "      <td>102</td>\n",
              "      <td>Pinta</td>\n",
              "      <td>blue</td>\n",
              "    </tr>\n",
              "  </tbody>\n",
              "</table>\n",
              "</div>"
            ],
            "text/plain": [
              "   sid  bid     day  sid   sname  rating  age  bid        bname bcolor\n",
              "0    5  102  7/1/18    5  Lubber       8   50  102        Pinta   blue\n",
              "1    1  103  7/1/18    1   Susan       7   24  103  Santa Maria    red\n",
              "2    6  101  7/4/18    6   Rusty      10   69  101         Nina    red\n",
              "3    3  102  7/5/18    3   Nancy       8   41  102        Pinta   blue"
            ]
          },
          "metadata": {
            "tags": []
          },
          "execution_count": 24
        }
      ]
    },
    {
      "cell_type": "code",
      "metadata": {
        "id": "g5FetIL257f9",
        "outputId": "1c7fa34f-f847-4f92-b1cc-f68ffde50536",
        "colab": {
          "base_uri": "https://localhost:8080/",
          "height": 173
        }
      },
      "source": [
        "# TASK 2: Generate a report on the company's boats.\n",
        "# You should display the boat id number, boat name, boat color,\n",
        "# and the sailor id, name, and day the sailor rented that boat.\n",
        "\n",
        "sql_expr = \"\"\"\n",
        "SELECT b.bid, b.bname, b.bcolor, s.sid, s.sname, r.day, s.rating\n",
        "FROM reserves r JOIN sailors s\n",
        "ON r.sid = s.sid\n",
        "JOIN boats b\n",
        "ON r.bid = b.bid\n",
        "\"\"\"\n",
        "pd.read_sql(sql_expr, sqlite_engine)"
      ],
      "execution_count": null,
      "outputs": [
        {
          "output_type": "execute_result",
          "data": {
            "text/html": [
              "<div>\n",
              "<style scoped>\n",
              "    .dataframe tbody tr th:only-of-type {\n",
              "        vertical-align: middle;\n",
              "    }\n",
              "\n",
              "    .dataframe tbody tr th {\n",
              "        vertical-align: top;\n",
              "    }\n",
              "\n",
              "    .dataframe thead th {\n",
              "        text-align: right;\n",
              "    }\n",
              "</style>\n",
              "<table border=\"1\" class=\"dataframe\">\n",
              "  <thead>\n",
              "    <tr style=\"text-align: right;\">\n",
              "      <th></th>\n",
              "      <th>bid</th>\n",
              "      <th>bname</th>\n",
              "      <th>bcolor</th>\n",
              "      <th>sid</th>\n",
              "      <th>sname</th>\n",
              "      <th>day</th>\n",
              "      <th>rating</th>\n",
              "    </tr>\n",
              "  </thead>\n",
              "  <tbody>\n",
              "    <tr>\n",
              "      <th>0</th>\n",
              "      <td>102</td>\n",
              "      <td>Pinta</td>\n",
              "      <td>blue</td>\n",
              "      <td>5</td>\n",
              "      <td>Lubber</td>\n",
              "      <td>7/1/18</td>\n",
              "      <td>8</td>\n",
              "    </tr>\n",
              "    <tr>\n",
              "      <th>1</th>\n",
              "      <td>103</td>\n",
              "      <td>Santa Maria</td>\n",
              "      <td>red</td>\n",
              "      <td>1</td>\n",
              "      <td>Susan</td>\n",
              "      <td>7/1/18</td>\n",
              "      <td>7</td>\n",
              "    </tr>\n",
              "    <tr>\n",
              "      <th>2</th>\n",
              "      <td>101</td>\n",
              "      <td>Nina</td>\n",
              "      <td>red</td>\n",
              "      <td>6</td>\n",
              "      <td>Rusty</td>\n",
              "      <td>7/4/18</td>\n",
              "      <td>10</td>\n",
              "    </tr>\n",
              "    <tr>\n",
              "      <th>3</th>\n",
              "      <td>102</td>\n",
              "      <td>Pinta</td>\n",
              "      <td>blue</td>\n",
              "      <td>3</td>\n",
              "      <td>Nancy</td>\n",
              "      <td>7/5/18</td>\n",
              "      <td>8</td>\n",
              "    </tr>\n",
              "  </tbody>\n",
              "</table>\n",
              "</div>"
            ],
            "text/plain": [
              "   bid        bname bcolor  sid   sname     day  rating\n",
              "0  102        Pinta   blue    5  Lubber  7/1/18       8\n",
              "1  103  Santa Maria    red    1   Susan  7/1/18       7\n",
              "2  101         Nina    red    6   Rusty  7/4/18      10\n",
              "3  102        Pinta   blue    3   Nancy  7/5/18       8"
            ]
          },
          "metadata": {
            "tags": []
          },
          "execution_count": 25
        }
      ]
    },
    {
      "cell_type": "markdown",
      "metadata": {
        "id": "H--EbjBr57gA"
      },
      "source": [
        "### Left/Right Joins\n",
        "\n",
        "Left joins will include all entries by key in the left table and fill in null values for the right table, where necessary."
      ]
    },
    {
      "cell_type": "code",
      "metadata": {
        "id": "uxhIRzWd57gB",
        "outputId": "ff26d1f2-79aa-4286-a707-9f5b422c6873",
        "colab": {
          "base_uri": "https://localhost:8080/",
          "height": 173
        }
      },
      "source": [
        "# This returns the same information as an inner join since\n",
        "# all sid values in the reserves table have a corresponding\n",
        "# entry in the sailors table\n",
        "\n",
        "sql_expr = \"\"\"\n",
        "SELECT *\n",
        "FROM reserves r LEFT JOIN sailors s\n",
        "ON r.sid = s.sid\n",
        "\"\"\"\n",
        "pd.read_sql(sql_expr, sqlite_engine)"
      ],
      "execution_count": null,
      "outputs": [
        {
          "output_type": "execute_result",
          "data": {
            "text/html": [
              "<div>\n",
              "<style scoped>\n",
              "    .dataframe tbody tr th:only-of-type {\n",
              "        vertical-align: middle;\n",
              "    }\n",
              "\n",
              "    .dataframe tbody tr th {\n",
              "        vertical-align: top;\n",
              "    }\n",
              "\n",
              "    .dataframe thead th {\n",
              "        text-align: right;\n",
              "    }\n",
              "</style>\n",
              "<table border=\"1\" class=\"dataframe\">\n",
              "  <thead>\n",
              "    <tr style=\"text-align: right;\">\n",
              "      <th></th>\n",
              "      <th>sid</th>\n",
              "      <th>bid</th>\n",
              "      <th>day</th>\n",
              "      <th>sid</th>\n",
              "      <th>sname</th>\n",
              "      <th>rating</th>\n",
              "      <th>age</th>\n",
              "    </tr>\n",
              "  </thead>\n",
              "  <tbody>\n",
              "    <tr>\n",
              "      <th>0</th>\n",
              "      <td>5</td>\n",
              "      <td>102</td>\n",
              "      <td>7/1/18</td>\n",
              "      <td>5</td>\n",
              "      <td>Lubber</td>\n",
              "      <td>8</td>\n",
              "      <td>50</td>\n",
              "    </tr>\n",
              "    <tr>\n",
              "      <th>1</th>\n",
              "      <td>1</td>\n",
              "      <td>103</td>\n",
              "      <td>7/1/18</td>\n",
              "      <td>1</td>\n",
              "      <td>Susan</td>\n",
              "      <td>7</td>\n",
              "      <td>24</td>\n",
              "    </tr>\n",
              "    <tr>\n",
              "      <th>2</th>\n",
              "      <td>6</td>\n",
              "      <td>101</td>\n",
              "      <td>7/4/18</td>\n",
              "      <td>6</td>\n",
              "      <td>Rusty</td>\n",
              "      <td>10</td>\n",
              "      <td>69</td>\n",
              "    </tr>\n",
              "    <tr>\n",
              "      <th>3</th>\n",
              "      <td>3</td>\n",
              "      <td>102</td>\n",
              "      <td>7/5/18</td>\n",
              "      <td>3</td>\n",
              "      <td>Nancy</td>\n",
              "      <td>8</td>\n",
              "      <td>41</td>\n",
              "    </tr>\n",
              "  </tbody>\n",
              "</table>\n",
              "</div>"
            ],
            "text/plain": [
              "   sid  bid     day  sid   sname  rating  age\n",
              "0    5  102  7/1/18    5  Lubber       8   50\n",
              "1    1  103  7/1/18    1   Susan       7   24\n",
              "2    6  101  7/4/18    6   Rusty      10   69\n",
              "3    3  102  7/5/18    3   Nancy       8   41"
            ]
          },
          "metadata": {
            "tags": []
          },
          "execution_count": 26
        }
      ]
    },
    {
      "cell_type": "code",
      "metadata": {
        "id": "fjz6sWSK57gG",
        "outputId": "bcec860a-9c5d-402c-dd80-324d30c3730f",
        "colab": {
          "base_uri": "https://localhost:8080/",
          "height": 235
        }
      },
      "source": [
        "# But not all sailors have rented a boat\n",
        "\n",
        "sql_expr = \"\"\"\n",
        "SELECT *\n",
        "FROM sailors s LEFT JOIN reserves r\n",
        "ON r.sid = s.sid\n",
        "\"\"\"\n",
        "pd.read_sql(sql_expr, sqlite_engine)"
      ],
      "execution_count": null,
      "outputs": [
        {
          "output_type": "execute_result",
          "data": {
            "text/html": [
              "<div>\n",
              "<style scoped>\n",
              "    .dataframe tbody tr th:only-of-type {\n",
              "        vertical-align: middle;\n",
              "    }\n",
              "\n",
              "    .dataframe tbody tr th {\n",
              "        vertical-align: top;\n",
              "    }\n",
              "\n",
              "    .dataframe thead th {\n",
              "        text-align: right;\n",
              "    }\n",
              "</style>\n",
              "<table border=\"1\" class=\"dataframe\">\n",
              "  <thead>\n",
              "    <tr style=\"text-align: right;\">\n",
              "      <th></th>\n",
              "      <th>sid</th>\n",
              "      <th>sname</th>\n",
              "      <th>rating</th>\n",
              "      <th>age</th>\n",
              "      <th>sid</th>\n",
              "      <th>bid</th>\n",
              "      <th>day</th>\n",
              "    </tr>\n",
              "  </thead>\n",
              "  <tbody>\n",
              "    <tr>\n",
              "      <th>0</th>\n",
              "      <td>1</td>\n",
              "      <td>Susan</td>\n",
              "      <td>7</td>\n",
              "      <td>24</td>\n",
              "      <td>1.0</td>\n",
              "      <td>103.0</td>\n",
              "      <td>7/1/18</td>\n",
              "    </tr>\n",
              "    <tr>\n",
              "      <th>1</th>\n",
              "      <td>2</td>\n",
              "      <td>Jim</td>\n",
              "      <td>2</td>\n",
              "      <td>35</td>\n",
              "      <td>NaN</td>\n",
              "      <td>NaN</td>\n",
              "      <td>None</td>\n",
              "    </tr>\n",
              "    <tr>\n",
              "      <th>2</th>\n",
              "      <td>3</td>\n",
              "      <td>Nancy</td>\n",
              "      <td>8</td>\n",
              "      <td>41</td>\n",
              "      <td>3.0</td>\n",
              "      <td>102.0</td>\n",
              "      <td>7/5/18</td>\n",
              "    </tr>\n",
              "    <tr>\n",
              "      <th>3</th>\n",
              "      <td>4</td>\n",
              "      <td>Dustin</td>\n",
              "      <td>7</td>\n",
              "      <td>35</td>\n",
              "      <td>NaN</td>\n",
              "      <td>NaN</td>\n",
              "      <td>None</td>\n",
              "    </tr>\n",
              "    <tr>\n",
              "      <th>4</th>\n",
              "      <td>5</td>\n",
              "      <td>Lubber</td>\n",
              "      <td>8</td>\n",
              "      <td>50</td>\n",
              "      <td>5.0</td>\n",
              "      <td>102.0</td>\n",
              "      <td>7/1/18</td>\n",
              "    </tr>\n",
              "    <tr>\n",
              "      <th>5</th>\n",
              "      <td>6</td>\n",
              "      <td>Rusty</td>\n",
              "      <td>10</td>\n",
              "      <td>69</td>\n",
              "      <td>6.0</td>\n",
              "      <td>101.0</td>\n",
              "      <td>7/4/18</td>\n",
              "    </tr>\n",
              "  </tbody>\n",
              "</table>\n",
              "</div>"
            ],
            "text/plain": [
              "   sid   sname  rating  age  sid    bid     day\n",
              "0    1   Susan       7   24  1.0  103.0  7/1/18\n",
              "1    2     Jim       2   35  NaN    NaN    None\n",
              "2    3   Nancy       8   41  3.0  102.0  7/5/18\n",
              "3    4  Dustin       7   35  NaN    NaN    None\n",
              "4    5  Lubber       8   50  5.0  102.0  7/1/18\n",
              "5    6   Rusty      10   69  6.0  101.0  7/4/18"
            ]
          },
          "metadata": {
            "tags": []
          },
          "execution_count": 27
        }
      ]
    },
    {
      "cell_type": "markdown",
      "metadata": {
        "id": "OMMAEQIj57gU"
      },
      "source": [
        "Right joins work the same way (this time taking all rows from the right table), but SQLite does not support them.  `FULL JOIN` performs an outer join where each row of each table is represented and nulls are filled in, where appropriate.  SQLite does not support outer joins but many other SQL versions do."
      ]
    },
    {
      "cell_type": "markdown",
      "metadata": {
        "id": "CAJzAWxm57gW"
      },
      "source": [
        "## SQL Queries and NULL values\n",
        "\n",
        "As we see in the example above, left/right/outer joins can result in Null values being inserted into the resulting query result table.  \n",
        "\n",
        "It is also possible that Null values can result from missing information."
      ]
    },
    {
      "cell_type": "code",
      "metadata": {
        "id": "ASxYvGG657gW",
        "outputId": "c94f5c3d-1e3e-4b59-b667-e077a0013185",
        "colab": {
          "base_uri": "https://localhost:8080/",
          "height": 266
        }
      },
      "source": [
        "sql_expr = \"\"\"\n",
        "INSERT INTO sailors VALUES\n",
        "  (7, 'Jack Sparrow', NULL, 35);  -- no skill rating available\n",
        "\"\"\"\n",
        "result = sqlite_engine.execute(sql_expr)\n",
        "\n",
        "sql_expr = \"\"\"\n",
        "SELECT * \n",
        "FROM sailors;\n",
        "\"\"\"\n",
        "pd.read_sql(sql_expr, sqlite_engine)"
      ],
      "execution_count": null,
      "outputs": [
        {
          "output_type": "execute_result",
          "data": {
            "text/html": [
              "<div>\n",
              "<style scoped>\n",
              "    .dataframe tbody tr th:only-of-type {\n",
              "        vertical-align: middle;\n",
              "    }\n",
              "\n",
              "    .dataframe tbody tr th {\n",
              "        vertical-align: top;\n",
              "    }\n",
              "\n",
              "    .dataframe thead th {\n",
              "        text-align: right;\n",
              "    }\n",
              "</style>\n",
              "<table border=\"1\" class=\"dataframe\">\n",
              "  <thead>\n",
              "    <tr style=\"text-align: right;\">\n",
              "      <th></th>\n",
              "      <th>sid</th>\n",
              "      <th>sname</th>\n",
              "      <th>rating</th>\n",
              "      <th>age</th>\n",
              "    </tr>\n",
              "  </thead>\n",
              "  <tbody>\n",
              "    <tr>\n",
              "      <th>0</th>\n",
              "      <td>1</td>\n",
              "      <td>Susan</td>\n",
              "      <td>7.0</td>\n",
              "      <td>24</td>\n",
              "    </tr>\n",
              "    <tr>\n",
              "      <th>1</th>\n",
              "      <td>2</td>\n",
              "      <td>Jim</td>\n",
              "      <td>2.0</td>\n",
              "      <td>35</td>\n",
              "    </tr>\n",
              "    <tr>\n",
              "      <th>2</th>\n",
              "      <td>3</td>\n",
              "      <td>Nancy</td>\n",
              "      <td>8.0</td>\n",
              "      <td>41</td>\n",
              "    </tr>\n",
              "    <tr>\n",
              "      <th>3</th>\n",
              "      <td>4</td>\n",
              "      <td>Dustin</td>\n",
              "      <td>7.0</td>\n",
              "      <td>35</td>\n",
              "    </tr>\n",
              "    <tr>\n",
              "      <th>4</th>\n",
              "      <td>5</td>\n",
              "      <td>Lubber</td>\n",
              "      <td>8.0</td>\n",
              "      <td>50</td>\n",
              "    </tr>\n",
              "    <tr>\n",
              "      <th>5</th>\n",
              "      <td>6</td>\n",
              "      <td>Rusty</td>\n",
              "      <td>10.0</td>\n",
              "      <td>69</td>\n",
              "    </tr>\n",
              "    <tr>\n",
              "      <th>6</th>\n",
              "      <td>7</td>\n",
              "      <td>Jack Sparrow</td>\n",
              "      <td>NaN</td>\n",
              "      <td>35</td>\n",
              "    </tr>\n",
              "  </tbody>\n",
              "</table>\n",
              "</div>"
            ],
            "text/plain": [
              "   sid         sname  rating  age\n",
              "0    1         Susan     7.0   24\n",
              "1    2           Jim     2.0   35\n",
              "2    3         Nancy     8.0   41\n",
              "3    4        Dustin     7.0   35\n",
              "4    5        Lubber     8.0   50\n",
              "5    6         Rusty    10.0   69\n",
              "6    7  Jack Sparrow     NaN   35"
            ]
          },
          "metadata": {
            "tags": []
          },
          "execution_count": 28
        }
      ]
    },
    {
      "cell_type": "markdown",
      "metadata": {
        "id": "iOafu4pq57gZ"
      },
      "source": [
        "The following will result in no output because any operator acting on a null value returns a null output."
      ]
    },
    {
      "cell_type": "code",
      "metadata": {
        "id": "dUn-5TSv57gb",
        "outputId": "2256d12e-f307-457a-b8d6-b81b5e677e31",
        "colab": {
          "base_uri": "https://localhost:8080/",
          "height": 49
        }
      },
      "source": [
        "sql_expr = \"\"\"\n",
        "SELECT *\n",
        "FROM sailors\n",
        "WHERE rating = NULL\n",
        "\"\"\"\n",
        "pd.read_sql(sql_expr, sqlite_engine)"
      ],
      "execution_count": null,
      "outputs": [
        {
          "output_type": "execute_result",
          "data": {
            "text/html": [
              "<div>\n",
              "<style scoped>\n",
              "    .dataframe tbody tr th:only-of-type {\n",
              "        vertical-align: middle;\n",
              "    }\n",
              "\n",
              "    .dataframe tbody tr th {\n",
              "        vertical-align: top;\n",
              "    }\n",
              "\n",
              "    .dataframe thead th {\n",
              "        text-align: right;\n",
              "    }\n",
              "</style>\n",
              "<table border=\"1\" class=\"dataframe\">\n",
              "  <thead>\n",
              "    <tr style=\"text-align: right;\">\n",
              "      <th></th>\n",
              "      <th>sid</th>\n",
              "      <th>sname</th>\n",
              "      <th>rating</th>\n",
              "      <th>age</th>\n",
              "    </tr>\n",
              "  </thead>\n",
              "  <tbody>\n",
              "  </tbody>\n",
              "</table>\n",
              "</div>"
            ],
            "text/plain": [
              "Empty DataFrame\n",
              "Columns: [sid, sname, rating, age]\n",
              "Index: []"
            ]
          },
          "metadata": {
            "tags": []
          },
          "execution_count": 29
        }
      ]
    },
    {
      "cell_type": "markdown",
      "metadata": {
        "id": "2lG40MF_57gf"
      },
      "source": [
        "Jack will also never show in a query that references the rating value."
      ]
    },
    {
      "cell_type": "code",
      "metadata": {
        "id": "w_aKlZ4o57gf",
        "outputId": "31ab78bb-d680-489d-a2fc-7b9a07f4d985",
        "colab": {
          "base_uri": "https://localhost:8080/",
          "height": 142
        }
      },
      "source": [
        "sql_expr = \"\"\"\n",
        "SELECT *\n",
        "FROM sailors\n",
        "WHERE rating < 8\n",
        "\"\"\"\n",
        "pd.read_sql(sql_expr, sqlite_engine)"
      ],
      "execution_count": null,
      "outputs": [
        {
          "output_type": "execute_result",
          "data": {
            "text/html": [
              "<div>\n",
              "<style scoped>\n",
              "    .dataframe tbody tr th:only-of-type {\n",
              "        vertical-align: middle;\n",
              "    }\n",
              "\n",
              "    .dataframe tbody tr th {\n",
              "        vertical-align: top;\n",
              "    }\n",
              "\n",
              "    .dataframe thead th {\n",
              "        text-align: right;\n",
              "    }\n",
              "</style>\n",
              "<table border=\"1\" class=\"dataframe\">\n",
              "  <thead>\n",
              "    <tr style=\"text-align: right;\">\n",
              "      <th></th>\n",
              "      <th>sid</th>\n",
              "      <th>sname</th>\n",
              "      <th>rating</th>\n",
              "      <th>age</th>\n",
              "    </tr>\n",
              "  </thead>\n",
              "  <tbody>\n",
              "    <tr>\n",
              "      <th>0</th>\n",
              "      <td>1</td>\n",
              "      <td>Susan</td>\n",
              "      <td>7</td>\n",
              "      <td>24</td>\n",
              "    </tr>\n",
              "    <tr>\n",
              "      <th>1</th>\n",
              "      <td>2</td>\n",
              "      <td>Jim</td>\n",
              "      <td>2</td>\n",
              "      <td>35</td>\n",
              "    </tr>\n",
              "    <tr>\n",
              "      <th>2</th>\n",
              "      <td>4</td>\n",
              "      <td>Dustin</td>\n",
              "      <td>7</td>\n",
              "      <td>35</td>\n",
              "    </tr>\n",
              "  </tbody>\n",
              "</table>\n",
              "</div>"
            ],
            "text/plain": [
              "   sid   sname  rating  age\n",
              "0    1   Susan       7   24\n",
              "1    2     Jim       2   35\n",
              "2    4  Dustin       7   35"
            ]
          },
          "metadata": {
            "tags": []
          },
          "execution_count": 30
        }
      ]
    },
    {
      "cell_type": "markdown",
      "metadata": {
        "id": "Os2RK-9C57gj"
      },
      "source": [
        "You must do an explicit NULL check to find null values."
      ]
    },
    {
      "cell_type": "code",
      "metadata": {
        "id": "8e9Jxh_r57gk",
        "outputId": "64033017-a064-4ffb-dba2-aef8eb511787",
        "colab": {
          "base_uri": "https://localhost:8080/",
          "height": 80
        }
      },
      "source": [
        "sql_expr = \"\"\"\n",
        "SELECT *\n",
        "FROM sailors\n",
        "WHERE rating IS NULL\n",
        "\"\"\"\n",
        "pd.read_sql(sql_expr, sqlite_engine)"
      ],
      "execution_count": null,
      "outputs": [
        {
          "output_type": "execute_result",
          "data": {
            "text/html": [
              "<div>\n",
              "<style scoped>\n",
              "    .dataframe tbody tr th:only-of-type {\n",
              "        vertical-align: middle;\n",
              "    }\n",
              "\n",
              "    .dataframe tbody tr th {\n",
              "        vertical-align: top;\n",
              "    }\n",
              "\n",
              "    .dataframe thead th {\n",
              "        text-align: right;\n",
              "    }\n",
              "</style>\n",
              "<table border=\"1\" class=\"dataframe\">\n",
              "  <thead>\n",
              "    <tr style=\"text-align: right;\">\n",
              "      <th></th>\n",
              "      <th>sid</th>\n",
              "      <th>sname</th>\n",
              "      <th>rating</th>\n",
              "      <th>age</th>\n",
              "    </tr>\n",
              "  </thead>\n",
              "  <tbody>\n",
              "    <tr>\n",
              "      <th>0</th>\n",
              "      <td>7</td>\n",
              "      <td>Jack Sparrow</td>\n",
              "      <td>None</td>\n",
              "      <td>35</td>\n",
              "    </tr>\n",
              "  </tbody>\n",
              "</table>\n",
              "</div>"
            ],
            "text/plain": [
              "   sid         sname rating  age\n",
              "0    7  Jack Sparrow   None   35"
            ]
          },
          "metadata": {
            "tags": []
          },
          "execution_count": 31
        }
      ]
    },
    {
      "cell_type": "code",
      "metadata": {
        "id": "GxGhB6yo57gu",
        "outputId": "216f1af2-36df-4e6d-f26d-3f827a34ef71",
        "colab": {
          "base_uri": "https://localhost:8080/",
          "height": 235
        }
      },
      "source": [
        "sql_expr = \"\"\"\n",
        "SELECT *\n",
        "FROM sailors\n",
        "WHERE rating IS NOT NULL\n",
        "\"\"\"\n",
        "pd.read_sql(sql_expr, sqlite_engine)"
      ],
      "execution_count": null,
      "outputs": [
        {
          "output_type": "execute_result",
          "data": {
            "text/html": [
              "<div>\n",
              "<style scoped>\n",
              "    .dataframe tbody tr th:only-of-type {\n",
              "        vertical-align: middle;\n",
              "    }\n",
              "\n",
              "    .dataframe tbody tr th {\n",
              "        vertical-align: top;\n",
              "    }\n",
              "\n",
              "    .dataframe thead th {\n",
              "        text-align: right;\n",
              "    }\n",
              "</style>\n",
              "<table border=\"1\" class=\"dataframe\">\n",
              "  <thead>\n",
              "    <tr style=\"text-align: right;\">\n",
              "      <th></th>\n",
              "      <th>sid</th>\n",
              "      <th>sname</th>\n",
              "      <th>rating</th>\n",
              "      <th>age</th>\n",
              "    </tr>\n",
              "  </thead>\n",
              "  <tbody>\n",
              "    <tr>\n",
              "      <th>0</th>\n",
              "      <td>1</td>\n",
              "      <td>Susan</td>\n",
              "      <td>7</td>\n",
              "      <td>24</td>\n",
              "    </tr>\n",
              "    <tr>\n",
              "      <th>1</th>\n",
              "      <td>2</td>\n",
              "      <td>Jim</td>\n",
              "      <td>2</td>\n",
              "      <td>35</td>\n",
              "    </tr>\n",
              "    <tr>\n",
              "      <th>2</th>\n",
              "      <td>3</td>\n",
              "      <td>Nancy</td>\n",
              "      <td>8</td>\n",
              "      <td>41</td>\n",
              "    </tr>\n",
              "    <tr>\n",
              "      <th>3</th>\n",
              "      <td>4</td>\n",
              "      <td>Dustin</td>\n",
              "      <td>7</td>\n",
              "      <td>35</td>\n",
              "    </tr>\n",
              "    <tr>\n",
              "      <th>4</th>\n",
              "      <td>5</td>\n",
              "      <td>Lubber</td>\n",
              "      <td>8</td>\n",
              "      <td>50</td>\n",
              "    </tr>\n",
              "    <tr>\n",
              "      <th>5</th>\n",
              "      <td>6</td>\n",
              "      <td>Rusty</td>\n",
              "      <td>10</td>\n",
              "      <td>69</td>\n",
              "    </tr>\n",
              "  </tbody>\n",
              "</table>\n",
              "</div>"
            ],
            "text/plain": [
              "   sid   sname  rating  age\n",
              "0    1   Susan       7   24\n",
              "1    2     Jim       2   35\n",
              "2    3   Nancy       8   41\n",
              "3    4  Dustin       7   35\n",
              "4    5  Lubber       8   50\n",
              "5    6   Rusty      10   69"
            ]
          },
          "metadata": {
            "tags": []
          },
          "execution_count": 32
        }
      ]
    },
    {
      "cell_type": "markdown",
      "metadata": {
        "id": "0kdAcpLt57gx"
      },
      "source": [
        "# Retrieving Information from the SDSS\n",
        "\n",
        "Enough of these toy databases!\n",
        "\n",
        "Next, we will query a real database.  This database holds all of the information collected by the Sloan Digital Sky Survey [(SDSS)](https://www.sdss.org/), a massive, collection of astronomical observations covering a third of the sky and millions of astronomical objects, collected by an automated telescope. The instructions for performing the query come from [here](http://balbuceosastropy.blogspot.com/2013/10/an-easy-way-to-make-sql-queries-from.html).\n",
        "\n",
        "First, we will import the modules we will need."
      ]
    },
    {
      "cell_type": "code",
      "metadata": {
        "id": "0AWx5h8l57gy"
      },
      "source": [
        "%matplotlib inline\n",
        "import matplotlib.pyplot as plt\n",
        "\n",
        "\n",
        "import numpy as np\n",
        "import pandas as pd\n",
        "import mechanize\n",
        "from io import BytesIO "
      ],
      "execution_count": null,
      "outputs": []
    },
    {
      "cell_type": "markdown",
      "metadata": {
        "id": "IMeaQgbq57g2"
      },
      "source": [
        "Next, we need to specify the url where we can submit the SQL queries to the SDSS database. Click on this link to inspect the webpage that we will be using: http://skyserver.sdss.org/dr15/en/tools/search/sql.aspx"
      ]
    },
    {
      "cell_type": "code",
      "metadata": {
        "id": "xwG72j6_57g4"
      },
      "source": [
        "# URL to the SDSS SQL Search Data Release 15\n",
        "url = \"http://skyserver.sdss.org/dr15/en/tools/search/sql.aspx\""
      ],
      "execution_count": null,
      "outputs": []
    },
    {
      "cell_type": "markdown",
      "metadata": {
        "id": "MckK0MNP57g5"
      },
      "source": [
        "### Formulating the Query\n",
        "\n",
        "We are going to [query the information for stars in the Palomar 5 globular cluster](http://skyserver.sdss.org/dr12/en/proj/advanced/hr/sql.aspx).  A [globular cluster](https://en.wikipedia.org/wiki/Globular_cluster) is a tight swarm of many thousands of stars.  Most galaxies have many globular clusters and Palomar 5 is a globular cluster within our own Milky Way galaxy.\n",
        "\n",
        "We are going to pull out the information on stars within this cluster.  We will be doing a join between the star and Data Base Objects (dbo) tables to pull out the star objects.  The columns we are reading are as follows:\n",
        "\n",
        "* objid - each astronomical object's unique ID Number\n",
        "* ra, dec - the Right Ascension (ra) and Declination (dec) location of each star.  ra/dec is analogous to latitude and longitude on the earth but is fixed to the stars in the sky.\n",
        "* u, g, r, i, z - the brightness of the star through different [colored filters](http://skyserver.sdss.org/dr2/en/proj/advanced/color/sdssfilters.asp).  They stand for ultraviolet, green, red, infrared and far infrared.  The lower the filter number, the brighter it is in that color.  So if g > r then the star is redder. This seems a bit backwards but it is because brightness is measured in magnitudes which is a system developed by ancient astronomers who called the brightest stars magnitude 1 (because they were the most visible), slightly less bright, magnitude 2 and so on.\n",
        "\n",
        "There are 3 inputs to the fGetNearbyObjEq function that pulls out a section of the dbo table.  The first two numbers specify the location of the center of the cluster in ra/dec while the 3 means we should pull out every star that has a location within 3 arcminutes of the center (an arcminute is 1/60th of a degree)."
      ]
    },
    {
      "cell_type": "code",
      "metadata": {
        "id": "O19NVSki57g6"
      },
      "source": [
        "sql_expr = \"\"\"\n",
        "SELECT s.objid, s.ra, s.dec, s.u, s.g, s.r, s.i, s.z\n",
        "FROM star s, dbo.fGetNearbyObjEq(229.0128,-0.1082,3) n\n",
        "WHERE s.objid = n.objid\n",
        "\"\"\""
      ],
      "execution_count": null,
      "outputs": []
    },
    {
      "cell_type": "markdown",
      "metadata": {
        "id": "-79uxunp57g8"
      },
      "source": [
        "### Web surfing with the Python mechanize module\n",
        "The first step in using `mechanize` will be to create a Browser-like object to be able to navigate using its methods"
      ]
    },
    {
      "cell_type": "code",
      "metadata": {
        "id": "tQnVhWsQ57g-"
      },
      "source": [
        "br = mechanize.Browser()"
      ],
      "execution_count": null,
      "outputs": []
    },
    {
      "cell_type": "markdown",
      "metadata": {
        "id": "QwnSk2is57hA"
      },
      "source": [
        "Then we must open a session using the url defined above, pointing to the SDSS web page that allows us to make the SQL queries:"
      ]
    },
    {
      "cell_type": "code",
      "metadata": {
        "id": "e7rXprXO57hA",
        "outputId": "c7b80469-f513-4ce3-9e62-710cb90068f7",
        "colab": {
          "base_uri": "https://localhost:8080/",
          "height": 34
        }
      },
      "source": [
        "resp = br.open(url)\n",
        "resp.info()"
      ],
      "execution_count": null,
      "outputs": [
        {
          "output_type": "execute_result",
          "data": {
            "text/plain": [
              "<http.client.HTTPMessage at 0x7fd4fb623b38>"
            ]
          },
          "metadata": {
            "tags": []
          },
          "execution_count": 37
        }
      ]
    },
    {
      "cell_type": "markdown",
      "metadata": {
        "id": "D-weaFzG57hD"
      },
      "source": [
        "When you want to interact with a web page, you will be interested to know the HTML forms contained in it. An HTML form is a section of the document between the tags: FORM and /FORM\n",
        "\n",
        "A HTML form contains a series of special objects called controls such as checkboxes, radio buttons, menus, etc. and labels of these objects. The user interacts with the page by modifying a control, for example by selecting an option, introducing a text in a field, etc. and sending this modified form back to the server.\n",
        "\n",
        "Each HTML form on the page has a name, although this can in some cases be empty. To get a list of the names of the forms in the page we can write:"
      ]
    },
    {
      "cell_type": "code",
      "metadata": {
        "id": "6bklVO2g57hD",
        "outputId": "c6d60883-03b2-451b-b629-c80d3e0ac85e",
        "colab": {
          "base_uri": "https://localhost:8080/",
          "height": 34
        }
      },
      "source": [
        "for f in br.forms():\n",
        "    print(f.name)"
      ],
      "execution_count": null,
      "outputs": [
        {
          "output_type": "stream",
          "text": [
            "sql\n"
          ],
          "name": "stdout"
        }
      ]
    },
    {
      "cell_type": "markdown",
      "metadata": {
        "id": "xW-djI3r57hI"
      },
      "source": [
        "That is, in this case there is only one form on the page, named \"sql\"\n",
        "\n",
        "At the same time, each form has a list of controls that also have a name, which can also be left blank. To list the forms on the page, along with their controls, and each control type, we can do the following:"
      ]
    },
    {
      "cell_type": "code",
      "metadata": {
        "id": "Py6oR65H57hI",
        "outputId": "1949f2f1-ae18-4523-9b45-bc0bb4247288",
        "colab": {
          "base_uri": "https://localhost:8080/",
          "height": 221
        }
      },
      "source": [
        "for f in br.forms():\n",
        "    print(f.name)\n",
        "    for c in f.controls:\n",
        "        print('\\t',c.name, '\\t', c.type)"
      ],
      "execution_count": null,
      "outputs": [
        {
          "output_type": "stream",
          "text": [
            "sql\n",
            "\t searchtool \t hidden\n",
            "\t TaskName \t hidden\n",
            "\t syntax \t hidden\n",
            "\t ReturnHtml \t hidden\n",
            "\t clear \t button\n",
            "\t cmd \t textarea\n",
            "\t None \t submit\n",
            "\t None \t submit\n",
            "\t format \t radio\n",
            "\t TableName \t text\n",
            "\t reset \t reset\n"
          ],
          "name": "stdout"
        }
      ]
    },
    {
      "cell_type": "markdown",
      "metadata": {
        "id": "SR9nt_Mx57hK"
      },
      "source": [
        "We will focus on the \"cmd\" control which is the text area in which we write our SQL, and the \"format\" control, which, as you can see on the web page, is used to control the type of output desired: HTML, XML, CSV, etc.. To access these controls you must previously select the form to which they belong:"
      ]
    },
    {
      "cell_type": "code",
      "metadata": {
        "id": "I5SAuzVU57hL"
      },
      "source": [
        "br.select_form(name=\"sql\")"
      ],
      "execution_count": null,
      "outputs": []
    },
    {
      "cell_type": "markdown",
      "metadata": {
        "id": "-C61dPuf57hN"
      },
      "source": [
        "Then we will modify the control 'cmd' to enter our SQL, and the 'format' control, to select the output in csv format."
      ]
    },
    {
      "cell_type": "code",
      "metadata": {
        "id": "w4Q-rSnj57hN"
      },
      "source": [
        "br['cmd'] = sql_expr  # This is the string with the sql query\n",
        "br['format']=['csv'] # data output format\n",
        "response = br.submit()"
      ],
      "execution_count": null,
      "outputs": []
    },
    {
      "cell_type": "markdown",
      "metadata": {
        "id": "Sa2NvZsQ57hQ"
      },
      "source": [
        "We can get a string with the contents of the answer using the `get_data()` method:\n",
        "\n",
        "But attention!, The `submit()` method closes the session, so, to send another SQL query you must first repeat the `br.open()` and `br.select()` calls.\n",
        "\n",
        "Then, and in order to be able to process the data more easily, the most advisable could be to generate a Python Pandas dataframe. We can see that the first line should be discarded, while the second row contains the names of the columns, so we will keep it in the dataframe:"
      ]
    },
    {
      "cell_type": "code",
      "metadata": {
        "id": "KhcUsrsp57hQ",
        "outputId": "7b5a4514-1604-41fe-cb52-422129993ef2",
        "colab": {
          "base_uri": "https://localhost:8080/",
          "height": 204
        }
      },
      "source": [
        "file_like = BytesIO(response.get_data())\n",
        "df =pd.read_csv(file_like, skiprows = 1) # skip the first row\n",
        "df.head()"
      ],
      "execution_count": null,
      "outputs": [
        {
          "output_type": "execute_result",
          "data": {
            "text/html": [
              "<div>\n",
              "<style scoped>\n",
              "    .dataframe tbody tr th:only-of-type {\n",
              "        vertical-align: middle;\n",
              "    }\n",
              "\n",
              "    .dataframe tbody tr th {\n",
              "        vertical-align: top;\n",
              "    }\n",
              "\n",
              "    .dataframe thead th {\n",
              "        text-align: right;\n",
              "    }\n",
              "</style>\n",
              "<table border=\"1\" class=\"dataframe\">\n",
              "  <thead>\n",
              "    <tr style=\"text-align: right;\">\n",
              "      <th></th>\n",
              "      <th>objid</th>\n",
              "      <th>ra</th>\n",
              "      <th>dec</th>\n",
              "      <th>u</th>\n",
              "      <th>g</th>\n",
              "      <th>r</th>\n",
              "      <th>i</th>\n",
              "      <th>z</th>\n",
              "    </tr>\n",
              "  </thead>\n",
              "  <tbody>\n",
              "    <tr>\n",
              "      <th>0</th>\n",
              "      <td>1237648721252188402</td>\n",
              "      <td>229.002222</td>\n",
              "      <td>-0.152066</td>\n",
              "      <td>21.00188</td>\n",
              "      <td>19.76735</td>\n",
              "      <td>19.20007</td>\n",
              "      <td>18.97058</td>\n",
              "      <td>18.84365</td>\n",
              "    </tr>\n",
              "    <tr>\n",
              "      <th>1</th>\n",
              "      <td>1237648721252190039</td>\n",
              "      <td>229.007893</td>\n",
              "      <td>-0.151704</td>\n",
              "      <td>25.55580</td>\n",
              "      <td>24.68397</td>\n",
              "      <td>23.57514</td>\n",
              "      <td>22.20933</td>\n",
              "      <td>23.33751</td>\n",
              "    </tr>\n",
              "    <tr>\n",
              "      <th>2</th>\n",
              "      <td>1237648721252188411</td>\n",
              "      <td>229.003178</td>\n",
              "      <td>-0.146066</td>\n",
              "      <td>22.49817</td>\n",
              "      <td>21.73764</td>\n",
              "      <td>21.43663</td>\n",
              "      <td>21.44282</td>\n",
              "      <td>21.67447</td>\n",
              "    </tr>\n",
              "    <tr>\n",
              "      <th>3</th>\n",
              "      <td>1237648721252188404</td>\n",
              "      <td>229.005022</td>\n",
              "      <td>-0.148156</td>\n",
              "      <td>21.91147</td>\n",
              "      <td>20.52408</td>\n",
              "      <td>20.10879</td>\n",
              "      <td>20.00699</td>\n",
              "      <td>19.94131</td>\n",
              "    </tr>\n",
              "    <tr>\n",
              "      <th>4</th>\n",
              "      <td>1237648721252188399</td>\n",
              "      <td>229.001169</td>\n",
              "      <td>-0.149767</td>\n",
              "      <td>18.22769</td>\n",
              "      <td>16.82340</td>\n",
              "      <td>16.27687</td>\n",
              "      <td>16.05324</td>\n",
              "      <td>15.93971</td>\n",
              "    </tr>\n",
              "  </tbody>\n",
              "</table>\n",
              "</div>"
            ],
            "text/plain": [
              "                 objid          ra       dec  ...         r         i         z\n",
              "0  1237648721252188402  229.002222 -0.152066  ...  19.20007  18.97058  18.84365\n",
              "1  1237648721252190039  229.007893 -0.151704  ...  23.57514  22.20933  23.33751\n",
              "2  1237648721252188411  229.003178 -0.146066  ...  21.43663  21.44282  21.67447\n",
              "3  1237648721252188404  229.005022 -0.148156  ...  20.10879  20.00699  19.94131\n",
              "4  1237648721252188399  229.001169 -0.149767  ...  16.27687  16.05324  15.93971\n",
              "\n",
              "[5 rows x 8 columns]"
            ]
          },
          "metadata": {
            "tags": []
          },
          "execution_count": 42
        }
      ]
    },
    {
      "cell_type": "markdown",
      "metadata": {
        "id": "7q-6rRyz57hT"
      },
      "source": [
        "## Making a Hertzsprung-Russell Diagram\n",
        "\n",
        "A [Hertzprung-Russell Diagram](https://en.wikipedia.org/wiki/Hertzsprung%E2%80%93Russell_diagram) is a very famous type of star diagram that plots stellar brightness on the y-axis and color (light wavelength) on the x-axis.  This diagram makes it clear that for most stars, brighter stars are bluer (shorter wavelength) and hotter while dimmer stars are redder (longer wavelength) and cooler."
      ]
    },
    {
      "cell_type": "code",
      "metadata": {
        "id": "EOApuTqc57hT",
        "outputId": "4d193e61-78b8-473d-8650-8226e7d286e1",
        "colab": {
          "base_uri": "https://localhost:8080/",
          "height": 404
        }
      },
      "source": [
        "# Make a scatter plot of brightness vs color\n",
        "\n",
        "fig, ax = plt.subplots(figsize=(6,6))\n",
        "\n",
        "ax.scatter(df.g - df.r, df.r)\n",
        "ax.set_xlim([-1, 3])\n",
        "ax.invert_yaxis()\n",
        "ax.set_title('H-R Diagram')\n",
        "ax.set_xlabel('Redness')\n",
        "ax.set_ylabel('Brightness (mag)');\n"
      ],
      "execution_count": null,
      "outputs": [
        {
          "output_type": "display_data",
          "data": {
            "image/png": "[encoded data removed]",
            "text/plain": [
              "<Figure size 432x432 with 1 Axes>"
            ]
          },
          "metadata": {
            "tags": [],
            "needs_background": "light"
          }
        }
      ]
    },
    {
      "cell_type": "markdown",
      "metadata": {
        "id": "HFYqries57hW"
      },
      "source": [
        "The H-R diagram of the Palomar 5 globular cluster contains a lot of information.  Compare the plot we just made with a generalized cartoon H-R diagram:\n",
        "\n",
        "<img src=\"https://upload.wikimedia.org/wikipedia/commons/1/17/Hertzsprung-Russel_StarData.png\" width=600>\n",
        "\n",
        "The bulk of stars are in a rough line that goes from the bottom right to the upper left (red, dim to blue, bright).  These are \"main sequence\" stars that are fusing hydrogen in their cores.  Stars spend most of their lifetimes as main sequence stars.  Their place on the main sequence is determined by their mass.  Smaller stars are redder, cooler and fuse hydrogen slowly.  More massive stars are bluer, hotter and fuse hydrogen very quickly.  In our diagram we can see that the main group of stars swings off the main sequence to the right at a brightness of magnitude 21.  This is known as the \"main sequence turnoff\".  These stars have run out of hydrogen in their cores and have started to fuse helium.  Fusing helium makes the stars puff up and become \"red giants\".  The swollen outer layers are far from the core so they become cooler and redder but the stars are still very large and so they are very bright.  The location of the main sequence turnoff tells us about the age of the cluster.  All of the cluster stars were born at about the same time.  The biggest, brightest, bluest ones run out of hydrogen in their cores and turn off the main sequence first.  The lower in brightness the turnoff occurs, the older the cluster since less heavy stars have had time to run out of hydrogen.  The cutoff in our diagram is quite low, indicating that the cluster is fairly old.  This is expected since globular clusters typically contain some of the oldest stars in the galaxy."
      ]
    },
    {
      "cell_type": "code",
      "metadata": {
        "id": "yespXpZT57hW"
      },
      "source": [
        "# TASK 3: Create a scatter plot of star locations with \n",
        "# right ascension on the x-axis and declination on the\n",
        "# y-axis.  You will get something round since we are \n",
        "# dealing with all stars within 3 arcminutes of the center\n",
        "\n"
      ],
      "execution_count": null,
      "outputs": []
    },
    {
      "cell_type": "code",
      "metadata": {
        "id": "FyrB2O9e57hY",
        "outputId": "75805b17-43b0-481e-8e3c-e9288da6e6f5",
        "colab": {
          "base_uri": "https://localhost:8080/",
          "height": 404
        }
      },
      "source": [
        "fig, ax = plt.subplots(figsize=(6,6))\n",
        "\n",
        "ax.scatter(df.ra - df.dec, df.r)\n",
        "ax.set_xlim()\n",
        "ax.invert_yaxis()\n",
        "ax.set_title('H-R Diagram')\n",
        "ax.set_xlabel('Surface Temperature')\n",
        "ax.set_ylabel('Luminosity');"
      ],
      "execution_count": null,
      "outputs": [
        {
          "output_type": "display_data",
          "data": {
            "image/png": "[encoded data removed]",
            "text/plain": [
              "<Figure size 432x432 with 1 Axes>"
            ]
          },
          "metadata": {
            "tags": [],
            "needs_background": "light"
          }
        }
      ]
    }
  ]
}