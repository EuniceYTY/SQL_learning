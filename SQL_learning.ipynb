{
  "nbformat": 4,
  "nbformat_minor": 0,
  "metadata": {
    "kernelspec": {
      "display_name": "Python 3",
      "language": "python",
      "name": "python3"
    },
    "language_info": {
      "codemirror_mode": {
        "name": "ipython",
        "version": 3
      },
      "file_extension": ".py",
      "mimetype": "text/x-python",
      "name": "python",
      "nbconvert_exporter": "python",
      "pygments_lexer": "ipython3",
      "version": "3.6.8"
    },
    "colab": {
      "name": "Lab17_Databases1.ipynb",
      "provenance": [],
      "collapsed_sections": [
        "6BfEypoNgsM2"
      ]
    }
  },
  "cells": [
    {
      "cell_type": "markdown",
      "metadata": {
        "id": "C05L8iOVgsLP"
      },
      "source": [
        "# Databases 1\n",
        "\n",
        "This notebook is based on the Berkley DS100 course notebook, available [here](http://www.ds100.org/sp18/assets/lectures/lec11/sql_introduction_part1.html)."
      ]
    },
    {
      "cell_type": "markdown",
      "metadata": {
        "id": "Y1FTDAHugsLS"
      },
      "source": [
        "# Introduction to SQL\n",
        "\n",
        "In this notebook we walk through basic SQL queries and review how to interact with SQL from Python. We will be using the [core sqlalchemy library](https://docs.sqlalchemy.org/en/latest/core/tutorial.html) as an abstraction layer on-top of the underlying database management system. We will not be using the sophisticated object relational management features available in sqlalchemy."
      ]
    },
    {
      "cell_type": "code",
      "metadata": {
        "id": "urVKGQAggsLT"
      },
      "source": [
        "import sqlalchemy"
      ],
      "execution_count": null,
      "outputs": []
    },
    {
      "cell_type": "markdown",
      "metadata": {
        "id": "X06jCmzkgsLV"
      },
      "source": [
        "## Connecting to the Database\n",
        "\n",
        "For the first part of this assignment we will create and connect to a local SQLite database that is created in you Colaboratory folder. SQLite is a simple file oriented database management \"library.\" In the following we launch a SQLite database stored in the `myfirst.db` file in the local folder."
      ]
    },
    {
      "cell_type": "code",
      "metadata": {
        "id": "im0ZhoIggsLW"
      },
      "source": [
        "# Delete the database if it already exists.\n",
        "# We want to start from scratch each time the notebook runs.\n",
        "from pathlib import Path\n",
        "dbfile = Path(\"myfirst.db\")\n",
        "if dbfile.exists():\n",
        "    dbfile.unlink()\n",
        "\n",
        "sqlite_uri = \"sqlite:///myfirst.db\"\n",
        "sqlite_engine = sqlalchemy.create_engine(sqlite_uri)"
      ],
      "execution_count": null,
      "outputs": []
    },
    {
      "cell_type": "markdown",
      "metadata": {
        "id": "8G4oKKxSgsLY"
      },
      "source": [
        "On the first call there should be no tables present in the file."
      ]
    },
    {
      "cell_type": "code",
      "metadata": {
        "id": "OPgi9eNBgsLY",
        "outputId": "349ff99f-66fb-47b5-a782-7fc41e2b4ed8",
        "colab": {
          "base_uri": "https://localhost:8080/",
          "height": 34
        }
      },
      "source": [
        "sqlite_engine.table_names()"
      ],
      "execution_count": null,
      "outputs": [
        {
          "output_type": "execute_result",
          "data": {
            "text/plain": [
              "[]"
            ]
          },
          "metadata": {
            "tags": []
          },
          "execution_count": 52
        }
      ]
    },
    {
      "cell_type": "markdown",
      "metadata": {
        "id": "PUewdo71gsLb"
      },
      "source": [
        "## Creating a Table\n",
        "\n",
        "To start, we are going to define a toy relation (a.k.a. a table), populate it with some toy data, and work through some basic SQL. First, let's create the table of students.\n",
        "\n",
        "The table contains columns:\n",
        "\n",
        "* **name**: Text and unique (Primary Key)\n",
        "* **gpa**: Float with range constraints\n",
        "* **age**: Integer\n",
        "* **dept**: Text\n",
        "* **sex**: Char (e.g., 'M', 'F')\n",
        "Note that each column has a fixed data type.\n",
        "\n",
        "**The DBMS will enforce these types as data is inserted.**\n",
        "\n",
        "Note also the definition of a primary key, as we discussed in the lecture.\n",
        "\n",
        "**The DBMS will enforce the uniqueness of values in the key columns.**"
      ]
    },
    {
      "cell_type": "code",
      "metadata": {
        "id": "5fTULu34gsLb"
      },
      "source": [
        "sql_expr = \"\"\"\n",
        "CREATE TABLE students(\n",
        "    name TEXT PRIMARY KEY, \n",
        "    gpa FLOAT CHECK (gpa >= 0.0 and gpa <= 4.0), \n",
        "    age INTEGER, \n",
        "    dept TEXT, \n",
        "    gender CHAR);\n",
        "\"\"\"\n",
        "result = sqlite_engine.execute(sql_expr)"
      ],
      "execution_count": null,
      "outputs": []
    },
    {
      "cell_type": "markdown",
      "metadata": {
        "id": "AMu802NsgsLd"
      },
      "source": [
        "The query returns a sqlalchemy `ResultProxy` object:"
      ]
    },
    {
      "cell_type": "code",
      "metadata": {
        "id": "OF4b07rZgsLd"
      },
      "source": [
        "result?\n",
        "# You can close the pop-up that results from running this cell\n",
        "# after you have examined its contents."
      ],
      "execution_count": null,
      "outputs": []
    },
    {
      "cell_type": "markdown",
      "metadata": {
        "id": "t5R-g-3TgsLf"
      },
      "source": [
        "We can check to see if the result object contains any data:"
      ]
    },
    {
      "cell_type": "code",
      "metadata": {
        "id": "yVIAV-4agsLg",
        "outputId": "bfed0397-2439-46db-867a-969d6aaf1559",
        "colab": {
          "base_uri": "https://localhost:8080/",
          "height": 34
        }
      },
      "source": [
        "result.returns_rows"
      ],
      "execution_count": null,
      "outputs": [
        {
          "output_type": "execute_result",
          "data": {
            "text/plain": [
              "False"
            ]
          },
          "metadata": {
            "tags": []
          },
          "execution_count": 55
        }
      ]
    },
    {
      "cell_type": "markdown",
      "metadata": {
        "id": "nt1v_TNsgsLi"
      },
      "source": [
        "## Inserting Values into the Table\n",
        "\n",
        "Now let's manually insert some values into the table. Note that:\n",
        "\n",
        "* strings in SQL must be quoted with a single quote ' character.\n",
        "* insertions need to have values in the same order as the columns in the `create table` statement!"
      ]
    },
    {
      "cell_type": "code",
      "metadata": {
        "id": "exmklYE5gsLi"
      },
      "source": [
        "sql_expr = \"\"\"\n",
        "INSERT INTO students VALUES \n",
        "  ('Sergey Brin', 2.8, 44, 'CS', 'M'),\n",
        "  ('Danah Boyd', 3.9, 40, 'CS', 'F'),\n",
        "  ('Bill Gates', 1.0, 62, 'CS', 'M'),\n",
        "  ('Hillary Mason', 4.0, 39, 'DATASCI', 'F'),\n",
        "  ('Mike Olson', 3.7, 54, 'CS', 'M'),\n",
        "  ('Mark Zuckerberg', 4.0, 33, 'CS', 'M'),\n",
        "  ('Sheryl Sandberg', 4.0, 48, 'BUSINESS', 'F'),\n",
        "  ('Susan Wojcicki', 4.0, 49, 'BUSINESS', 'F'),\n",
        "  ('Marissa Mayer', 4.0, 42, 'BUSINESS', 'F');\n",
        "\n",
        "\"\"\"\n",
        "result = sqlite_engine.execute(sql_expr)"
      ],
      "execution_count": null,
      "outputs": []
    },
    {
      "cell_type": "markdown",
      "metadata": {
        "id": "sDeYu-x7gsLk"
      },
      "source": [
        "Again we see that this query returns nothing:"
      ]
    },
    {
      "cell_type": "code",
      "metadata": {
        "id": "sw5lHNT3gsLk",
        "outputId": "1bf2f708-eab4-4e38-97d7-d2b9f6e0d404",
        "colab": {
          "base_uri": "https://localhost:8080/",
          "height": 34
        }
      },
      "source": [
        "result.returns_rows"
      ],
      "execution_count": null,
      "outputs": [
        {
          "output_type": "execute_result",
          "data": {
            "text/plain": [
              "False"
            ]
          },
          "metadata": {
            "tags": []
          },
          "execution_count": 57
        }
      ]
    },
    {
      "cell_type": "code",
      "metadata": {
        "id": "4j2NjGYagsLn",
        "outputId": "7baaaf6c-ecf6-4557-8b16-f49243e9abce",
        "colab": {
          "base_uri": "https://localhost:8080/",
          "height": 34
        }
      },
      "source": [
        "# TASK 1: Insert yourself into the students table as a new row.\n",
        "# Give yourself a GPA of 4.0 (hey, it's your table, why not?)\n",
        "sql_expr = \"\"\"\n",
        "INSERT INTO students VALUES\n",
        "    ('Tsz Yi Yeung', 4.0, 25, 'CS', 'F');\n",
        "\"\"\"\n",
        "sqlite_engine.execute(sql_expr)"
      ],
      "execution_count": null,
      "outputs": [
        {
          "output_type": "execute_result",
          "data": {
            "text/plain": [
              "<sqlalchemy.engine.result.ResultProxy at 0x7fe90fd005c0>"
            ]
          },
          "metadata": {
            "tags": []
          },
          "execution_count": 58
        }
      ]
    },
    {
      "cell_type": "markdown",
      "metadata": {
        "id": "PFdHBCmTgsLp"
      },
      "source": [
        "## Querying the Table\n",
        "\n",
        "Now that we have populated the table we can construct a query to extract the results."
      ]
    },
    {
      "cell_type": "code",
      "metadata": {
        "id": "l2jisPEkgsLp"
      },
      "source": [
        "sql_expr = \"\"\"\n",
        "SELECT * FROM students;\n",
        "\"\"\"\n",
        "result = sqlite_engine.execute(sql_expr)"
      ],
      "execution_count": null,
      "outputs": []
    },
    {
      "cell_type": "code",
      "metadata": {
        "id": "ml10R0TagsLr",
        "outputId": "3e207947-30e8-49ad-db8e-b4f56f3e2a04",
        "colab": {
          "base_uri": "https://localhost:8080/",
          "height": 34
        }
      },
      "source": [
        "result.returns_rows"
      ],
      "execution_count": null,
      "outputs": [
        {
          "output_type": "execute_result",
          "data": {
            "text/plain": [
              "True"
            ]
          },
          "metadata": {
            "tags": []
          },
          "execution_count": 60
        }
      ]
    },
    {
      "cell_type": "markdown",
      "metadata": {
        "id": "l_ac5DpLgsLt"
      },
      "source": [
        "### Iterating the Cursor\n",
        "The query returns a persistent connection in the form of a cursor which can be used to read data from the database."
      ]
    },
    {
      "cell_type": "code",
      "metadata": {
        "id": "KzsL9plAgsLt",
        "outputId": "1b0b5367-ffac-4951-dbd5-d178aeeb2817",
        "colab": {
          "base_uri": "https://localhost:8080/",
          "height": 187
        }
      },
      "source": [
        "[r for r in result.cursor]"
      ],
      "execution_count": null,
      "outputs": [
        {
          "output_type": "execute_result",
          "data": {
            "text/plain": [
              "[('Sergey Brin', 2.8, 44, 'CS', 'M'),\n",
              " ('Danah Boyd', 3.9, 40, 'CS', 'F'),\n",
              " ('Bill Gates', 1.0, 62, 'CS', 'M'),\n",
              " ('Hillary Mason', 4.0, 39, 'DATASCI', 'F'),\n",
              " ('Mike Olson', 3.7, 54, 'CS', 'M'),\n",
              " ('Mark Zuckerberg', 4.0, 33, 'CS', 'M'),\n",
              " ('Sheryl Sandberg', 4.0, 48, 'BUSINESS', 'F'),\n",
              " ('Susan Wojcicki', 4.0, 49, 'BUSINESS', 'F'),\n",
              " ('Marissa Mayer', 4.0, 42, 'BUSINESS', 'F'),\n",
              " ('Tsz Yi Yeung', 4.0, 25, 'CS', 'F')]"
            ]
          },
          "metadata": {
            "tags": []
          },
          "execution_count": 61
        }
      ]
    },
    {
      "cell_type": "markdown",
      "metadata": {
        "id": "czX8O5FCgsLv"
      },
      "source": [
        "However, as we read the cursor we advance it and so it can only be used once:"
      ]
    },
    {
      "cell_type": "code",
      "metadata": {
        "id": "x6qEdVHbgsLv",
        "outputId": "a503a426-aa68-46b2-f5eb-1e6ddbee7fb9",
        "colab": {
          "base_uri": "https://localhost:8080/",
          "height": 34
        }
      },
      "source": [
        "[r for r in result.cursor]"
      ],
      "execution_count": null,
      "outputs": [
        {
          "output_type": "execute_result",
          "data": {
            "text/plain": [
              "[]"
            ]
          },
          "metadata": {
            "tags": []
          },
          "execution_count": 62
        }
      ]
    },
    {
      "cell_type": "markdown",
      "metadata": {
        "id": "g1F4LMLGgsLx"
      },
      "source": [
        "### Using Pandas to Query the Database\n",
        "You can also use Pandas to query the database. Here we pass the engine (or a connection) into the [pandas.read_sql](https://pandas.pydata.org/pandas-docs/stable/generated/pandas.read_sql.html) function:"
      ]
    },
    {
      "cell_type": "code",
      "metadata": {
        "id": "yJH5gYM3gsLy",
        "outputId": "d6f6a96a-7d2e-414f-d576-6f277ec6a46e",
        "colab": {
          "base_uri": "https://localhost:8080/",
          "height": 359
        }
      },
      "source": [
        "import pandas as pd\n",
        "\n",
        "sql_expr = \"\"\"\n",
        "SELECT * FROM students;\n",
        "\"\"\"\n",
        "pd.read_sql(sql_expr, sqlite_engine)"
      ],
      "execution_count": null,
      "outputs": [
        {
          "output_type": "execute_result",
          "data": {
            "text/html": [
              "<div>\n",
              "<style scoped>\n",
              "    .dataframe tbody tr th:only-of-type {\n",
              "        vertical-align: middle;\n",
              "    }\n",
              "\n",
              "    .dataframe tbody tr th {\n",
              "        vertical-align: top;\n",
              "    }\n",
              "\n",
              "    .dataframe thead th {\n",
              "        text-align: right;\n",
              "    }\n",
              "</style>\n",
              "<table border=\"1\" class=\"dataframe\">\n",
              "  <thead>\n",
              "    <tr style=\"text-align: right;\">\n",
              "      <th></th>\n",
              "      <th>name</th>\n",
              "      <th>gpa</th>\n",
              "      <th>age</th>\n",
              "      <th>dept</th>\n",
              "      <th>gender</th>\n",
              "    </tr>\n",
              "  </thead>\n",
              "  <tbody>\n",
              "    <tr>\n",
              "      <th>0</th>\n",
              "      <td>Sergey Brin</td>\n",
              "      <td>2.8</td>\n",
              "      <td>44</td>\n",
              "      <td>CS</td>\n",
              "      <td>M</td>\n",
              "    </tr>\n",
              "    <tr>\n",
              "      <th>1</th>\n",
              "      <td>Danah Boyd</td>\n",
              "      <td>3.9</td>\n",
              "      <td>40</td>\n",
              "      <td>CS</td>\n",
              "      <td>F</td>\n",
              "    </tr>\n",
              "    <tr>\n",
              "      <th>2</th>\n",
              "      <td>Bill Gates</td>\n",
              "      <td>1.0</td>\n",
              "      <td>62</td>\n",
              "      <td>CS</td>\n",
              "      <td>M</td>\n",
              "    </tr>\n",
              "    <tr>\n",
              "      <th>3</th>\n",
              "      <td>Hillary Mason</td>\n",
              "      <td>4.0</td>\n",
              "      <td>39</td>\n",
              "      <td>DATASCI</td>\n",
              "      <td>F</td>\n",
              "    </tr>\n",
              "    <tr>\n",
              "      <th>4</th>\n",
              "      <td>Mike Olson</td>\n",
              "      <td>3.7</td>\n",
              "      <td>54</td>\n",
              "      <td>CS</td>\n",
              "      <td>M</td>\n",
              "    </tr>\n",
              "    <tr>\n",
              "      <th>5</th>\n",
              "      <td>Mark Zuckerberg</td>\n",
              "      <td>4.0</td>\n",
              "      <td>33</td>\n",
              "      <td>CS</td>\n",
              "      <td>M</td>\n",
              "    </tr>\n",
              "    <tr>\n",
              "      <th>6</th>\n",
              "      <td>Sheryl Sandberg</td>\n",
              "      <td>4.0</td>\n",
              "      <td>48</td>\n",
              "      <td>BUSINESS</td>\n",
              "      <td>F</td>\n",
              "    </tr>\n",
              "    <tr>\n",
              "      <th>7</th>\n",
              "      <td>Susan Wojcicki</td>\n",
              "      <td>4.0</td>\n",
              "      <td>49</td>\n",
              "      <td>BUSINESS</td>\n",
              "      <td>F</td>\n",
              "    </tr>\n",
              "    <tr>\n",
              "      <th>8</th>\n",
              "      <td>Marissa Mayer</td>\n",
              "      <td>4.0</td>\n",
              "      <td>42</td>\n",
              "      <td>BUSINESS</td>\n",
              "      <td>F</td>\n",
              "    </tr>\n",
              "    <tr>\n",
              "      <th>9</th>\n",
              "      <td>Tsz Yi Yeung</td>\n",
              "      <td>4.0</td>\n",
              "      <td>25</td>\n",
              "      <td>CS</td>\n",
              "      <td>F</td>\n",
              "    </tr>\n",
              "  </tbody>\n",
              "</table>\n",
              "</div>"
            ],
            "text/plain": [
              "              name  gpa  age      dept gender\n",
              "0      Sergey Brin  2.8   44        CS      M\n",
              "1       Danah Boyd  3.9   40        CS      F\n",
              "2       Bill Gates  1.0   62        CS      M\n",
              "3    Hillary Mason  4.0   39   DATASCI      F\n",
              "4       Mike Olson  3.7   54        CS      M\n",
              "5  Mark Zuckerberg  4.0   33        CS      M\n",
              "6  Sheryl Sandberg  4.0   48  BUSINESS      F\n",
              "7   Susan Wojcicki  4.0   49  BUSINESS      F\n",
              "8    Marissa Mayer  4.0   42  BUSINESS      F\n",
              "9     Tsz Yi Yeung  4.0   25        CS      F"
            ]
          },
          "metadata": {
            "tags": []
          },
          "execution_count": 63
        }
      ]
    },
    {
      "cell_type": "markdown",
      "metadata": {
        "id": "gW1iGgbKgsLz"
      },
      "source": [
        "## Primary Key Integrity Constraint\n",
        "What happens if we try to insert another record with the same primary key (name)?"
      ]
    },
    {
      "cell_type": "code",
      "metadata": {
        "id": "v9BOuJ41gsL0",
        "outputId": "296e9e40-4654-4b12-b256-2af09795b5eb",
        "colab": {
          "base_uri": "https://localhost:8080/",
          "height": 102
        }
      },
      "source": [
        "sql_expr = \"\"\"\n",
        "INSERT INTO students VALUES ('Bill Gates', 4.0, 60, 'BUSINESS', 'M')\n",
        "\"\"\"\n",
        "try:\n",
        "    result = sqlite_engine.execute(sql_expr)\n",
        "except Exception as e:\n",
        "    print(e)"
      ],
      "execution_count": null,
      "outputs": [
        {
          "output_type": "stream",
          "text": [
            "(sqlite3.IntegrityError) UNIQUE constraint failed: students.name\n",
            "[SQL: \n",
            "INSERT INTO students VALUES ('Bill Gates', 4.0, 60, 'BUSINESS', 'M')\n",
            "]\n",
            "(Background on this error at: http://sqlalche.me/e/gkpj)\n"
          ],
          "name": "stdout"
        }
      ]
    },
    {
      "cell_type": "markdown",
      "metadata": {
        "id": "MUZYrc9rgsL2"
      },
      "source": [
        "Notice in the above block of code we use `try:` and `except Exception as e:`. This accomplishes two goals:\n",
        "\n",
        "1. This syntax catches the exception and prevents the notebook from terminating when the error occurs (we are expecting this error!)\n",
        "2. This syntax also hides the full stack trace and only shows us the important message containing the final error."
      ]
    },
    {
      "cell_type": "markdown",
      "metadata": {
        "id": "dgeQsgXUgsL2"
      },
      "source": [
        "## Saving a Dataframe to a Database\n",
        "We can also populate the database using Pandas. In the following we first obtain the Tips dataset from the seaborn visualization library as a dataframe:"
      ]
    },
    {
      "cell_type": "code",
      "metadata": {
        "id": "pQQ-DR0ygsL3",
        "outputId": "41bd817a-6bac-4beb-8ce9-a9eb4b4097cd",
        "colab": {
          "base_uri": "https://localhost:8080/",
          "height": 204
        }
      },
      "source": [
        "import seaborn as sns\n",
        "\n",
        "tips_df = sns.load_dataset(\"tips\")\n",
        "tips_df.head()"
      ],
      "execution_count": null,
      "outputs": [
        {
          "output_type": "execute_result",
          "data": {
            "text/html": [
              "<div>\n",
              "<style scoped>\n",
              "    .dataframe tbody tr th:only-of-type {\n",
              "        vertical-align: middle;\n",
              "    }\n",
              "\n",
              "    .dataframe tbody tr th {\n",
              "        vertical-align: top;\n",
              "    }\n",
              "\n",
              "    .dataframe thead th {\n",
              "        text-align: right;\n",
              "    }\n",
              "</style>\n",
              "<table border=\"1\" class=\"dataframe\">\n",
              "  <thead>\n",
              "    <tr style=\"text-align: right;\">\n",
              "      <th></th>\n",
              "      <th>total_bill</th>\n",
              "      <th>tip</th>\n",
              "      <th>sex</th>\n",
              "      <th>smoker</th>\n",
              "      <th>day</th>\n",
              "      <th>time</th>\n",
              "      <th>size</th>\n",
              "    </tr>\n",
              "  </thead>\n",
              "  <tbody>\n",
              "    <tr>\n",
              "      <th>0</th>\n",
              "      <td>16.99</td>\n",
              "      <td>1.01</td>\n",
              "      <td>Female</td>\n",
              "      <td>No</td>\n",
              "      <td>Sun</td>\n",
              "      <td>Dinner</td>\n",
              "      <td>2</td>\n",
              "    </tr>\n",
              "    <tr>\n",
              "      <th>1</th>\n",
              "      <td>10.34</td>\n",
              "      <td>1.66</td>\n",
              "      <td>Male</td>\n",
              "      <td>No</td>\n",
              "      <td>Sun</td>\n",
              "      <td>Dinner</td>\n",
              "      <td>3</td>\n",
              "    </tr>\n",
              "    <tr>\n",
              "      <th>2</th>\n",
              "      <td>21.01</td>\n",
              "      <td>3.50</td>\n",
              "      <td>Male</td>\n",
              "      <td>No</td>\n",
              "      <td>Sun</td>\n",
              "      <td>Dinner</td>\n",
              "      <td>3</td>\n",
              "    </tr>\n",
              "    <tr>\n",
              "      <th>3</th>\n",
              "      <td>23.68</td>\n",
              "      <td>3.31</td>\n",
              "      <td>Male</td>\n",
              "      <td>No</td>\n",
              "      <td>Sun</td>\n",
              "      <td>Dinner</td>\n",
              "      <td>2</td>\n",
              "    </tr>\n",
              "    <tr>\n",
              "      <th>4</th>\n",
              "      <td>24.59</td>\n",
              "      <td>3.61</td>\n",
              "      <td>Female</td>\n",
              "      <td>No</td>\n",
              "      <td>Sun</td>\n",
              "      <td>Dinner</td>\n",
              "      <td>4</td>\n",
              "    </tr>\n",
              "  </tbody>\n",
              "</table>\n",
              "</div>"
            ],
            "text/plain": [
              "   total_bill   tip     sex smoker  day    time  size\n",
              "0       16.99  1.01  Female     No  Sun  Dinner     2\n",
              "1       10.34  1.66    Male     No  Sun  Dinner     3\n",
              "2       21.01  3.50    Male     No  Sun  Dinner     3\n",
              "3       23.68  3.31    Male     No  Sun  Dinner     2\n",
              "4       24.59  3.61  Female     No  Sun  Dinner     4"
            ]
          },
          "metadata": {
            "tags": []
          },
          "execution_count": 65
        }
      ]
    },
    {
      "cell_type": "markdown",
      "metadata": {
        "id": "hcEBjuN8gsL6"
      },
      "source": [
        "We can then use the `pandas.to_sql` command to put the data in our SQLlite database:"
      ]
    },
    {
      "cell_type": "code",
      "metadata": {
        "id": "MSMwIcMMgsL6"
      },
      "source": [
        "tips_df.to_sql(\"tips\", sqlite_engine)"
      ],
      "execution_count": null,
      "outputs": []
    },
    {
      "cell_type": "markdown",
      "metadata": {
        "id": "og3hRWrIgsL8"
      },
      "source": [
        "We can see that a new table has been added:"
      ]
    },
    {
      "cell_type": "code",
      "metadata": {
        "id": "mP8yre6ogsL8",
        "outputId": "4087d19a-0b9c-46e2-a112-bdec3b67094a",
        "colab": {
          "base_uri": "https://localhost:8080/",
          "height": 34
        }
      },
      "source": [
        "sqlite_engine.table_names()"
      ],
      "execution_count": null,
      "outputs": [
        {
          "output_type": "execute_result",
          "data": {
            "text/plain": [
              "['students', 'tips']"
            ]
          },
          "metadata": {
            "tags": []
          },
          "execution_count": 67
        }
      ]
    },
    {
      "cell_type": "markdown",
      "metadata": {
        "id": "magPUteagsL-"
      },
      "source": [
        "We can also query the table:"
      ]
    },
    {
      "cell_type": "code",
      "metadata": {
        "id": "7TRsGiDogsL-",
        "outputId": "2e613191-a5d0-4271-fbd2-d360c3ef1536",
        "colab": {
          "base_uri": "https://localhost:8080/",
          "height": 328
        }
      },
      "source": [
        "sql_expr = \"\"\"\n",
        "SELECT * FROM tips\n",
        "WHERE size > 4;\n",
        "\"\"\"\n",
        "pd.read_sql(sql_expr, sqlite_engine)"
      ],
      "execution_count": null,
      "outputs": [
        {
          "output_type": "execute_result",
          "data": {
            "text/html": [
              "<div>\n",
              "<style scoped>\n",
              "    .dataframe tbody tr th:only-of-type {\n",
              "        vertical-align: middle;\n",
              "    }\n",
              "\n",
              "    .dataframe tbody tr th {\n",
              "        vertical-align: top;\n",
              "    }\n",
              "\n",
              "    .dataframe thead th {\n",
              "        text-align: right;\n",
              "    }\n",
              "</style>\n",
              "<table border=\"1\" class=\"dataframe\">\n",
              "  <thead>\n",
              "    <tr style=\"text-align: right;\">\n",
              "      <th></th>\n",
              "      <th>index</th>\n",
              "      <th>total_bill</th>\n",
              "      <th>tip</th>\n",
              "      <th>sex</th>\n",
              "      <th>smoker</th>\n",
              "      <th>day</th>\n",
              "      <th>time</th>\n",
              "      <th>size</th>\n",
              "    </tr>\n",
              "  </thead>\n",
              "  <tbody>\n",
              "    <tr>\n",
              "      <th>0</th>\n",
              "      <td>125</td>\n",
              "      <td>29.80</td>\n",
              "      <td>4.20</td>\n",
              "      <td>Female</td>\n",
              "      <td>No</td>\n",
              "      <td>Thur</td>\n",
              "      <td>Lunch</td>\n",
              "      <td>6</td>\n",
              "    </tr>\n",
              "    <tr>\n",
              "      <th>1</th>\n",
              "      <td>141</td>\n",
              "      <td>34.30</td>\n",
              "      <td>6.70</td>\n",
              "      <td>Male</td>\n",
              "      <td>No</td>\n",
              "      <td>Thur</td>\n",
              "      <td>Lunch</td>\n",
              "      <td>6</td>\n",
              "    </tr>\n",
              "    <tr>\n",
              "      <th>2</th>\n",
              "      <td>142</td>\n",
              "      <td>41.19</td>\n",
              "      <td>5.00</td>\n",
              "      <td>Male</td>\n",
              "      <td>No</td>\n",
              "      <td>Thur</td>\n",
              "      <td>Lunch</td>\n",
              "      <td>5</td>\n",
              "    </tr>\n",
              "    <tr>\n",
              "      <th>3</th>\n",
              "      <td>143</td>\n",
              "      <td>27.05</td>\n",
              "      <td>5.00</td>\n",
              "      <td>Female</td>\n",
              "      <td>No</td>\n",
              "      <td>Thur</td>\n",
              "      <td>Lunch</td>\n",
              "      <td>6</td>\n",
              "    </tr>\n",
              "    <tr>\n",
              "      <th>4</th>\n",
              "      <td>155</td>\n",
              "      <td>29.85</td>\n",
              "      <td>5.14</td>\n",
              "      <td>Female</td>\n",
              "      <td>No</td>\n",
              "      <td>Sun</td>\n",
              "      <td>Dinner</td>\n",
              "      <td>5</td>\n",
              "    </tr>\n",
              "    <tr>\n",
              "      <th>5</th>\n",
              "      <td>156</td>\n",
              "      <td>48.17</td>\n",
              "      <td>5.00</td>\n",
              "      <td>Male</td>\n",
              "      <td>No</td>\n",
              "      <td>Sun</td>\n",
              "      <td>Dinner</td>\n",
              "      <td>6</td>\n",
              "    </tr>\n",
              "    <tr>\n",
              "      <th>6</th>\n",
              "      <td>185</td>\n",
              "      <td>20.69</td>\n",
              "      <td>5.00</td>\n",
              "      <td>Male</td>\n",
              "      <td>No</td>\n",
              "      <td>Sun</td>\n",
              "      <td>Dinner</td>\n",
              "      <td>5</td>\n",
              "    </tr>\n",
              "    <tr>\n",
              "      <th>7</th>\n",
              "      <td>187</td>\n",
              "      <td>30.46</td>\n",
              "      <td>2.00</td>\n",
              "      <td>Male</td>\n",
              "      <td>Yes</td>\n",
              "      <td>Sun</td>\n",
              "      <td>Dinner</td>\n",
              "      <td>5</td>\n",
              "    </tr>\n",
              "    <tr>\n",
              "      <th>8</th>\n",
              "      <td>216</td>\n",
              "      <td>28.15</td>\n",
              "      <td>3.00</td>\n",
              "      <td>Male</td>\n",
              "      <td>Yes</td>\n",
              "      <td>Sat</td>\n",
              "      <td>Dinner</td>\n",
              "      <td>5</td>\n",
              "    </tr>\n",
              "  </tbody>\n",
              "</table>\n",
              "</div>"
            ],
            "text/plain": [
              "   index  total_bill   tip     sex smoker   day    time  size\n",
              "0    125       29.80  4.20  Female     No  Thur   Lunch     6\n",
              "1    141       34.30  6.70    Male     No  Thur   Lunch     6\n",
              "2    142       41.19  5.00    Male     No  Thur   Lunch     5\n",
              "3    143       27.05  5.00  Female     No  Thur   Lunch     6\n",
              "4    155       29.85  5.14  Female     No   Sun  Dinner     5\n",
              "5    156       48.17  5.00    Male     No   Sun  Dinner     6\n",
              "6    185       20.69  5.00    Male     No   Sun  Dinner     5\n",
              "7    187       30.46  2.00    Male    Yes   Sun  Dinner     5\n",
              "8    216       28.15  3.00    Male    Yes   Sat  Dinner     5"
            ]
          },
          "metadata": {
            "tags": []
          },
          "execution_count": 68
        }
      ]
    },
    {
      "cell_type": "markdown",
      "metadata": {
        "id": "y5T1BHn7gsMA"
      },
      "source": [
        "## Exploring the Schema\n",
        "There is no mechanism in standard SQL to access the schema associated with each database management systems. However sqlalchemy provides a simple abstraction layer. I found the following [SQL Alchemy Quick Reference Sheet](https://www.pythonsheets.com/notes/python-sqlalchemy.html) to be very helpful."
      ]
    },
    {
      "cell_type": "code",
      "metadata": {
        "id": "pZEzGrTQgsMA",
        "outputId": "e37705c0-8f9a-4e77-fa19-32a45e23971f",
        "colab": {
          "base_uri": "https://localhost:8080/",
          "height": 34
        }
      },
      "source": [
        "inspector = sqlalchemy.inspect(sqlite_engine)\n",
        "inspector.get_table_names()"
      ],
      "execution_count": null,
      "outputs": [
        {
          "output_type": "execute_result",
          "data": {
            "text/plain": [
              "['students', 'tips']"
            ]
          },
          "metadata": {
            "tags": []
          },
          "execution_count": 69
        }
      ]
    },
    {
      "cell_type": "code",
      "metadata": {
        "id": "09_fXOMjgsMC",
        "outputId": "02c2f167-71e3-42d1-be6a-6584f38b8797",
        "colab": {
          "base_uri": "https://localhost:8080/",
          "height": 122
        }
      },
      "source": [
        "# Get column information\n",
        "for col in inspector.get_columns(\"students\"):\n",
        "    print(col)"
      ],
      "execution_count": null,
      "outputs": [
        {
          "output_type": "stream",
          "text": [
            "{'name': 'name', 'type': TEXT(), 'nullable': True, 'default': None, 'autoincrement': 'auto', 'primary_key': 1}\n",
            "{'name': 'gpa', 'type': FLOAT(), 'nullable': True, 'default': None, 'autoincrement': 'auto', 'primary_key': 0}\n",
            "{'name': 'age', 'type': INTEGER(), 'nullable': True, 'default': None, 'autoincrement': 'auto', 'primary_key': 0}\n",
            "{'name': 'dept', 'type': TEXT(), 'nullable': True, 'default': None, 'autoincrement': 'auto', 'primary_key': 0}\n",
            "{'name': 'gender', 'type': CHAR(), 'nullable': True, 'default': None, 'autoincrement': 'auto', 'primary_key': 0}\n"
          ],
          "name": "stdout"
        }
      ]
    },
    {
      "cell_type": "markdown",
      "metadata": {
        "id": "NifNO62-gsMD"
      },
      "source": [
        "## Dropping Tables\n",
        "The drop command is used to remove tables from the database (be carefull!):"
      ]
    },
    {
      "cell_type": "code",
      "metadata": {
        "id": "0JDw9l-7gsME",
        "outputId": "e1506cd2-7d6e-47ac-eac0-c1859f03a73e",
        "colab": {
          "base_uri": "https://localhost:8080/",
          "height": 34
        }
      },
      "source": [
        "sql_expr = \"\"\"\n",
        "DROP TABLE tips;\n",
        "\"\"\"\n",
        "sqlite_engine.execute(sql_expr)"
      ],
      "execution_count": null,
      "outputs": [
        {
          "output_type": "execute_result",
          "data": {
            "text/plain": [
              "<sqlalchemy.engine.result.ResultProxy at 0x7fe90fd2b9e8>"
            ]
          },
          "metadata": {
            "tags": []
          },
          "execution_count": 71
        }
      ]
    },
    {
      "cell_type": "markdown",
      "metadata": {
        "id": "nthacs6ogsMG"
      },
      "source": [
        "Notice that the tips table no longer exists:"
      ]
    },
    {
      "cell_type": "code",
      "metadata": {
        "id": "RcbMSbq3gsMH",
        "outputId": "ef4794b8-91df-4ca6-c2e7-901443c17995",
        "colab": {
          "base_uri": "https://localhost:8080/",
          "height": 34
        }
      },
      "source": [
        "sqlite_engine.table_names()"
      ],
      "execution_count": null,
      "outputs": [
        {
          "output_type": "execute_result",
          "data": {
            "text/plain": [
              "['students']"
            ]
          },
          "metadata": {
            "tags": []
          },
          "execution_count": 72
        }
      ]
    },
    {
      "cell_type": "markdown",
      "metadata": {
        "id": "Y2TkLyPjgsMJ"
      },
      "source": [
        "## UPDATE values\n",
        "What is Bill Gates' GPA?"
      ]
    },
    {
      "cell_type": "code",
      "metadata": {
        "id": "SNm7VoRQgsMK",
        "outputId": "d75274e3-cee2-4ca9-c4a5-aa89ec7e4048",
        "colab": {
          "base_uri": "https://localhost:8080/",
          "height": 80
        }
      },
      "source": [
        "sql_expr = \"\"\"\n",
        "SELECT * FROM students\n",
        "WHERE name LIKE  '%Bill%' -- SQL like regular expression\n",
        "\"\"\"\n",
        "pd.read_sql(sql_expr, sqlite_engine)"
      ],
      "execution_count": null,
      "outputs": [
        {
          "output_type": "execute_result",
          "data": {
            "text/html": [
              "<div>\n",
              "<style scoped>\n",
              "    .dataframe tbody tr th:only-of-type {\n",
              "        vertical-align: middle;\n",
              "    }\n",
              "\n",
              "    .dataframe tbody tr th {\n",
              "        vertical-align: top;\n",
              "    }\n",
              "\n",
              "    .dataframe thead th {\n",
              "        text-align: right;\n",
              "    }\n",
              "</style>\n",
              "<table border=\"1\" class=\"dataframe\">\n",
              "  <thead>\n",
              "    <tr style=\"text-align: right;\">\n",
              "      <th></th>\n",
              "      <th>name</th>\n",
              "      <th>gpa</th>\n",
              "      <th>age</th>\n",
              "      <th>dept</th>\n",
              "      <th>gender</th>\n",
              "    </tr>\n",
              "  </thead>\n",
              "  <tbody>\n",
              "    <tr>\n",
              "      <th>0</th>\n",
              "      <td>Bill Gates</td>\n",
              "      <td>1.0</td>\n",
              "      <td>62</td>\n",
              "      <td>CS</td>\n",
              "      <td>M</td>\n",
              "    </tr>\n",
              "  </tbody>\n",
              "</table>\n",
              "</div>"
            ],
            "text/plain": [
              "         name  gpa  age dept gender\n",
              "0  Bill Gates  1.0   62   CS      M"
            ]
          },
          "metadata": {
            "tags": []
          },
          "execution_count": 73
        }
      ]
    },
    {
      "cell_type": "markdown",
      "metadata": {
        "id": "u3GrupL4gsML"
      },
      "source": [
        "Wow, Bill has a low GPA let's lend him a hand."
      ]
    },
    {
      "cell_type": "code",
      "metadata": {
        "id": "NIMsMvFcgsMM",
        "outputId": "8d2d7194-fcb4-4d6c-b09d-589ca5587880",
        "colab": {
          "base_uri": "https://localhost:8080/",
          "height": 34
        }
      },
      "source": [
        "sql_expr = \"\"\"\n",
        "UPDATE students\n",
        "SET gpa = 1.0 + gpa\n",
        "WHERE LOWER(name) = 'bill gates';\n",
        "\"\"\"\n",
        "sqlite_engine.execute(sql_expr)"
      ],
      "execution_count": null,
      "outputs": [
        {
          "output_type": "execute_result",
          "data": {
            "text/plain": [
              "<sqlalchemy.engine.result.ResultProxy at 0x7fe90fd172e8>"
            ]
          },
          "metadata": {
            "tags": []
          },
          "execution_count": 74
        }
      ]
    },
    {
      "cell_type": "markdown",
      "metadata": {
        "id": "yfKXT_FXgsMN"
      },
      "source": [
        "And let's check the table now:"
      ]
    },
    {
      "cell_type": "code",
      "metadata": {
        "id": "pquZDpNngsMO",
        "outputId": "42cfe607-25da-4915-9b89-dffa33957e9c",
        "colab": {
          "base_uri": "https://localhost:8080/",
          "height": 80
        }
      },
      "source": [
        "sql_expr = \"\"\"\n",
        "SELECT * FROM students\n",
        "WHERE name LIKE  '%Bill%' -- SQL like regular expression\n",
        "\"\"\"\n",
        "pd.read_sql(sql_expr, sqlite_engine)"
      ],
      "execution_count": null,
      "outputs": [
        {
          "output_type": "execute_result",
          "data": {
            "text/html": [
              "<div>\n",
              "<style scoped>\n",
              "    .dataframe tbody tr th:only-of-type {\n",
              "        vertical-align: middle;\n",
              "    }\n",
              "\n",
              "    .dataframe tbody tr th {\n",
              "        vertical-align: top;\n",
              "    }\n",
              "\n",
              "    .dataframe thead th {\n",
              "        text-align: right;\n",
              "    }\n",
              "</style>\n",
              "<table border=\"1\" class=\"dataframe\">\n",
              "  <thead>\n",
              "    <tr style=\"text-align: right;\">\n",
              "      <th></th>\n",
              "      <th>name</th>\n",
              "      <th>gpa</th>\n",
              "      <th>age</th>\n",
              "      <th>dept</th>\n",
              "      <th>gender</th>\n",
              "    </tr>\n",
              "  </thead>\n",
              "  <tbody>\n",
              "    <tr>\n",
              "      <th>0</th>\n",
              "      <td>Bill Gates</td>\n",
              "      <td>2.0</td>\n",
              "      <td>62</td>\n",
              "      <td>CS</td>\n",
              "      <td>M</td>\n",
              "    </tr>\n",
              "  </tbody>\n",
              "</table>\n",
              "</div>"
            ],
            "text/plain": [
              "         name  gpa  age dept gender\n",
              "0  Bill Gates  2.0   62   CS      M"
            ]
          },
          "metadata": {
            "tags": []
          },
          "execution_count": 75
        }
      ]
    },
    {
      "cell_type": "markdown",
      "metadata": {
        "id": "CmxC4w7-gsMP"
      },
      "source": [
        "### Important Note\n",
        "In the update statement we decide which rows get updated based entirely on the values in each row, as checked by the where clause. **There is no notion of any information outside the values in the row**--e.g. there are no \"object identifiers\" or \"row numbers\"... everything is *just the data and only the data*."
      ]
    },
    {
      "cell_type": "code",
      "metadata": {
        "id": "lphhudn4gsMQ",
        "outputId": "0e8cec24-e792-4219-d9d6-deca53927237",
        "colab": {
          "base_uri": "https://localhost:8080/",
          "height": 34
        }
      },
      "source": [
        "# TASK 2: Two years have passed since the data in the table were\n",
        "# collected.  Update the ages to add two years.  This may take\n",
        "# two sql commands since, presumably, you entered your own age\n",
        "# correctly. Display the student data to check results.\n",
        "sql_expr = \"\"\"\n",
        "Update students\n",
        "  set age = age + 2\n",
        "  WHERE not name LIKE  '%Tsz%'; -- SQL like regular expression\n",
        "\n",
        "\"\"\"\n",
        "sqlite_engine.execute(sql_expr)"
      ],
      "execution_count": null,
      "outputs": [
        {
          "output_type": "execute_result",
          "data": {
            "text/plain": [
              "<sqlalchemy.engine.result.ResultProxy at 0x7fe90fd17748>"
            ]
          },
          "metadata": {
            "tags": []
          },
          "execution_count": 76
        }
      ]
    },
    {
      "cell_type": "code",
      "metadata": {
        "id": "XHRkpKIygsMS"
      },
      "source": [
        ""
      ],
      "execution_count": null,
      "outputs": []
    },
    {
      "cell_type": "markdown",
      "metadata": {
        "id": "860fwbQNgsMT"
      },
      "source": [
        "## Integrity Constraints\n",
        "The integrity constraints we imposed earlier can be used to improve data quality.\n",
        "\n",
        "Suppose Mark logged into the database and tried to give himself a 5.0?"
      ]
    },
    {
      "cell_type": "code",
      "metadata": {
        "id": "CPm4SNHqgsMU",
        "outputId": "52b9dea2-6633-4a1a-9278-fe1077d9e7de",
        "colab": {
          "base_uri": "https://localhost:8080/",
          "height": 136
        }
      },
      "source": [
        "try:\n",
        "    sql_expr = \"\"\"\n",
        "        UPDATE students\n",
        "        SET gpa = 5.0\n",
        "        WHERE LOWER(name) LIKE '%zuck%';\n",
        "        \"\"\"\n",
        "    sqlite_engine.execute(sql_expr)\n",
        "except Exception as e:\n",
        "    print(e)"
      ],
      "execution_count": null,
      "outputs": [
        {
          "output_type": "stream",
          "text": [
            "(sqlite3.IntegrityError) CHECK constraint failed: students\n",
            "[SQL: \n",
            "        UPDATE students\n",
            "        SET gpa = 5.0\n",
            "        WHERE LOWER(name) LIKE '%zuck%';\n",
            "        ]\n",
            "(Background on this error at: http://sqlalche.me/e/gkpj)\n"
          ],
          "name": "stdout"
        }
      ]
    },
    {
      "cell_type": "markdown",
      "metadata": {
        "id": "2HkezEJFgsMW"
      },
      "source": [
        "The above code fails. Why? (check the gpa.)"
      ]
    },
    {
      "cell_type": "markdown",
      "metadata": {
        "id": "jBA4pPDhgsMW"
      },
      "source": [
        "## Deleting Records\n",
        "We can delete rows in much the same way we update rows:"
      ]
    },
    {
      "cell_type": "code",
      "metadata": {
        "id": "2DHUZRUJgsMX",
        "outputId": "50ab040b-9284-4ac5-c3f2-7c8e7bdacb59",
        "colab": {
          "base_uri": "https://localhost:8080/",
          "height": 34
        }
      },
      "source": [
        "sql_expr = \"\"\"\n",
        "DELETE FROM students \n",
        "    WHERE name = 'Sergey Brin'\n",
        "\"\"\"\n",
        "sqlite_engine.execute(sql_expr)"
      ],
      "execution_count": null,
      "outputs": [
        {
          "output_type": "execute_result",
          "data": {
            "text/plain": [
              "<sqlalchemy.engine.result.ResultProxy at 0x7fe90fd2b860>"
            ]
          },
          "metadata": {
            "tags": []
          },
          "execution_count": 78
        }
      ]
    },
    {
      "cell_type": "markdown",
      "metadata": {
        "id": "VVXJLcHCgsMY"
      },
      "source": [
        "Notice we can rerun the above command multiple times. Why?"
      ]
    },
    {
      "cell_type": "code",
      "metadata": {
        "id": "-EFej3LkgsMY",
        "outputId": "caa7e9c8-66c8-477c-83a4-ffb99bb2740b",
        "colab": {
          "base_uri": "https://localhost:8080/",
          "height": 328
        }
      },
      "source": [
        "sql_expr = \"\"\"\n",
        "SELECT * FROM students;\n",
        "\"\"\"\n",
        "pd.read_sql(sql_expr, sqlite_engine)"
      ],
      "execution_count": null,
      "outputs": [
        {
          "output_type": "execute_result",
          "data": {
            "text/html": [
              "<div>\n",
              "<style scoped>\n",
              "    .dataframe tbody tr th:only-of-type {\n",
              "        vertical-align: middle;\n",
              "    }\n",
              "\n",
              "    .dataframe tbody tr th {\n",
              "        vertical-align: top;\n",
              "    }\n",
              "\n",
              "    .dataframe thead th {\n",
              "        text-align: right;\n",
              "    }\n",
              "</style>\n",
              "<table border=\"1\" class=\"dataframe\">\n",
              "  <thead>\n",
              "    <tr style=\"text-align: right;\">\n",
              "      <th></th>\n",
              "      <th>name</th>\n",
              "      <th>gpa</th>\n",
              "      <th>age</th>\n",
              "      <th>dept</th>\n",
              "      <th>gender</th>\n",
              "    </tr>\n",
              "  </thead>\n",
              "  <tbody>\n",
              "    <tr>\n",
              "      <th>0</th>\n",
              "      <td>Danah Boyd</td>\n",
              "      <td>3.9</td>\n",
              "      <td>42</td>\n",
              "      <td>CS</td>\n",
              "      <td>F</td>\n",
              "    </tr>\n",
              "    <tr>\n",
              "      <th>1</th>\n",
              "      <td>Bill Gates</td>\n",
              "      <td>2.0</td>\n",
              "      <td>64</td>\n",
              "      <td>CS</td>\n",
              "      <td>M</td>\n",
              "    </tr>\n",
              "    <tr>\n",
              "      <th>2</th>\n",
              "      <td>Hillary Mason</td>\n",
              "      <td>4.0</td>\n",
              "      <td>41</td>\n",
              "      <td>DATASCI</td>\n",
              "      <td>F</td>\n",
              "    </tr>\n",
              "    <tr>\n",
              "      <th>3</th>\n",
              "      <td>Mike Olson</td>\n",
              "      <td>3.7</td>\n",
              "      <td>56</td>\n",
              "      <td>CS</td>\n",
              "      <td>M</td>\n",
              "    </tr>\n",
              "    <tr>\n",
              "      <th>4</th>\n",
              "      <td>Mark Zuckerberg</td>\n",
              "      <td>4.0</td>\n",
              "      <td>35</td>\n",
              "      <td>CS</td>\n",
              "      <td>M</td>\n",
              "    </tr>\n",
              "    <tr>\n",
              "      <th>5</th>\n",
              "      <td>Sheryl Sandberg</td>\n",
              "      <td>4.0</td>\n",
              "      <td>50</td>\n",
              "      <td>BUSINESS</td>\n",
              "      <td>F</td>\n",
              "    </tr>\n",
              "    <tr>\n",
              "      <th>6</th>\n",
              "      <td>Susan Wojcicki</td>\n",
              "      <td>4.0</td>\n",
              "      <td>51</td>\n",
              "      <td>BUSINESS</td>\n",
              "      <td>F</td>\n",
              "    </tr>\n",
              "    <tr>\n",
              "      <th>7</th>\n",
              "      <td>Marissa Mayer</td>\n",
              "      <td>4.0</td>\n",
              "      <td>44</td>\n",
              "      <td>BUSINESS</td>\n",
              "      <td>F</td>\n",
              "    </tr>\n",
              "    <tr>\n",
              "      <th>8</th>\n",
              "      <td>Tsz Yi Yeung</td>\n",
              "      <td>4.0</td>\n",
              "      <td>25</td>\n",
              "      <td>CS</td>\n",
              "      <td>F</td>\n",
              "    </tr>\n",
              "  </tbody>\n",
              "</table>\n",
              "</div>"
            ],
            "text/plain": [
              "              name  gpa  age      dept gender\n",
              "0       Danah Boyd  3.9   42        CS      F\n",
              "1       Bill Gates  2.0   64        CS      M\n",
              "2    Hillary Mason  4.0   41   DATASCI      F\n",
              "3       Mike Olson  3.7   56        CS      M\n",
              "4  Mark Zuckerberg  4.0   35        CS      M\n",
              "5  Sheryl Sandberg  4.0   50  BUSINESS      F\n",
              "6   Susan Wojcicki  4.0   51  BUSINESS      F\n",
              "7    Marissa Mayer  4.0   44  BUSINESS      F\n",
              "8     Tsz Yi Yeung  4.0   25        CS      F"
            ]
          },
          "metadata": {
            "tags": []
          },
          "execution_count": 79
        }
      ]
    },
    {
      "cell_type": "markdown",
      "metadata": {
        "id": "w2l1A7M5gsMa"
      },
      "source": [
        "Restoring Sergey"
      ]
    },
    {
      "cell_type": "code",
      "metadata": {
        "id": "wywmgnTWgsMa",
        "outputId": "9acdf20c-6588-43a1-a656-60c8723e7f7e",
        "colab": {
          "base_uri": "https://localhost:8080/",
          "height": 34
        }
      },
      "source": [
        "sql_expr = \"\"\"\n",
        "INSERT INTO students VALUES\n",
        "    ('Sergey Brin', 4.0, 40, 'CS', 'M');\n",
        "\"\"\"\n",
        "sqlite_engine.execute(sql_expr)"
      ],
      "execution_count": null,
      "outputs": [
        {
          "output_type": "execute_result",
          "data": {
            "text/plain": [
              "<sqlalchemy.engine.result.ResultProxy at 0x7fe90fd22d68>"
            ]
          },
          "metadata": {
            "tags": []
          },
          "execution_count": 80
        }
      ]
    },
    {
      "cell_type": "markdown",
      "metadata": {
        "id": "kaIXgHKbgsMb"
      },
      "source": [
        "The above computation cannot be run more than once:"
      ]
    },
    {
      "cell_type": "code",
      "metadata": {
        "id": "smxm1OGpgsMc",
        "outputId": "217709e1-c574-48e1-dbc7-5cf963f59c48",
        "colab": {
          "base_uri": "https://localhost:8080/",
          "height": 119
        }
      },
      "source": [
        "try:\n",
        "    sql_expr = \"\"\"\n",
        "    INSERT INTO students VALUES\n",
        "        ('Sergey Brin', 4.0, 40, 'CS', 'M');\n",
        "    \"\"\"\n",
        "    sqlite_engine.execute(sql_expr)\n",
        "except Exception as e:\n",
        "    print(e)\n"
      ],
      "execution_count": null,
      "outputs": [
        {
          "output_type": "stream",
          "text": [
            "(sqlite3.IntegrityError) UNIQUE constraint failed: students.name\n",
            "[SQL: \n",
            "    INSERT INTO students VALUES\n",
            "        ('Sergey Brin', 4.0, 40, 'CS', 'M');\n",
            "    ]\n",
            "(Background on this error at: http://sqlalche.me/e/gkpj)\n"
          ],
          "name": "stdout"
        }
      ]
    },
    {
      "cell_type": "markdown",
      "metadata": {
        "id": "mL6uuHwwgsMf"
      },
      "source": [
        "Notice that the order of the records has changed. We actually have no guarantee on where Sergey is inserted in the database."
      ]
    },
    {
      "cell_type": "code",
      "metadata": {
        "id": "939oQhEJgsMf",
        "outputId": "9e0c8bc2-ed53-4fef-89bb-587bfdf53d9b",
        "colab": {
          "base_uri": "https://localhost:8080/",
          "height": 359
        }
      },
      "source": [
        "sql_expr = \"\"\"\n",
        "SELECT * FROM students;\n",
        "\"\"\"\n",
        "pd.read_sql(sql_expr, sqlite_engine)"
      ],
      "execution_count": null,
      "outputs": [
        {
          "output_type": "execute_result",
          "data": {
            "text/html": [
              "<div>\n",
              "<style scoped>\n",
              "    .dataframe tbody tr th:only-of-type {\n",
              "        vertical-align: middle;\n",
              "    }\n",
              "\n",
              "    .dataframe tbody tr th {\n",
              "        vertical-align: top;\n",
              "    }\n",
              "\n",
              "    .dataframe thead th {\n",
              "        text-align: right;\n",
              "    }\n",
              "</style>\n",
              "<table border=\"1\" class=\"dataframe\">\n",
              "  <thead>\n",
              "    <tr style=\"text-align: right;\">\n",
              "      <th></th>\n",
              "      <th>name</th>\n",
              "      <th>gpa</th>\n",
              "      <th>age</th>\n",
              "      <th>dept</th>\n",
              "      <th>gender</th>\n",
              "    </tr>\n",
              "  </thead>\n",
              "  <tbody>\n",
              "    <tr>\n",
              "      <th>0</th>\n",
              "      <td>Danah Boyd</td>\n",
              "      <td>3.9</td>\n",
              "      <td>42</td>\n",
              "      <td>CS</td>\n",
              "      <td>F</td>\n",
              "    </tr>\n",
              "    <tr>\n",
              "      <th>1</th>\n",
              "      <td>Bill Gates</td>\n",
              "      <td>2.0</td>\n",
              "      <td>64</td>\n",
              "      <td>CS</td>\n",
              "      <td>M</td>\n",
              "    </tr>\n",
              "    <tr>\n",
              "      <th>2</th>\n",
              "      <td>Hillary Mason</td>\n",
              "      <td>4.0</td>\n",
              "      <td>41</td>\n",
              "      <td>DATASCI</td>\n",
              "      <td>F</td>\n",
              "    </tr>\n",
              "    <tr>\n",
              "      <th>3</th>\n",
              "      <td>Mike Olson</td>\n",
              "      <td>3.7</td>\n",
              "      <td>56</td>\n",
              "      <td>CS</td>\n",
              "      <td>M</td>\n",
              "    </tr>\n",
              "    <tr>\n",
              "      <th>4</th>\n",
              "      <td>Mark Zuckerberg</td>\n",
              "      <td>4.0</td>\n",
              "      <td>35</td>\n",
              "      <td>CS</td>\n",
              "      <td>M</td>\n",
              "    </tr>\n",
              "    <tr>\n",
              "      <th>5</th>\n",
              "      <td>Sheryl Sandberg</td>\n",
              "      <td>4.0</td>\n",
              "      <td>50</td>\n",
              "      <td>BUSINESS</td>\n",
              "      <td>F</td>\n",
              "    </tr>\n",
              "    <tr>\n",
              "      <th>6</th>\n",
              "      <td>Susan Wojcicki</td>\n",
              "      <td>4.0</td>\n",
              "      <td>51</td>\n",
              "      <td>BUSINESS</td>\n",
              "      <td>F</td>\n",
              "    </tr>\n",
              "    <tr>\n",
              "      <th>7</th>\n",
              "      <td>Marissa Mayer</td>\n",
              "      <td>4.0</td>\n",
              "      <td>44</td>\n",
              "      <td>BUSINESS</td>\n",
              "      <td>F</td>\n",
              "    </tr>\n",
              "    <tr>\n",
              "      <th>8</th>\n",
              "      <td>Tsz Yi Yeung</td>\n",
              "      <td>4.0</td>\n",
              "      <td>25</td>\n",
              "      <td>CS</td>\n",
              "      <td>F</td>\n",
              "    </tr>\n",
              "    <tr>\n",
              "      <th>9</th>\n",
              "      <td>Sergey Brin</td>\n",
              "      <td>4.0</td>\n",
              "      <td>40</td>\n",
              "      <td>CS</td>\n",
              "      <td>M</td>\n",
              "    </tr>\n",
              "  </tbody>\n",
              "</table>\n",
              "</div>"
            ],
            "text/plain": [
              "              name  gpa  age      dept gender\n",
              "0       Danah Boyd  3.9   42        CS      F\n",
              "1       Bill Gates  2.0   64        CS      M\n",
              "2    Hillary Mason  4.0   41   DATASCI      F\n",
              "3       Mike Olson  3.7   56        CS      M\n",
              "4  Mark Zuckerberg  4.0   35        CS      M\n",
              "5  Sheryl Sandberg  4.0   50  BUSINESS      F\n",
              "6   Susan Wojcicki  4.0   51  BUSINESS      F\n",
              "7    Marissa Mayer  4.0   44  BUSINESS      F\n",
              "8     Tsz Yi Yeung  4.0   25        CS      F\n",
              "9      Sergey Brin  4.0   40        CS      M"
            ]
          },
          "metadata": {
            "tags": []
          },
          "execution_count": 82
        }
      ]
    },
    {
      "cell_type": "markdown",
      "metadata": {
        "id": "Nk9MSAtPgsMi"
      },
      "source": [
        "## SELECT Queries\n",
        "Now let's start looking at some slightly more interesting queries. The canonical SQL query block includes the following clauses, in the order they appear. Square brackets indicate optional clauses.\n",
        "\n",
        "```SQL\n",
        "SELECT ...\n",
        "  FROM ...\n",
        "[WHERE ...]\n",
        "[GROUP BY ...]\n",
        "[HAVING ...]\n",
        "[ORDER BY ...]\n",
        "[LIMIT ...];\n",
        "``` \n",
        "Query blocks can reference one or more tables, and be nested in various ways. Before we worry about multi-table queries or nested queries, we'll work our way through examples that exercise all of these clauses on a single table."
      ]
    },
    {
      "cell_type": "markdown",
      "metadata": {
        "id": "OeIvhTw1gsMj"
      },
      "source": [
        "### The `SELECT` LIST\n",
        "The `SELECT` list determines which columns to include in the output."
      ]
    },
    {
      "cell_type": "code",
      "metadata": {
        "id": "nwfDyKYrgsMj",
        "outputId": "ae7f072f-b321-4db2-e804-c806f63913f1",
        "colab": {
          "base_uri": "https://localhost:8080/",
          "height": 359
        }
      },
      "source": [
        "sql_expr = \"\"\"\n",
        "SELECT name\n",
        "FROM students;\n",
        "\"\"\"\n",
        "pd.read_sql(sql_expr, sqlite_engine)"
      ],
      "execution_count": null,
      "outputs": [
        {
          "output_type": "execute_result",
          "data": {
            "text/html": [
              "<div>\n",
              "<style scoped>\n",
              "    .dataframe tbody tr th:only-of-type {\n",
              "        vertical-align: middle;\n",
              "    }\n",
              "\n",
              "    .dataframe tbody tr th {\n",
              "        vertical-align: top;\n",
              "    }\n",
              "\n",
              "    .dataframe thead th {\n",
              "        text-align: right;\n",
              "    }\n",
              "</style>\n",
              "<table border=\"1\" class=\"dataframe\">\n",
              "  <thead>\n",
              "    <tr style=\"text-align: right;\">\n",
              "      <th></th>\n",
              "      <th>name</th>\n",
              "    </tr>\n",
              "  </thead>\n",
              "  <tbody>\n",
              "    <tr>\n",
              "      <th>0</th>\n",
              "      <td>Bill Gates</td>\n",
              "    </tr>\n",
              "    <tr>\n",
              "      <th>1</th>\n",
              "      <td>Danah Boyd</td>\n",
              "    </tr>\n",
              "    <tr>\n",
              "      <th>2</th>\n",
              "      <td>Hillary Mason</td>\n",
              "    </tr>\n",
              "    <tr>\n",
              "      <th>3</th>\n",
              "      <td>Marissa Mayer</td>\n",
              "    </tr>\n",
              "    <tr>\n",
              "      <th>4</th>\n",
              "      <td>Mark Zuckerberg</td>\n",
              "    </tr>\n",
              "    <tr>\n",
              "      <th>5</th>\n",
              "      <td>Mike Olson</td>\n",
              "    </tr>\n",
              "    <tr>\n",
              "      <th>6</th>\n",
              "      <td>Sergey Brin</td>\n",
              "    </tr>\n",
              "    <tr>\n",
              "      <th>7</th>\n",
              "      <td>Sheryl Sandberg</td>\n",
              "    </tr>\n",
              "    <tr>\n",
              "      <th>8</th>\n",
              "      <td>Susan Wojcicki</td>\n",
              "    </tr>\n",
              "    <tr>\n",
              "      <th>9</th>\n",
              "      <td>Tsz Yi Yeung</td>\n",
              "    </tr>\n",
              "  </tbody>\n",
              "</table>\n",
              "</div>"
            ],
            "text/plain": [
              "              name\n",
              "0       Bill Gates\n",
              "1       Danah Boyd\n",
              "2    Hillary Mason\n",
              "3    Marissa Mayer\n",
              "4  Mark Zuckerberg\n",
              "5       Mike Olson\n",
              "6      Sergey Brin\n",
              "7  Sheryl Sandberg\n",
              "8   Susan Wojcicki\n",
              "9     Tsz Yi Yeung"
            ]
          },
          "metadata": {
            "tags": []
          },
          "execution_count": 83
        }
      ]
    },
    {
      "cell_type": "code",
      "metadata": {
        "id": "Vi_u6EdlgsMk",
        "outputId": "41b60278-7f80-4b60-d133-7c2c38618d77",
        "colab": {
          "base_uri": "https://localhost:8080/",
          "height": 359
        }
      },
      "source": [
        "# TASK 3: Output the name and department columns in the same Pandas\n",
        "# DataFrame.  Hint, multiple column names are separated by commas\n",
        "# in the SELECT part of the query.\n",
        "\n",
        "sql_expr = \"\"\"\n",
        "SELECT name,dept\n",
        "FROM students;\n",
        "\"\"\"\n",
        "pd.read_sql(sql_expr, sqlite_engine)"
      ],
      "execution_count": null,
      "outputs": [
        {
          "output_type": "execute_result",
          "data": {
            "text/html": [
              "<div>\n",
              "<style scoped>\n",
              "    .dataframe tbody tr th:only-of-type {\n",
              "        vertical-align: middle;\n",
              "    }\n",
              "\n",
              "    .dataframe tbody tr th {\n",
              "        vertical-align: top;\n",
              "    }\n",
              "\n",
              "    .dataframe thead th {\n",
              "        text-align: right;\n",
              "    }\n",
              "</style>\n",
              "<table border=\"1\" class=\"dataframe\">\n",
              "  <thead>\n",
              "    <tr style=\"text-align: right;\">\n",
              "      <th></th>\n",
              "      <th>name</th>\n",
              "      <th>dept</th>\n",
              "    </tr>\n",
              "  </thead>\n",
              "  <tbody>\n",
              "    <tr>\n",
              "      <th>0</th>\n",
              "      <td>Danah Boyd</td>\n",
              "      <td>CS</td>\n",
              "    </tr>\n",
              "    <tr>\n",
              "      <th>1</th>\n",
              "      <td>Bill Gates</td>\n",
              "      <td>CS</td>\n",
              "    </tr>\n",
              "    <tr>\n",
              "      <th>2</th>\n",
              "      <td>Hillary Mason</td>\n",
              "      <td>DATASCI</td>\n",
              "    </tr>\n",
              "    <tr>\n",
              "      <th>3</th>\n",
              "      <td>Mike Olson</td>\n",
              "      <td>CS</td>\n",
              "    </tr>\n",
              "    <tr>\n",
              "      <th>4</th>\n",
              "      <td>Mark Zuckerberg</td>\n",
              "      <td>CS</td>\n",
              "    </tr>\n",
              "    <tr>\n",
              "      <th>5</th>\n",
              "      <td>Sheryl Sandberg</td>\n",
              "      <td>BUSINESS</td>\n",
              "    </tr>\n",
              "    <tr>\n",
              "      <th>6</th>\n",
              "      <td>Susan Wojcicki</td>\n",
              "      <td>BUSINESS</td>\n",
              "    </tr>\n",
              "    <tr>\n",
              "      <th>7</th>\n",
              "      <td>Marissa Mayer</td>\n",
              "      <td>BUSINESS</td>\n",
              "    </tr>\n",
              "    <tr>\n",
              "      <th>8</th>\n",
              "      <td>Tsz Yi Yeung</td>\n",
              "      <td>CS</td>\n",
              "    </tr>\n",
              "    <tr>\n",
              "      <th>9</th>\n",
              "      <td>Sergey Brin</td>\n",
              "      <td>CS</td>\n",
              "    </tr>\n",
              "  </tbody>\n",
              "</table>\n",
              "</div>"
            ],
            "text/plain": [
              "              name      dept\n",
              "0       Danah Boyd        CS\n",
              "1       Bill Gates        CS\n",
              "2    Hillary Mason   DATASCI\n",
              "3       Mike Olson        CS\n",
              "4  Mark Zuckerberg        CS\n",
              "5  Sheryl Sandberg  BUSINESS\n",
              "6   Susan Wojcicki  BUSINESS\n",
              "7    Marissa Mayer  BUSINESS\n",
              "8     Tsz Yi Yeung        CS\n",
              "9      Sergey Brin        CS"
            ]
          },
          "metadata": {
            "tags": []
          },
          "execution_count": 84
        }
      ]
    },
    {
      "cell_type": "markdown",
      "metadata": {
        "id": "DYIM9BdrgsMl"
      },
      "source": [
        "### Functions in the Selection List\n",
        "SQL has a wide range of functions that can be applied to each attribute in the select list. Notice that we can alias (name) the columns with `AS`. The complete list of built in PostreSQL functions is available [here](https://www.postgresql.org/docs/9.2/functions.html)."
      ]
    },
    {
      "cell_type": "code",
      "metadata": {
        "id": "OrkBd7FkgsMm",
        "outputId": "b4b16a5e-c0b4-4987-c57f-3c3d98969fa0",
        "colab": {
          "base_uri": "https://localhost:8080/",
          "height": 359
        }
      },
      "source": [
        "sql_expr = \"\"\"\n",
        "SELECT UPPER(name) AS n, LOWER(dept) as d, gpa/4.0 AS GPA_ratio\n",
        "FROM students;\n",
        "\"\"\"\n",
        "pd.read_sql(sql_expr, sqlite_engine)"
      ],
      "execution_count": null,
      "outputs": [
        {
          "output_type": "execute_result",
          "data": {
            "text/html": [
              "<div>\n",
              "<style scoped>\n",
              "    .dataframe tbody tr th:only-of-type {\n",
              "        vertical-align: middle;\n",
              "    }\n",
              "\n",
              "    .dataframe tbody tr th {\n",
              "        vertical-align: top;\n",
              "    }\n",
              "\n",
              "    .dataframe thead th {\n",
              "        text-align: right;\n",
              "    }\n",
              "</style>\n",
              "<table border=\"1\" class=\"dataframe\">\n",
              "  <thead>\n",
              "    <tr style=\"text-align: right;\">\n",
              "      <th></th>\n",
              "      <th>n</th>\n",
              "      <th>d</th>\n",
              "      <th>GPA_ratio</th>\n",
              "    </tr>\n",
              "  </thead>\n",
              "  <tbody>\n",
              "    <tr>\n",
              "      <th>0</th>\n",
              "      <td>DANAH BOYD</td>\n",
              "      <td>cs</td>\n",
              "      <td>0.975</td>\n",
              "    </tr>\n",
              "    <tr>\n",
              "      <th>1</th>\n",
              "      <td>BILL GATES</td>\n",
              "      <td>cs</td>\n",
              "      <td>0.500</td>\n",
              "    </tr>\n",
              "    <tr>\n",
              "      <th>2</th>\n",
              "      <td>HILLARY MASON</td>\n",
              "      <td>datasci</td>\n",
              "      <td>1.000</td>\n",
              "    </tr>\n",
              "    <tr>\n",
              "      <th>3</th>\n",
              "      <td>MIKE OLSON</td>\n",
              "      <td>cs</td>\n",
              "      <td>0.925</td>\n",
              "    </tr>\n",
              "    <tr>\n",
              "      <th>4</th>\n",
              "      <td>MARK ZUCKERBERG</td>\n",
              "      <td>cs</td>\n",
              "      <td>1.000</td>\n",
              "    </tr>\n",
              "    <tr>\n",
              "      <th>5</th>\n",
              "      <td>SHERYL SANDBERG</td>\n",
              "      <td>business</td>\n",
              "      <td>1.000</td>\n",
              "    </tr>\n",
              "    <tr>\n",
              "      <th>6</th>\n",
              "      <td>SUSAN WOJCICKI</td>\n",
              "      <td>business</td>\n",
              "      <td>1.000</td>\n",
              "    </tr>\n",
              "    <tr>\n",
              "      <th>7</th>\n",
              "      <td>MARISSA MAYER</td>\n",
              "      <td>business</td>\n",
              "      <td>1.000</td>\n",
              "    </tr>\n",
              "    <tr>\n",
              "      <th>8</th>\n",
              "      <td>TSZ YI YEUNG</td>\n",
              "      <td>cs</td>\n",
              "      <td>1.000</td>\n",
              "    </tr>\n",
              "    <tr>\n",
              "      <th>9</th>\n",
              "      <td>SERGEY BRIN</td>\n",
              "      <td>cs</td>\n",
              "      <td>1.000</td>\n",
              "    </tr>\n",
              "  </tbody>\n",
              "</table>\n",
              "</div>"
            ],
            "text/plain": [
              "                 n         d  GPA_ratio\n",
              "0       DANAH BOYD        cs      0.975\n",
              "1       BILL GATES        cs      0.500\n",
              "2    HILLARY MASON   datasci      1.000\n",
              "3       MIKE OLSON        cs      0.925\n",
              "4  MARK ZUCKERBERG        cs      1.000\n",
              "5  SHERYL SANDBERG  business      1.000\n",
              "6   SUSAN WOJCICKI  business      1.000\n",
              "7    MARISSA MAYER  business      1.000\n",
              "8     TSZ YI YEUNG        cs      1.000\n",
              "9      SERGEY BRIN        cs      1.000"
            ]
          },
          "metadata": {
            "tags": []
          },
          "execution_count": 85
        }
      ]
    },
    {
      "cell_type": "markdown",
      "metadata": {
        "id": "40MUqp9ugsMn"
      },
      "source": [
        "Unfortunately, sqlite has very limited functionality. However, most modern full featured database management systems will offer a rich set of transformations."
      ]
    },
    {
      "cell_type": "markdown",
      "metadata": {
        "id": "ZwW8-nuJgsMo"
      },
      "source": [
        "### Selecting Distinct Rows\n",
        "As we know, SQL is a multiset logic, preserving the meaning of the number of duplicates in query results. Sometimes, however, we don't want to keep the duplicates, we want to eliminate them. This is done simply by adding the keyword `DISTINCT` after the `SELECT` statement:"
      ]
    },
    {
      "cell_type": "code",
      "metadata": {
        "id": "yexYW2MkgsMo",
        "outputId": "ac22794f-f0af-4bce-e2ee-da4210ff7f27",
        "colab": {
          "base_uri": "https://localhost:8080/",
          "height": 142
        }
      },
      "source": [
        "sql_expr = \"\"\"\n",
        "SELECT DISTINCT dept\n",
        "FROM students;\n",
        "\"\"\"\n",
        "pd.read_sql(sql_expr, sqlite_engine)"
      ],
      "execution_count": null,
      "outputs": [
        {
          "output_type": "execute_result",
          "data": {
            "text/html": [
              "<div>\n",
              "<style scoped>\n",
              "    .dataframe tbody tr th:only-of-type {\n",
              "        vertical-align: middle;\n",
              "    }\n",
              "\n",
              "    .dataframe tbody tr th {\n",
              "        vertical-align: top;\n",
              "    }\n",
              "\n",
              "    .dataframe thead th {\n",
              "        text-align: right;\n",
              "    }\n",
              "</style>\n",
              "<table border=\"1\" class=\"dataframe\">\n",
              "  <thead>\n",
              "    <tr style=\"text-align: right;\">\n",
              "      <th></th>\n",
              "      <th>dept</th>\n",
              "    </tr>\n",
              "  </thead>\n",
              "  <tbody>\n",
              "    <tr>\n",
              "      <th>0</th>\n",
              "      <td>CS</td>\n",
              "    </tr>\n",
              "    <tr>\n",
              "      <th>1</th>\n",
              "      <td>DATASCI</td>\n",
              "    </tr>\n",
              "    <tr>\n",
              "      <th>2</th>\n",
              "      <td>BUSINESS</td>\n",
              "    </tr>\n",
              "  </tbody>\n",
              "</table>\n",
              "</div>"
            ],
            "text/plain": [
              "       dept\n",
              "0        CS\n",
              "1   DATASCI\n",
              "2  BUSINESS"
            ]
          },
          "metadata": {
            "tags": []
          },
          "execution_count": 86
        }
      ]
    },
    {
      "cell_type": "markdown",
      "metadata": {
        "id": "SKXRDkJrgsMq"
      },
      "source": [
        "Which rows are used when taking the distinct entries? Does it really matter?"
      ]
    },
    {
      "cell_type": "markdown",
      "metadata": {
        "id": "60xPRuxSgsMx"
      },
      "source": [
        "### The `WHERE` Clause\n",
        "The `WHERE` clause determines which rows of to include by specifying a predicate (boolean expression). Rows (tuples) that satisfy this expression are returned."
      ]
    },
    {
      "cell_type": "code",
      "metadata": {
        "id": "3THKe_FJgsMy",
        "outputId": "328b0a19-cd73-4df3-d677-7a78d2e45b96",
        "colab": {
          "base_uri": "https://localhost:8080/",
          "height": 235
        }
      },
      "source": [
        "sql_expr = \"\"\"\n",
        "SELECT name, gpa\n",
        "FROM students\n",
        "WHERE dept = 'CS'\n",
        "\"\"\"\n",
        "pd.read_sql(sql_expr, sqlite_engine)"
      ],
      "execution_count": null,
      "outputs": [
        {
          "output_type": "execute_result",
          "data": {
            "text/html": [
              "<div>\n",
              "<style scoped>\n",
              "    .dataframe tbody tr th:only-of-type {\n",
              "        vertical-align: middle;\n",
              "    }\n",
              "\n",
              "    .dataframe tbody tr th {\n",
              "        vertical-align: top;\n",
              "    }\n",
              "\n",
              "    .dataframe thead th {\n",
              "        text-align: right;\n",
              "    }\n",
              "</style>\n",
              "<table border=\"1\" class=\"dataframe\">\n",
              "  <thead>\n",
              "    <tr style=\"text-align: right;\">\n",
              "      <th></th>\n",
              "      <th>name</th>\n",
              "      <th>gpa</th>\n",
              "    </tr>\n",
              "  </thead>\n",
              "  <tbody>\n",
              "    <tr>\n",
              "      <th>0</th>\n",
              "      <td>Danah Boyd</td>\n",
              "      <td>3.9</td>\n",
              "    </tr>\n",
              "    <tr>\n",
              "      <th>1</th>\n",
              "      <td>Bill Gates</td>\n",
              "      <td>2.0</td>\n",
              "    </tr>\n",
              "    <tr>\n",
              "      <th>2</th>\n",
              "      <td>Mike Olson</td>\n",
              "      <td>3.7</td>\n",
              "    </tr>\n",
              "    <tr>\n",
              "      <th>3</th>\n",
              "      <td>Mark Zuckerberg</td>\n",
              "      <td>4.0</td>\n",
              "    </tr>\n",
              "    <tr>\n",
              "      <th>4</th>\n",
              "      <td>Tsz Yi Yeung</td>\n",
              "      <td>4.0</td>\n",
              "    </tr>\n",
              "    <tr>\n",
              "      <th>5</th>\n",
              "      <td>Sergey Brin</td>\n",
              "      <td>4.0</td>\n",
              "    </tr>\n",
              "  </tbody>\n",
              "</table>\n",
              "</div>"
            ],
            "text/plain": [
              "              name  gpa\n",
              "0       Danah Boyd  3.9\n",
              "1       Bill Gates  2.0\n",
              "2       Mike Olson  3.7\n",
              "3  Mark Zuckerberg  4.0\n",
              "4     Tsz Yi Yeung  4.0\n",
              "5      Sergey Brin  4.0"
            ]
          },
          "metadata": {
            "tags": []
          },
          "execution_count": 87
        }
      ]
    },
    {
      "cell_type": "markdown",
      "metadata": {
        "id": "1JhXRrrxgsM0"
      },
      "source": [
        "And of course we can specify both rows and columns explicitly. If we have a primary key, we can filter things down to even the cell level via a select list of one column, and a where clause checking equality on the primary key columns:"
      ]
    },
    {
      "cell_type": "code",
      "metadata": {
        "id": "Nl32Htd5gsM1",
        "outputId": "ea302e7f-d16f-40c9-acaa-b1dbf2177a40",
        "colab": {
          "base_uri": "https://localhost:8080/",
          "height": 80
        }
      },
      "source": [
        "sql_expr = \"\"\"\n",
        "SELECT gpa\n",
        "FROM students\n",
        "WHERE name = 'Bill Gates';\n",
        "\"\"\"\n",
        "pd.read_sql(sql_expr, sqlite_engine)"
      ],
      "execution_count": null,
      "outputs": [
        {
          "output_type": "execute_result",
          "data": {
            "text/html": [
              "<div>\n",
              "<style scoped>\n",
              "    .dataframe tbody tr th:only-of-type {\n",
              "        vertical-align: middle;\n",
              "    }\n",
              "\n",
              "    .dataframe tbody tr th {\n",
              "        vertical-align: top;\n",
              "    }\n",
              "\n",
              "    .dataframe thead th {\n",
              "        text-align: right;\n",
              "    }\n",
              "</style>\n",
              "<table border=\"1\" class=\"dataframe\">\n",
              "  <thead>\n",
              "    <tr style=\"text-align: right;\">\n",
              "      <th></th>\n",
              "      <th>gpa</th>\n",
              "    </tr>\n",
              "  </thead>\n",
              "  <tbody>\n",
              "    <tr>\n",
              "      <th>0</th>\n",
              "      <td>2.0</td>\n",
              "    </tr>\n",
              "  </tbody>\n",
              "</table>\n",
              "</div>"
            ],
            "text/plain": [
              "   gpa\n",
              "0  2.0"
            ]
          },
          "metadata": {
            "tags": []
          },
          "execution_count": 88
        }
      ]
    },
    {
      "cell_type": "markdown",
      "metadata": {
        "id": "6BfEypoNgsM2"
      },
      "source": [
        "### SQL is Closed Over Tables!\n",
        "Note that even this \"single-celled\" response still has a uniform data type of a *relation*.\n",
        "\n",
        "SQL expressions take in tables and always produce tables. How does this compare to Pandas?\n",
        "\n",
        "Now that you can slice and dice tables into columns, rows and cells, you have enough knowledge to poke around in a database. Let's move on to skills that you'll need as a data scientist."
      ]
    },
    {
      "cell_type": "markdown",
      "metadata": {
        "id": "5Akq1jdbgsM3"
      },
      "source": [
        "## Group By Aggregation\n",
        "`GROUP BY` aggregation in SQL is a lot like the group by in Pandas. SQL provides a family of `[aggregate functions]` for use in the `select` clause. In the simplest form, queries with aggregates in the `select` clause generate a single row of output, with each aggregate function performing a summary of all the rows of input. You can have many aggregate functions in your select clause:\n",
        "\n",
        "A list of built-in aggregate functions in PostgreSQL is [here](https://www.postgresql.org/docs/current/functions-aggregate.html). In our case, the query we are looking for is as follows.\n",
        "\n",
        "In the following we compute the average GPA as well as the number of students in each department:"
      ]
    },
    {
      "cell_type": "code",
      "metadata": {
        "id": "Zl5qYEs4gsM3",
        "outputId": "0f5a9be3-e94a-406a-ee9f-a3dca46b0b84",
        "colab": {
          "base_uri": "https://localhost:8080/",
          "height": 142
        }
      },
      "source": [
        "sql_expr = \"\"\"\n",
        "SELECT dept, AVG(gpa) as avg_gpa, COUNT(*) as count\n",
        "FROM students\n",
        "GROUP BY dept\n",
        "\"\"\"\n",
        "pd.read_sql(sql_expr, sqlite_engine)"
      ],
      "execution_count": null,
      "outputs": [
        {
          "output_type": "execute_result",
          "data": {
            "text/html": [
              "<div>\n",
              "<style scoped>\n",
              "    .dataframe tbody tr th:only-of-type {\n",
              "        vertical-align: middle;\n",
              "    }\n",
              "\n",
              "    .dataframe tbody tr th {\n",
              "        vertical-align: top;\n",
              "    }\n",
              "\n",
              "    .dataframe thead th {\n",
              "        text-align: right;\n",
              "    }\n",
              "</style>\n",
              "<table border=\"1\" class=\"dataframe\">\n",
              "  <thead>\n",
              "    <tr style=\"text-align: right;\">\n",
              "      <th></th>\n",
              "      <th>dept</th>\n",
              "      <th>avg_gpa</th>\n",
              "      <th>count</th>\n",
              "    </tr>\n",
              "  </thead>\n",
              "  <tbody>\n",
              "    <tr>\n",
              "      <th>0</th>\n",
              "      <td>BUSINESS</td>\n",
              "      <td>4.0</td>\n",
              "      <td>3</td>\n",
              "    </tr>\n",
              "    <tr>\n",
              "      <th>1</th>\n",
              "      <td>CS</td>\n",
              "      <td>3.6</td>\n",
              "      <td>6</td>\n",
              "    </tr>\n",
              "    <tr>\n",
              "      <th>2</th>\n",
              "      <td>DATASCI</td>\n",
              "      <td>4.0</td>\n",
              "      <td>1</td>\n",
              "    </tr>\n",
              "  </tbody>\n",
              "</table>\n",
              "</div>"
            ],
            "text/plain": [
              "       dept  avg_gpa  count\n",
              "0  BUSINESS      4.0      3\n",
              "1        CS      3.6      6\n",
              "2   DATASCI      4.0      1"
            ]
          },
          "metadata": {
            "tags": []
          },
          "execution_count": 89
        }
      ]
    },
    {
      "cell_type": "markdown",
      "metadata": {
        "id": "q1tfGVe7gsM5"
      },
      "source": [
        "We can use the `HAVING` clause to apply a predicate to groups."
      ]
    },
    {
      "cell_type": "code",
      "metadata": {
        "id": "xvPKxwdogsM5",
        "outputId": "147ed693-4e5d-47d2-98f5-077f85c783a4",
        "colab": {
          "base_uri": "https://localhost:8080/",
          "height": 111
        }
      },
      "source": [
        "sql_expr = \"\"\"\n",
        "SELECT dept, AVG(gpa) as avg_gpa, COUNT(*)\n",
        "FROM students\n",
        "GROUP BY dept\n",
        "HAVING COUNT(*) >= 2\n",
        "\"\"\"\n",
        "pd.read_sql(sql_expr, sqlite_engine)"
      ],
      "execution_count": null,
      "outputs": [
        {
          "output_type": "execute_result",
          "data": {
            "text/html": [
              "<div>\n",
              "<style scoped>\n",
              "    .dataframe tbody tr th:only-of-type {\n",
              "        vertical-align: middle;\n",
              "    }\n",
              "\n",
              "    .dataframe tbody tr th {\n",
              "        vertical-align: top;\n",
              "    }\n",
              "\n",
              "    .dataframe thead th {\n",
              "        text-align: right;\n",
              "    }\n",
              "</style>\n",
              "<table border=\"1\" class=\"dataframe\">\n",
              "  <thead>\n",
              "    <tr style=\"text-align: right;\">\n",
              "      <th></th>\n",
              "      <th>dept</th>\n",
              "      <th>avg_gpa</th>\n",
              "      <th>COUNT(*)</th>\n",
              "    </tr>\n",
              "  </thead>\n",
              "  <tbody>\n",
              "    <tr>\n",
              "      <th>0</th>\n",
              "      <td>BUSINESS</td>\n",
              "      <td>4.0</td>\n",
              "      <td>3</td>\n",
              "    </tr>\n",
              "    <tr>\n",
              "      <th>1</th>\n",
              "      <td>CS</td>\n",
              "      <td>3.6</td>\n",
              "      <td>6</td>\n",
              "    </tr>\n",
              "  </tbody>\n",
              "</table>\n",
              "</div>"
            ],
            "text/plain": [
              "       dept  avg_gpa  COUNT(*)\n",
              "0  BUSINESS      4.0         3\n",
              "1        CS      3.6         6"
            ]
          },
          "metadata": {
            "tags": []
          },
          "execution_count": 90
        }
      ]
    },
    {
      "cell_type": "code",
      "metadata": {
        "id": "gqn3feN6gsM7",
        "outputId": "18e722ef-502d-4a7b-a2ed-6b2bfcf4114d",
        "colab": {
          "base_uri": "https://localhost:8080/",
          "height": 111
        }
      },
      "source": [
        "sql_expr = \"\"\"\n",
        "SELECT dept, AVG(gpa) as avg_gpa, COUNT(*) as count\n",
        "FROM students\n",
        "WHERE gender = 'F'\n",
        "GROUP BY dept\n",
        "HAVING COUNT(*) >= 2\n",
        "\"\"\"\n",
        "pd.read_sql(sql_expr, sqlite_engine)"
      ],
      "execution_count": null,
      "outputs": [
        {
          "output_type": "execute_result",
          "data": {
            "text/html": [
              "<div>\n",
              "<style scoped>\n",
              "    .dataframe tbody tr th:only-of-type {\n",
              "        vertical-align: middle;\n",
              "    }\n",
              "\n",
              "    .dataframe tbody tr th {\n",
              "        vertical-align: top;\n",
              "    }\n",
              "\n",
              "    .dataframe thead th {\n",
              "        text-align: right;\n",
              "    }\n",
              "</style>\n",
              "<table border=\"1\" class=\"dataframe\">\n",
              "  <thead>\n",
              "    <tr style=\"text-align: right;\">\n",
              "      <th></th>\n",
              "      <th>dept</th>\n",
              "      <th>avg_gpa</th>\n",
              "      <th>count</th>\n",
              "    </tr>\n",
              "  </thead>\n",
              "  <tbody>\n",
              "    <tr>\n",
              "      <th>0</th>\n",
              "      <td>BUSINESS</td>\n",
              "      <td>4.00</td>\n",
              "      <td>3</td>\n",
              "    </tr>\n",
              "    <tr>\n",
              "      <th>1</th>\n",
              "      <td>CS</td>\n",
              "      <td>3.95</td>\n",
              "      <td>2</td>\n",
              "    </tr>\n",
              "  </tbody>\n",
              "</table>\n",
              "</div>"
            ],
            "text/plain": [
              "       dept  avg_gpa  count\n",
              "0  BUSINESS     4.00      3\n",
              "1        CS     3.95      2"
            ]
          },
          "metadata": {
            "tags": []
          },
          "execution_count": 91
        }
      ]
    },
    {
      "cell_type": "markdown",
      "metadata": {
        "id": "pgsr9-mzgsM8"
      },
      "source": [
        "### Ordering the output\n",
        "As a nicety, SQL allows you to order your output rows, in either ascending (ASC) or descending (DESC) order of the values in columns. For example:"
      ]
    },
    {
      "cell_type": "code",
      "metadata": {
        "id": "Elsohk4GgsM8",
        "outputId": "0abc89e2-bb36-4093-ade0-0c145e91f892",
        "colab": {
          "base_uri": "https://localhost:8080/",
          "height": 359
        }
      },
      "source": [
        "sql_expr = \"\"\"\n",
        "SELECT *\n",
        "FROM students\n",
        "ORDER BY gpa;\n",
        "\"\"\"\n",
        "pd.read_sql(sql_expr, sqlite_engine)"
      ],
      "execution_count": null,
      "outputs": [
        {
          "output_type": "execute_result",
          "data": {
            "text/html": [
              "<div>\n",
              "<style scoped>\n",
              "    .dataframe tbody tr th:only-of-type {\n",
              "        vertical-align: middle;\n",
              "    }\n",
              "\n",
              "    .dataframe tbody tr th {\n",
              "        vertical-align: top;\n",
              "    }\n",
              "\n",
              "    .dataframe thead th {\n",
              "        text-align: right;\n",
              "    }\n",
              "</style>\n",
              "<table border=\"1\" class=\"dataframe\">\n",
              "  <thead>\n",
              "    <tr style=\"text-align: right;\">\n",
              "      <th></th>\n",
              "      <th>name</th>\n",
              "      <th>gpa</th>\n",
              "      <th>age</th>\n",
              "      <th>dept</th>\n",
              "      <th>gender</th>\n",
              "    </tr>\n",
              "  </thead>\n",
              "  <tbody>\n",
              "    <tr>\n",
              "      <th>0</th>\n",
              "      <td>Bill Gates</td>\n",
              "      <td>2.0</td>\n",
              "      <td>64</td>\n",
              "      <td>CS</td>\n",
              "      <td>M</td>\n",
              "    </tr>\n",
              "    <tr>\n",
              "      <th>1</th>\n",
              "      <td>Mike Olson</td>\n",
              "      <td>3.7</td>\n",
              "      <td>56</td>\n",
              "      <td>CS</td>\n",
              "      <td>M</td>\n",
              "    </tr>\n",
              "    <tr>\n",
              "      <th>2</th>\n",
              "      <td>Danah Boyd</td>\n",
              "      <td>3.9</td>\n",
              "      <td>42</td>\n",
              "      <td>CS</td>\n",
              "      <td>F</td>\n",
              "    </tr>\n",
              "    <tr>\n",
              "      <th>3</th>\n",
              "      <td>Hillary Mason</td>\n",
              "      <td>4.0</td>\n",
              "      <td>41</td>\n",
              "      <td>DATASCI</td>\n",
              "      <td>F</td>\n",
              "    </tr>\n",
              "    <tr>\n",
              "      <th>4</th>\n",
              "      <td>Mark Zuckerberg</td>\n",
              "      <td>4.0</td>\n",
              "      <td>35</td>\n",
              "      <td>CS</td>\n",
              "      <td>M</td>\n",
              "    </tr>\n",
              "    <tr>\n",
              "      <th>5</th>\n",
              "      <td>Sheryl Sandberg</td>\n",
              "      <td>4.0</td>\n",
              "      <td>50</td>\n",
              "      <td>BUSINESS</td>\n",
              "      <td>F</td>\n",
              "    </tr>\n",
              "    <tr>\n",
              "      <th>6</th>\n",
              "      <td>Susan Wojcicki</td>\n",
              "      <td>4.0</td>\n",
              "      <td>51</td>\n",
              "      <td>BUSINESS</td>\n",
              "      <td>F</td>\n",
              "    </tr>\n",
              "    <tr>\n",
              "      <th>7</th>\n",
              "      <td>Marissa Mayer</td>\n",
              "      <td>4.0</td>\n",
              "      <td>44</td>\n",
              "      <td>BUSINESS</td>\n",
              "      <td>F</td>\n",
              "    </tr>\n",
              "    <tr>\n",
              "      <th>8</th>\n",
              "      <td>Tsz Yi Yeung</td>\n",
              "      <td>4.0</td>\n",
              "      <td>25</td>\n",
              "      <td>CS</td>\n",
              "      <td>F</td>\n",
              "    </tr>\n",
              "    <tr>\n",
              "      <th>9</th>\n",
              "      <td>Sergey Brin</td>\n",
              "      <td>4.0</td>\n",
              "      <td>40</td>\n",
              "      <td>CS</td>\n",
              "      <td>M</td>\n",
              "    </tr>\n",
              "  </tbody>\n",
              "</table>\n",
              "</div>"
            ],
            "text/plain": [
              "              name  gpa  age      dept gender\n",
              "0       Bill Gates  2.0   64        CS      M\n",
              "1       Mike Olson  3.7   56        CS      M\n",
              "2       Danah Boyd  3.9   42        CS      F\n",
              "3    Hillary Mason  4.0   41   DATASCI      F\n",
              "4  Mark Zuckerberg  4.0   35        CS      M\n",
              "5  Sheryl Sandberg  4.0   50  BUSINESS      F\n",
              "6   Susan Wojcicki  4.0   51  BUSINESS      F\n",
              "7    Marissa Mayer  4.0   44  BUSINESS      F\n",
              "8     Tsz Yi Yeung  4.0   25        CS      F\n",
              "9      Sergey Brin  4.0   40        CS      M"
            ]
          },
          "metadata": {
            "tags": []
          },
          "execution_count": 92
        }
      ]
    },
    {
      "cell_type": "code",
      "metadata": {
        "id": "ehQBLZ1EgsM9",
        "outputId": "e7bc02e7-4624-4d61-dca2-192c722a65a1",
        "colab": {
          "base_uri": "https://localhost:8080/",
          "height": 359
        }
      },
      "source": [
        "sql_expr = \"\"\"\n",
        "SELECT *\n",
        "FROM students\n",
        "ORDER BY gpa, age;\n",
        "\"\"\"\n",
        "pd.read_sql(sql_expr, sqlite_engine)"
      ],
      "execution_count": null,
      "outputs": [
        {
          "output_type": "execute_result",
          "data": {
            "text/html": [
              "<div>\n",
              "<style scoped>\n",
              "    .dataframe tbody tr th:only-of-type {\n",
              "        vertical-align: middle;\n",
              "    }\n",
              "\n",
              "    .dataframe tbody tr th {\n",
              "        vertical-align: top;\n",
              "    }\n",
              "\n",
              "    .dataframe thead th {\n",
              "        text-align: right;\n",
              "    }\n",
              "</style>\n",
              "<table border=\"1\" class=\"dataframe\">\n",
              "  <thead>\n",
              "    <tr style=\"text-align: right;\">\n",
              "      <th></th>\n",
              "      <th>name</th>\n",
              "      <th>gpa</th>\n",
              "      <th>age</th>\n",
              "      <th>dept</th>\n",
              "      <th>gender</th>\n",
              "    </tr>\n",
              "  </thead>\n",
              "  <tbody>\n",
              "    <tr>\n",
              "      <th>0</th>\n",
              "      <td>Bill Gates</td>\n",
              "      <td>2.0</td>\n",
              "      <td>64</td>\n",
              "      <td>CS</td>\n",
              "      <td>M</td>\n",
              "    </tr>\n",
              "    <tr>\n",
              "      <th>1</th>\n",
              "      <td>Mike Olson</td>\n",
              "      <td>3.7</td>\n",
              "      <td>56</td>\n",
              "      <td>CS</td>\n",
              "      <td>M</td>\n",
              "    </tr>\n",
              "    <tr>\n",
              "      <th>2</th>\n",
              "      <td>Danah Boyd</td>\n",
              "      <td>3.9</td>\n",
              "      <td>42</td>\n",
              "      <td>CS</td>\n",
              "      <td>F</td>\n",
              "    </tr>\n",
              "    <tr>\n",
              "      <th>3</th>\n",
              "      <td>Tsz Yi Yeung</td>\n",
              "      <td>4.0</td>\n",
              "      <td>25</td>\n",
              "      <td>CS</td>\n",
              "      <td>F</td>\n",
              "    </tr>\n",
              "    <tr>\n",
              "      <th>4</th>\n",
              "      <td>Mark Zuckerberg</td>\n",
              "      <td>4.0</td>\n",
              "      <td>35</td>\n",
              "      <td>CS</td>\n",
              "      <td>M</td>\n",
              "    </tr>\n",
              "    <tr>\n",
              "      <th>5</th>\n",
              "      <td>Sergey Brin</td>\n",
              "      <td>4.0</td>\n",
              "      <td>40</td>\n",
              "      <td>CS</td>\n",
              "      <td>M</td>\n",
              "    </tr>\n",
              "    <tr>\n",
              "      <th>6</th>\n",
              "      <td>Hillary Mason</td>\n",
              "      <td>4.0</td>\n",
              "      <td>41</td>\n",
              "      <td>DATASCI</td>\n",
              "      <td>F</td>\n",
              "    </tr>\n",
              "    <tr>\n",
              "      <th>7</th>\n",
              "      <td>Marissa Mayer</td>\n",
              "      <td>4.0</td>\n",
              "      <td>44</td>\n",
              "      <td>BUSINESS</td>\n",
              "      <td>F</td>\n",
              "    </tr>\n",
              "    <tr>\n",
              "      <th>8</th>\n",
              "      <td>Sheryl Sandberg</td>\n",
              "      <td>4.0</td>\n",
              "      <td>50</td>\n",
              "      <td>BUSINESS</td>\n",
              "      <td>F</td>\n",
              "    </tr>\n",
              "    <tr>\n",
              "      <th>9</th>\n",
              "      <td>Susan Wojcicki</td>\n",
              "      <td>4.0</td>\n",
              "      <td>51</td>\n",
              "      <td>BUSINESS</td>\n",
              "      <td>F</td>\n",
              "    </tr>\n",
              "  </tbody>\n",
              "</table>\n",
              "</div>"
            ],
            "text/plain": [
              "              name  gpa  age      dept gender\n",
              "0       Bill Gates  2.0   64        CS      M\n",
              "1       Mike Olson  3.7   56        CS      M\n",
              "2       Danah Boyd  3.9   42        CS      F\n",
              "3     Tsz Yi Yeung  4.0   25        CS      F\n",
              "4  Mark Zuckerberg  4.0   35        CS      M\n",
              "5      Sergey Brin  4.0   40        CS      M\n",
              "6    Hillary Mason  4.0   41   DATASCI      F\n",
              "7    Marissa Mayer  4.0   44  BUSINESS      F\n",
              "8  Sheryl Sandberg  4.0   50  BUSINESS      F\n",
              "9   Susan Wojcicki  4.0   51  BUSINESS      F"
            ]
          },
          "metadata": {
            "tags": []
          },
          "execution_count": 93
        }
      ]
    },
    {
      "cell_type": "code",
      "metadata": {
        "id": "ACSHkxsugsM-",
        "outputId": "7ff7ff5c-dc8a-4fb3-936e-bec6c74fed69",
        "colab": {
          "base_uri": "https://localhost:8080/",
          "height": 235
        }
      },
      "source": [
        "# TASK 4 Display the names, gpa and gender of CS students\n",
        "# Order the students, first by gender, then by name \n",
        "sql_expr = \"\"\"\n",
        "SELECT gender, name, gpa\n",
        "FROM students\n",
        "WHERE dept = 'CS'\n",
        "ORDER BY gender, name;\n",
        "\"\"\"\n",
        "pd.read_sql(sql_expr, sqlite_engine)"
      ],
      "execution_count": null,
      "outputs": [
        {
          "output_type": "execute_result",
          "data": {
            "text/html": [
              "<div>\n",
              "<style scoped>\n",
              "    .dataframe tbody tr th:only-of-type {\n",
              "        vertical-align: middle;\n",
              "    }\n",
              "\n",
              "    .dataframe tbody tr th {\n",
              "        vertical-align: top;\n",
              "    }\n",
              "\n",
              "    .dataframe thead th {\n",
              "        text-align: right;\n",
              "    }\n",
              "</style>\n",
              "<table border=\"1\" class=\"dataframe\">\n",
              "  <thead>\n",
              "    <tr style=\"text-align: right;\">\n",
              "      <th></th>\n",
              "      <th>gender</th>\n",
              "      <th>name</th>\n",
              "      <th>gpa</th>\n",
              "    </tr>\n",
              "  </thead>\n",
              "  <tbody>\n",
              "    <tr>\n",
              "      <th>0</th>\n",
              "      <td>F</td>\n",
              "      <td>Danah Boyd</td>\n",
              "      <td>3.9</td>\n",
              "    </tr>\n",
              "    <tr>\n",
              "      <th>1</th>\n",
              "      <td>F</td>\n",
              "      <td>Tsz Yi Yeung</td>\n",
              "      <td>4.0</td>\n",
              "    </tr>\n",
              "    <tr>\n",
              "      <th>2</th>\n",
              "      <td>M</td>\n",
              "      <td>Bill Gates</td>\n",
              "      <td>2.0</td>\n",
              "    </tr>\n",
              "    <tr>\n",
              "      <th>3</th>\n",
              "      <td>M</td>\n",
              "      <td>Mark Zuckerberg</td>\n",
              "      <td>4.0</td>\n",
              "    </tr>\n",
              "    <tr>\n",
              "      <th>4</th>\n",
              "      <td>M</td>\n",
              "      <td>Mike Olson</td>\n",
              "      <td>3.7</td>\n",
              "    </tr>\n",
              "    <tr>\n",
              "      <th>5</th>\n",
              "      <td>M</td>\n",
              "      <td>Sergey Brin</td>\n",
              "      <td>4.0</td>\n",
              "    </tr>\n",
              "  </tbody>\n",
              "</table>\n",
              "</div>"
            ],
            "text/plain": [
              "  gender             name  gpa\n",
              "0      F       Danah Boyd  3.9\n",
              "1      F     Tsz Yi Yeung  4.0\n",
              "2      M       Bill Gates  2.0\n",
              "3      M  Mark Zuckerberg  4.0\n",
              "4      M       Mike Olson  3.7\n",
              "5      M      Sergey Brin  4.0"
            ]
          },
          "metadata": {
            "tags": []
          },
          "execution_count": 94
        }
      ]
    },
    {
      "cell_type": "code",
      "metadata": {
        "id": "Tir1hxvqgsM_",
        "outputId": "7baac02f-1cf6-4e65-b56a-449ed94c329d",
        "colab": {
          "base_uri": "https://localhost:8080/",
          "height": 359
        }
      },
      "source": [
        "sql_expr = \"\"\"\n",
        "SELECT *\n",
        "FROM students\n",
        "ORDER BY gpa DESC, age ASC;\n",
        "\"\"\"\n",
        "pd.read_sql(sql_expr, sqlite_engine)"
      ],
      "execution_count": null,
      "outputs": [
        {
          "output_type": "execute_result",
          "data": {
            "text/html": [
              "<div>\n",
              "<style scoped>\n",
              "    .dataframe tbody tr th:only-of-type {\n",
              "        vertical-align: middle;\n",
              "    }\n",
              "\n",
              "    .dataframe tbody tr th {\n",
              "        vertical-align: top;\n",
              "    }\n",
              "\n",
              "    .dataframe thead th {\n",
              "        text-align: right;\n",
              "    }\n",
              "</style>\n",
              "<table border=\"1\" class=\"dataframe\">\n",
              "  <thead>\n",
              "    <tr style=\"text-align: right;\">\n",
              "      <th></th>\n",
              "      <th>name</th>\n",
              "      <th>gpa</th>\n",
              "      <th>age</th>\n",
              "      <th>dept</th>\n",
              "      <th>gender</th>\n",
              "    </tr>\n",
              "  </thead>\n",
              "  <tbody>\n",
              "    <tr>\n",
              "      <th>0</th>\n",
              "      <td>Tsz Yi Yeung</td>\n",
              "      <td>4.0</td>\n",
              "      <td>25</td>\n",
              "      <td>CS</td>\n",
              "      <td>F</td>\n",
              "    </tr>\n",
              "    <tr>\n",
              "      <th>1</th>\n",
              "      <td>Mark Zuckerberg</td>\n",
              "      <td>4.0</td>\n",
              "      <td>35</td>\n",
              "      <td>CS</td>\n",
              "      <td>M</td>\n",
              "    </tr>\n",
              "    <tr>\n",
              "      <th>2</th>\n",
              "      <td>Sergey Brin</td>\n",
              "      <td>4.0</td>\n",
              "      <td>40</td>\n",
              "      <td>CS</td>\n",
              "      <td>M</td>\n",
              "    </tr>\n",
              "    <tr>\n",
              "      <th>3</th>\n",
              "      <td>Hillary Mason</td>\n",
              "      <td>4.0</td>\n",
              "      <td>41</td>\n",
              "      <td>DATASCI</td>\n",
              "      <td>F</td>\n",
              "    </tr>\n",
              "    <tr>\n",
              "      <th>4</th>\n",
              "      <td>Marissa Mayer</td>\n",
              "      <td>4.0</td>\n",
              "      <td>44</td>\n",
              "      <td>BUSINESS</td>\n",
              "      <td>F</td>\n",
              "    </tr>\n",
              "    <tr>\n",
              "      <th>5</th>\n",
              "      <td>Sheryl Sandberg</td>\n",
              "      <td>4.0</td>\n",
              "      <td>50</td>\n",
              "      <td>BUSINESS</td>\n",
              "      <td>F</td>\n",
              "    </tr>\n",
              "    <tr>\n",
              "      <th>6</th>\n",
              "      <td>Susan Wojcicki</td>\n",
              "      <td>4.0</td>\n",
              "      <td>51</td>\n",
              "      <td>BUSINESS</td>\n",
              "      <td>F</td>\n",
              "    </tr>\n",
              "    <tr>\n",
              "      <th>7</th>\n",
              "      <td>Danah Boyd</td>\n",
              "      <td>3.9</td>\n",
              "      <td>42</td>\n",
              "      <td>CS</td>\n",
              "      <td>F</td>\n",
              "    </tr>\n",
              "    <tr>\n",
              "      <th>8</th>\n",
              "      <td>Mike Olson</td>\n",
              "      <td>3.7</td>\n",
              "      <td>56</td>\n",
              "      <td>CS</td>\n",
              "      <td>M</td>\n",
              "    </tr>\n",
              "    <tr>\n",
              "      <th>9</th>\n",
              "      <td>Bill Gates</td>\n",
              "      <td>2.0</td>\n",
              "      <td>64</td>\n",
              "      <td>CS</td>\n",
              "      <td>M</td>\n",
              "    </tr>\n",
              "  </tbody>\n",
              "</table>\n",
              "</div>"
            ],
            "text/plain": [
              "              name  gpa  age      dept gender\n",
              "0     Tsz Yi Yeung  4.0   25        CS      F\n",
              "1  Mark Zuckerberg  4.0   35        CS      M\n",
              "2      Sergey Brin  4.0   40        CS      M\n",
              "3    Hillary Mason  4.0   41   DATASCI      F\n",
              "4    Marissa Mayer  4.0   44  BUSINESS      F\n",
              "5  Sheryl Sandberg  4.0   50  BUSINESS      F\n",
              "6   Susan Wojcicki  4.0   51  BUSINESS      F\n",
              "7       Danah Boyd  3.9   42        CS      F\n",
              "8       Mike Olson  3.7   56        CS      M\n",
              "9       Bill Gates  2.0   64        CS      M"
            ]
          },
          "metadata": {
            "tags": []
          },
          "execution_count": 95
        }
      ]
    },
    {
      "cell_type": "markdown",
      "metadata": {
        "id": "zentrIrbgsNA"
      },
      "source": [
        "## `LIMIT` Clause\n",
        "The limit clause limits the number of elements returned."
      ]
    },
    {
      "cell_type": "code",
      "metadata": {
        "id": "N-Z5F97ZgsNB",
        "outputId": "246474e1-b2ed-4a3f-c891-b34c67a7b34a",
        "colab": {
          "base_uri": "https://localhost:8080/",
          "height": 142
        }
      },
      "source": [
        "sql_expr = \"\"\"\n",
        "SELECT * FROM students \n",
        "LIMIT 3\n",
        "\"\"\"\n",
        "pd.read_sql(sql_expr, sqlite_engine)"
      ],
      "execution_count": null,
      "outputs": [
        {
          "output_type": "execute_result",
          "data": {
            "text/html": [
              "<div>\n",
              "<style scoped>\n",
              "    .dataframe tbody tr th:only-of-type {\n",
              "        vertical-align: middle;\n",
              "    }\n",
              "\n",
              "    .dataframe tbody tr th {\n",
              "        vertical-align: top;\n",
              "    }\n",
              "\n",
              "    .dataframe thead th {\n",
              "        text-align: right;\n",
              "    }\n",
              "</style>\n",
              "<table border=\"1\" class=\"dataframe\">\n",
              "  <thead>\n",
              "    <tr style=\"text-align: right;\">\n",
              "      <th></th>\n",
              "      <th>name</th>\n",
              "      <th>gpa</th>\n",
              "      <th>age</th>\n",
              "      <th>dept</th>\n",
              "      <th>gender</th>\n",
              "    </tr>\n",
              "  </thead>\n",
              "  <tbody>\n",
              "    <tr>\n",
              "      <th>0</th>\n",
              "      <td>Danah Boyd</td>\n",
              "      <td>3.9</td>\n",
              "      <td>42</td>\n",
              "      <td>CS</td>\n",
              "      <td>F</td>\n",
              "    </tr>\n",
              "    <tr>\n",
              "      <th>1</th>\n",
              "      <td>Bill Gates</td>\n",
              "      <td>2.0</td>\n",
              "      <td>64</td>\n",
              "      <td>CS</td>\n",
              "      <td>M</td>\n",
              "    </tr>\n",
              "    <tr>\n",
              "      <th>2</th>\n",
              "      <td>Hillary Mason</td>\n",
              "      <td>4.0</td>\n",
              "      <td>41</td>\n",
              "      <td>DATASCI</td>\n",
              "      <td>F</td>\n",
              "    </tr>\n",
              "  </tbody>\n",
              "</table>\n",
              "</div>"
            ],
            "text/plain": [
              "            name  gpa  age     dept gender\n",
              "0     Danah Boyd  3.9   42       CS      F\n",
              "1     Bill Gates  2.0   64       CS      M\n",
              "2  Hillary Mason  4.0   41  DATASCI      F"
            ]
          },
          "metadata": {
            "tags": []
          },
          "execution_count": 96
        }
      ]
    },
    {
      "cell_type": "markdown",
      "metadata": {
        "id": "kPIsQ2nigsNE"
      },
      "source": [
        "**Why do we use the `LIMIT` clause?**\n",
        "\n",
        "Often the database we are querying is massive and retrieving the entire table as we are debugging the query can be costly in time and system resources. However, we should avoid using LIMIT when constructing a sample of the data.\n",
        "\n",
        "**Which elements are returned?**\n",
        "\n",
        "While this depends on the order of elements which could be arbitrary beyond anything specified by the ORDER BY clauses.\n",
        "\n",
        "**Is this a random sample?**\n",
        "\n",
        "No, be careful!\n",
        "\n",
        "### Super-Appropriate xkcd\n",
        "\n",
        "<img src=\"https://imgs.xkcd.com/comics/exploits_of_a_mom.png\">"
      ]
    },
    {
      "cell_type": "code",
      "metadata": {
        "id": "L3wZuIougsNF"
      },
      "source": [
        "# Task 5: Point at the comic and laugh because\n",
        "# you get the joke, now that you know about SQL \n",
        "# commands.\n",
        "# hahaha!! That's funny!!"
      ],
      "execution_count": null,
      "outputs": []
    }
  ]
}